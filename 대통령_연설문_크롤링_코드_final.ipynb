{
 "cells": [
  {
   "cell_type": "markdown",
   "id": "13bbad4a",
   "metadata": {},
   "source": [
    "# 필요한 라이브러리 임포트"
   ]
  },
  {
   "cell_type": "code",
   "execution_count": 1,
   "id": "561db719",
   "metadata": {},
   "outputs": [],
   "source": [
    "import chardet\n",
    "import csv\n",
    "import os\n",
    "import re\n",
    "import time\n",
    "from bs4 import BeautifulSoup\n",
    "from selenium import webdriver\n",
    "from selenium.common.exceptions import NoSuchElementException\n",
    "from selenium.webdriver.chrome.service import Service\n",
    "from selenium.webdriver.common.action_chains import ActionChains\n",
    "from selenium.webdriver.common.by import By\n",
    "from selenium.webdriver.support import expected_conditions as EC\n",
    "from selenium.webdriver.support.ui import WebDriverWait"
   ]
  },
  {
   "cell_type": "markdown",
   "id": "45f346a9",
   "metadata": {},
   "source": [
    "# 크롬 드라이버 설정"
   ]
  },
  {
   "cell_type": "code",
   "execution_count": 2,
   "id": "d228aaf0",
   "metadata": {},
   "outputs": [],
   "source": [
    "# 크롬드라이버 서비스를 설정합니다.\n",
    "service = Service('./chromedriver')\n",
    "driver = webdriver.Chrome(service=service)"
   ]
  },
  {
   "cell_type": "markdown",
   "id": "092caede",
   "metadata": {},
   "source": [
    "# 크롬 드라이버 열기"
   ]
  },
  {
   "cell_type": "code",
   "execution_count": 3,
   "id": "b1c8b037",
   "metadata": {},
   "outputs": [],
   "source": [
    "# 대한민국 대통령 연설문 페이지에 접속합니다.\n",
    "driver.get('https://www.pa.go.kr/research/contents/speech/index.jsp')"
   ]
  },
  {
   "cell_type": "markdown",
   "id": "58ac7195",
   "metadata": {},
   "source": [
    "# 웹페이지 내부 크롤링"
   ]
  },
  {
   "cell_type": "code",
   "execution_count": null,
   "id": "e37399c5",
   "metadata": {},
   "outputs": [],
   "source": [
    "# 특수 문자를 제외한 모든 문자를 유효한 문자로 변환하는 테이블 생성\n",
    "valid_chars = {ord(c): \"_\" for c in f'{\"abcdefghijklmnopqrstuvwxyzABCDEFGHIJKLMNOPQRSTUVWXYZ0123456789_ \"}'}\n",
    "\n",
    "def get_unique_file_name(file_name, output_dir):\n",
    "    index = 1\n",
    "    unique_file_name = file_name\n",
    "    while os.path.exists(os.path.join(output_dir, unique_file_name)):\n",
    "        name, ext = os.path.splitext(file_name)\n",
    "        unique_file_name = f\"{name}_{index}{ext}\"\n",
    "        index += 1\n",
    "    return unique_file_name\n",
    "\n",
    "# 무한 루프를 생성하여 웹 페이지를 계속해서 크롤링\n",
    "while True:\n",
    "    # 각 페이지의 메뉴 항목을 반복 처리\n",
    "    for i in range(3, 14):\n",
    "        xpath = f\"/html/body/main/div/form[1]/nav[2]/ul/li[{i}]\"\n",
    "        element = WebDriverWait(driver, 10).until(EC.element_to_be_clickable((By.XPATH, xpath)))\n",
    "        element.click()\n",
    "        elements1 = driver.find_elements(By.CSS_SELECTOR, '#M_More > tr')\n",
    "        time.sleep(1)\n",
    "\n",
    "        # 웹 페이지의 소스를 가져옴\n",
    "        soup1 = BeautifulSoup(driver.page_source, 'html.parser')\n",
    "\n",
    "        # 각 연설문 항목을 반복 처리\n",
    "        for num_elements1 in range(len(elements1)):\n",
    "            \n",
    "            xpath1 = f\"/html/body/main/div/form[1]/table/tbody/tr[{num_elements1 + 1}]/td[5]/a\"\n",
    "            soup1 = BeautifulSoup(driver.page_source, 'html.parser')\n",
    "            speech_num = soup1.select_one(f'#M_More > tr:nth-child({num_elements1 + 1}) > td:nth-child(1)')\n",
    "            \n",
    "            # 각 연설문 항목의 xpath를 생성\n",
    "            element1 = WebDriverWait(driver, 10).until(EC.element_to_be_clickable((By.XPATH, xpath1)))\n",
    "            element1.click()\n",
    "            \n",
    "            elements2 = driver.find_elements(By.XPATH, '/html/body/div[2]/div[1]/div/div[2]/div/ul/li')\n",
    "            \n",
    "            soup2 = BeautifulSoup(driver.page_source, 'html.parser')\n",
    "            speech_num = soup1.select_one(f'#M_More > tr:nth-child({num_elements1 + 1}) > td:nth-child(1)')\n",
    "            speech_person = soup1.select_one(f'#M_More > tr:nth-child({num_elements1 + 1}) > td:nth-child(2) > a')\n",
    "            speech_form = soup1.select_one(f'#M_More > tr:nth-child({num_elements1 + 1}) > td:nth-child(4) > a')\n",
    "            speech_title = soup1.select_one(f'#M_More > tr:nth-child({num_elements1 + 1}) > td:nth-child(5) > a')\n",
    "            speech_days = soup1.select_one(f'#M_More > tr:nth-child({num_elements1 + 1}) > td:nth-child(6)')\n",
    "            content_tag = soup2.select_one('#content > div > table > tbody > tr:nth-child(4) > td')\n",
    " \n",
    "            # 파일 이름 생성\n",
    "                    # 파일 이름 생성\n",
    "            file_title = speech_title.text.strip().replace('/', '-').replace('\\\\', '').replace('\\'', '').replace('\\\"', '').replace('<', '').replace('>', '').replace(':', '').replace('*', '').replace('?', '').replace('|', '').replace('\\n', '').replace('\\r', '')\n",
    "            file_name = f'{file_title}.csv'  # 파일 이름을 생성합니다.\n",
    "\n",
    "            # 파일 경로 생성\n",
    "            output_dir = \"Every President's Speech\"  # 파일이 저장될 디렉터리 이름\n",
    "            if not os.path.exists(output_dir):  # 디렉터리가 존재하지 않으면 생성\n",
    "                os.makedirs(output_dir)\n",
    "\n",
    "            # 중복되지 않는 파일 이름 생성\n",
    "            unique_file_name = get_unique_file_name(file_name, output_dir)\n",
    "            file_path = os.path.join(output_dir, unique_file_name)\n",
    "\n",
    "            # CSV 파일로 저장\n",
    "            with open(file_path, 'w', encoding='utf-8', newline='') as f:\n",
    "                csv_writer = csv.writer(f)\n",
    "                csv_writer.writerow([speech_num, speech_title, speech_person, speech_form, speech_days, content_tag.text])\n",
    "\n",
    "            # 카테고리로 돌아가기 위해 클릭\n",
    "            try:\n",
    "                category = driver.find_element(By.XPATH, '/html/body/main/div/div/div/a[2]')\n",
    "            except NoSuchElementException:\n",
    "                category = driver.find_element(By.XPATH, '/html/body/main/div/div/div/a')\n",
    "\n",
    "            category.click()\n",
    "\n",
    "        # 조건에 해당하는 연설문이 발견되면 루프 종료\n",
    "        if file_title == \"조계종 제15대 종정 추대 법회\":\n",
    "            break\n",
    "\n",
    "    # 조건에 해당하는 연설문이 발견되면 루프 종료\n",
    "    if file_title == \"조계종 제15대 종정 추대 법회\":\n",
    "        break\n"
   ]
  },
  {
   "cell_type": "markdown",
   "id": "0f61b8ed",
   "metadata": {},
   "source": [
    "# 줄바꿈 제거"
   ]
  },
  {
   "cell_type": "code",
   "execution_count": null,
   "id": "bcf6c7c5",
   "metadata": {},
   "outputs": [],
   "source": [
    "# CSV 파일이 있는 최상위 디렉토리 경로\n",
    "directory = r\"C:\\Users\\Admin\\Desktop\\for_code\\Every President's Speech3\"\n",
    "\n",
    "# 디렉토리와 하위 폴더에서 모든 CSV 파일을 가져와서 처리\n",
    "for root, dirs, files in os.walk(directory):\n",
    "    for filename in files:\n",
    "        if filename.endswith(\".csv\"):\n",
    "            file_path = os.path.join(root, filename)\n",
    "            # CSV 파일 열기\n",
    "            with open(file_path, 'rb') as f:\n",
    "                # 파일 내용 읽어오기\n",
    "                content = f.read()\n",
    "                # 파일 인코딩 감지\n",
    "                encoding = chardet.detect(content)['encoding']\n",
    "            # 파일 읽기 (인코딩 설정 추가)\n",
    "            with open(file_path, 'r', encoding=encoding) as f:\n",
    "                # 파일 내용 읽어오기\n",
    "                content = f.read()\n",
    "            # 파일 내용의 개행 문자와 탭 문자 제거\n",
    "            content = content.replace('\\n', '').replace('\\t', '').replace('Wr', '')\n",
    "            # CSV 파일 다시 쓰기\n",
    "            with open(file_path, 'w', encoding=encoding, newline='') as f:\n",
    "                f.write(content)"
   ]
  },
  {
   "cell_type": "markdown",
   "id": "69c1c6a1",
   "metadata": {},
   "source": [
    "# 엑셀 파일 누락값 확인기"
   ]
  },
  {
   "cell_type": "code",
   "execution_count": null,
   "id": "ce8c683e",
   "metadata": {},
   "outputs": [],
   "source": [
    "import pandas as pd\n",
    "\n",
    "# 저장된 CSV 파일 경로를 입력하세요.\n",
    "file_path = \"/Users/Admin/Desktop/전체 대통령 파일2.csv\"\n",
    "\n",
    "# CSV 파일을 읽어옵니다.\n",
    "data = pd.read_csv(file_path)\n",
    "\n",
    "# 1번 컬럼의 값들을 가져옵니다.\n",
    "column_values = data.iloc[:, 0].values\n",
    "\n",
    "# 1부터 8565까지의 연속된 값들을 생성합니다.\n",
    "expected_values = set(range(1, 8566))\n",
    "\n",
    "# 실제 컬럼 값들과 비교하여 빠져 있는 값들을 찾습니다.\n",
    "missing_values = expected_values - set(column_values)\n",
    "\n",
    "# 결과를 출력합니다.\n",
    "if missing_values:\n",
    "    print(f\"다음 값들이 빠져 있습니다: {sorted(missing_values)}\")\n",
    "else:\n",
    "    print(\"1번 컬럼은 1부터 8565까지 끊기는 부분 없이 이어집니다.\")"
   ]
  }
 ],
 "metadata": {
  "kernelspec": {
   "display_name": "Python 3 (ipykernel)",
   "language": "python",
   "name": "python3"
  },
  "language_info": {
   "codemirror_mode": {
    "name": "ipython",
    "version": 3
   },
   "file_extension": ".py",
   "mimetype": "text/x-python",
   "name": "python",
   "nbconvert_exporter": "python",
   "pygments_lexer": "ipython3",
   "version": "3.10.9"
  }
 },
 "nbformat": 4,
 "nbformat_minor": 5
}
