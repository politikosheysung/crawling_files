{
 "cells": [
  {
   "cell_type": "markdown",
   "id": "e13dec83",
   "metadata": {},
   "source": [
    "# 성공"
   ]
  },
  {
   "cell_type": "code",
   "execution_count": 1,
   "id": "c3103277",
   "metadata": {},
   "outputs": [],
   "source": [
    "from selenium import webdriver\n",
    "from selenium.webdriver.chrome.service import Service\n",
    "from selenium.webdriver.common.by import By\n",
    "from selenium.webdriver.common.action_chains import ActionChains\n",
    "from selenium.webdriver.support.ui import WebDriverWait\n",
    "from selenium.webdriver.support import expected_conditions as EC\n",
    "import time\n",
    "import os\n",
    "import requests"
   ]
  },
  {
   "cell_type": "code",
   "execution_count": 3,
   "id": "5e256c18",
   "metadata": {},
   "outputs": [],
   "source": [
    "# assembly_file_folder 변수에 파일이 국회 저장되기를 원하는 상위 디렉토리 경로 입력\n",
    "\n",
    "assembly_file_folder = \"D:\\MJ 데이터 공모전 로우 데이터\\\\국회의원 속기록\\\\15대_원본\"\n",
    "service = Service(assembly_file_folder)\n",
    "\n",
    "# period_file_folder 변수에 '몇 대 파일'을 저장할 디렉토리 경로 입력(지금 상태에서는 필요 없는데, 위원회를 나누고 싶으면 이 코드를 활용해야 합니다.)\n",
    "period_file_folder = \"D:\\MJ 데이터 공모전 로우 데이터\\\\국회의원 속기록{csv}\\\\15대_csv\"\n",
    "prefs = {\"download.default_directory\": period_file_folder}\n",
    "options = webdriver.ChromeOptions()  # options 객체 생성\n",
    "options.add_experimental_option(\"prefs\", prefs)\n",
    "driver = webdriver.Chrome(options=options)\n",
    "driver.get('https://likms.assembly.go.kr/record/mhs-40-010.do')"
   ]
  },
  {
   "cell_type": "markdown",
   "id": "eab00186",
   "metadata": {},
   "source": [
    "# 하위 카테고리 없는 위원회 용"
   ]
  },
  {
   "cell_type": "code",
   "execution_count": 6,
   "id": "3c5bb632",
   "metadata": {},
   "outputs": [],
   "source": [
    "len_elements1 = driver.find_elements(By.XPATH, '/html/body/div[2]/div[1]/div/div[2]/div/ul/li')\n",
    "for num_elements1 in range(1, len(len_elements1) + 1):\n",
    "    xpath_elements1 = f\"/html/body/div[2]/div[1]/div/div[2]/div/ul/li[{num_elements1}]/div/div/a\"\n",
    "    element1 = WebDriverWait(driver, 10).until(EC.element_to_be_clickable((By.XPATH, xpath_elements1)))\n",
    "    actions1 = ActionChains(driver)\n",
    "    actions1.move_to_element(element1).click().perform()\n",
    "    time.sleep(1)\n",
    "\n",
    "    len_elements2 = driver.find_elements(By.XPATH, f'/html/body/div[2]/div[1]/div/div[2]/div/ul/li[{num_elements1}]/div[2]/div/ul/li/span/span/a[1]')\n",
    "    for num_elements2 in range(1, len(len_elements2) + 1):\n",
    "        xpath_elements2 = f'/html/body/div[2]/div[1]/div/div[2]/div/ul/li[{num_elements1}]/div[2]/div/ul/li[{num_elements2}]/span/span/a[1]'\n",
    "        element2 = WebDriverWait(driver, 10).until(EC.element_to_be_clickable((By.XPATH, xpath_elements2)))\n",
    "        element2.click()\n",
    "        time.sleep(0.3)"
   ]
  },
  {
   "cell_type": "markdown",
   "id": "a1254a6c",
   "metadata": {},
   "source": [
    "최적화 시도해봄"
   ]
  },
  {
   "cell_type": "code",
   "execution_count": null,
   "id": "caf896a6",
   "metadata": {},
   "outputs": [],
   "source": [
    "len_elements1 = driver.find_elements(By.XPATH, '/html/body/div[2]/div[1]/div/div[2]/div/ul/li')\n",
    "\n",
    "for num_elements1, element1 in enumerate(len_elements1, start=1):\n",
    "    actions1 = ActionChains(driver)\n",
    "    actions1.move_to_element(element1).click().perform()\n",
    "    time.sleep(1)\n",
    "\n",
    "    xpath_elements2_base = f'/html/body/div[2]/div[1]/div/div[2]/div/ul/li[{num_elements1}]/div[2]/div/ul/li'\n",
    "    len_elements2 = driver.find_elements(By.XPATH, xpath_elements2_base + '/span/span/a[1]')\n",
    "\n",
    "    for num_elements2, element2 in enumerate(len_elements2, start=1):\n",
    "        xpath_elements2 = xpath_elements2_base + f'[{num_elements2}]/span/span/a[1]'\n",
    "        element2 = WebDriverWait(driver, 10).until(EC.element_to_be_clickable((By.XPATH, xpath_elements2)))\n",
    "        element2.click()\n",
    "        time.sleep(0.3)"
   ]
  },
  {
   "cell_type": "markdown",
   "id": "0fb318aa",
   "metadata": {},
   "source": [
    "# 하위 카테고리 있는 위원회 용"
   ]
  },
  {
   "cell_type": "code",
   "execution_count": 11,
   "id": "110435d9",
   "metadata": {},
   "outputs": [],
   "source": [
    "len_elements1 = driver.find_elements(By.XPATH, '/html/body/div[2]/div[1]/div/div[2]/div/ul/li')\n",
    "for num_elements1 in range(1, len(len_elements1) + 1):\n",
    "    xpath_elements1 = f\"/html/body/div[2]/div[1]/div/div[2]/div/ul/li[{num_elements1}]/div[1]/a\"\n",
    "    element1 = WebDriverWait(driver, 10).until(EC.element_to_be_clickable((By.XPATH, xpath_elements1)))\n",
    "    actions1 = ActionChains(driver)\n",
    "    actions1.move_to_element(element1).click().perform()\n",
    "    time.sleep(1)\n",
    "\n",
    "    len_elements3 = driver.find_elements(By.XPATH, f'/html/body/div[2]/div[1]/div/div[2]/div/ul/li[{num_elements1}]/div[2]/div/ul/li')\n",
    "    for num_elements3 in range(1, len(len_elements3) + 1):\n",
    "        xpath_elements3 = f\"/html/body/div[2]/div[1]/div/div[2]/div/ul/li[{num_elements1}]/div[2]/div/ul/li[{num_elements3}]/a\"\n",
    "        element3 = WebDriverWait(driver, 10).until(EC.element_to_be_clickable((By.XPATH, xpath_elements3)))\n",
    "        element3.click()\n",
    "        time.sleep(0.6)\n",
    "\n",
    "        len_elements2 = driver.find_elements(By.XPATH, f'/html/body/div[2]/div[1]/div/div[2]/div/ul/li[{num_elements1}]/div[2]/div/ul/li[{num_elements3}]/ul/li')\n",
    "        for num_elements2 in range(1, len(len_elements2) + 1):\n",
    "            xpath_elements2 = f'/html/body/div[2]/div[1]/div/div[2]/div/ul/li[{num_elements1}]/div[2]/div/ul/li[{num_elements3}]/ul/li[{num_elements2}]/span/span/a[1]'\n",
    "            element2 = WebDriverWait(driver, 10).until(EC.element_to_be_clickable((By.XPATH, xpath_elements2)))\n",
    "            element2.click()\n",
    "            time.sleep(0.3)"
   ]
  },
  {
   "cell_type": "markdown",
   "id": "d39b82a9",
   "metadata": {},
   "source": [
    "최적화 시도해봄"
   ]
  },
  {
   "cell_type": "code",
   "execution_count": null,
   "id": "4ae586a0",
   "metadata": {},
   "outputs": [],
   "source": [
    "len_elements1 = driver.find_elements(By.XPATH, '/html/body/div[2]/div[1]/div/div[2]/div/ul/li')\n",
    "\n",
    "for num_elements1, element1 in enumerate(len_elements1, start=1):\n",
    "    actions1 = ActionChains(driver)\n",
    "    actions1.move_to_element(element1).click().perform()\n",
    "    time.sleep(1)\n",
    "\n",
    "    xpath_elements3_base = f'/html/body/div[2]/div[1]/div/div[2]/div/ul/li[{num_elements1}]/div[2]/div/ul/li'\n",
    "    len_elements3 = driver.find_elements(By.XPATH, xpath_elements3_base)\n",
    "\n",
    "    for num_elements3, element3 in enumerate(len_elements3, start=1):\n",
    "        xpath_elements3 = xpath_elements3_base + f'[{num_elements3}]/a'\n",
    "        element3 = WebDriverWait(driver, 10).until(EC.element_to_be_clickable((By.XPATH, xpath_elements3)))\n",
    "        element3.click()\n",
    "        time.sleep(0.6)\n",
    "\n",
    "        xpath_elements2_base = xpath_elements3_base + f'[{num_elements3}]/ul/li'\n",
    "        len_elements2 = driver.find_elements(By.XPATH, xpath_elements2_base)\n",
    "\n",
    "        for num_elements2, element2 in enumerate(len_elements2, start=1):\n",
    "            xpath_elements2 = xpath_elements2_base + f'[{num_elements2}]/span/span/a[1]'\n",
    "            element2 = WebDriverWait(driver, 10).until(EC.element_to_be_clickable((By.XPATH, xpath_elements2)))\n",
    "            element2.click()\n",
    "            time.sleep(0.3)"
   ]
  },
  {
   "cell_type": "markdown",
   "id": "8918ed4a",
   "metadata": {},
   "source": [
    "# 파일 이름 xpath로 찾고 이름 추출해서 파일 만들기"
   ]
  },
  {
   "cell_type": "code",
   "execution_count": null,
   "id": "b9e524c8",
   "metadata": {},
   "outputs": [],
   "source": [
    "len_elements0 = driver.find_elements(By.XPATH, f'/html/body/div[2]/div[1]/div/div[2]/div/ul/li')\n",
    "            \n",
    "for num_elements0 in range(1, len(len_elements0) + 1):\n",
    "    link_element = driver.find_element(By.XPATH, f'/html/body/div[2]/div[1]/div/div[2]/div/ul/li[{num_elements0}]/div[1]/a')\n",
    "    committee_name = link_element.text\n",
    "    new_download_dir = os.path.join(\"/Users/ihyeseong/Desktop/20대 국회 회의록\", '연석회의', committee_name)\n",
    "    os.makedirs(new_download_dir, exist_ok=True)"
   ]
  },
  {
   "cell_type": "markdown",
   "id": "bd33ab31",
   "metadata": {},
   "source": [
    "# 파일 이름 만들어주는 코드"
   ]
  },
  {
   "cell_type": "code",
   "execution_count": null,
   "id": "6868ae1d",
   "metadata": {},
   "outputs": [],
   "source": [
    "import requests\n",
    "from bs4 import BeautifulSoup\n",
    "import os"
   ]
  },
  {
   "cell_type": "code",
   "execution_count": null,
   "id": "4b7867a0",
   "metadata": {},
   "outputs": [],
   "source": [
    "url = 'https://likms.assembly.go.kr/record/mhs-40-010.do#none'"
   ]
  },
  {
   "cell_type": "code",
   "execution_count": null,
   "id": "5eb49207",
   "metadata": {},
   "outputs": [],
   "source": [
    "# 웹 페이지 가져오기\n",
    "res = requests.get(url)\n",
    "\n",
    "# BeautifulSoup 객체 생성\n",
    "soup = BeautifulSoup(res.text, 'html.parser')\n",
    "\n",
    "# 요소 추출하기\n",
    "elements = soup.select('#daeClassList > ul > li > a')\n",
    "\n",
    "desktop_path = os.path.expanduser('/Users/ihyeseong/Desktop/4-1 학교 공부 파일/융합캡스톤디자인')\n",
    "\n",
    "# 요소 텍스트 추출하기\n",
    "texts = [element.text for element in elements]\n",
    "# 텍스트 정리하기\n",
    "texts = [text.replace('\\t', '').replace('\\r', '').replace('\\n', '').replace(' ', '') for text in texts]\n",
    "print(texts)\n",
    "# 파일 디렉토리 만들기\n",
    "for text in texts:\n",
    "    print(text)\n",
    "    # 파일 디렉토리 이름 설정\n",
    "    directory_name = text.replace('>', '').replace('/', '_').replace('/t', '')\n",
    "    \n",
    "    # 파일 디렉토리 생성\n",
    "    os.makedirs(directory_name)\n"
   ]
  },
  {
   "cell_type": "code",
   "execution_count": null,
   "id": "d342012b",
   "metadata": {},
   "outputs": [],
   "source": [
    "len_elements1 = driver.find_elements(By.XPATH, '/html/body/div[2]/div[1]/div/div[2]/div/ul/li')\n",
    "for num_elements1 in range(1, len(len_elements1) + 1):\n",
    "    print(len(len_elements1))\n",
    "    print(num_elements1)\n",
    "    print(1)\n",
    "    xpath_elements1 = f\"/html/body/div[2]/div[1]/div/div[2]/div/ul/li[{num_elements1}]/div[1]/a\"\n",
    "    element1 = WebDriverWait(driver, 10).until(EC.element_to_be_clickable((By.XPATH, xpath_elements1)))\n",
    "    actions1 = ActionChains(driver)\n",
    "    actions1.move_to_element(element1).click().perform()\n",
    "    print('첫번째 클릭')\n",
    "    time.sleep(1)\n",
    "    len_elements3 = driver.find_elements(By.XPATH, f'/html/body/div[2]/div[1]/div/div[2]/div/ul/li[{num_elements1}]/div[2]/div/ul/li')                \n",
    "    for num_elements3 in range(1, len(len_elements3) + 1):\n",
    "        print(len(len_elements3))\n",
    "        print(num_elements3)\n",
    "        xpath_elements3 = f\"/html/body/div[2]/div[1]/div/div[2]/div/ul/li[{num_elements1}]/div[2]/div/ul/li[{num_elements3}]/a\"\n",
    "        element3 = WebDriverWait(driver, 10).until(EC.element_to_be_clickable((By.XPATH, xpath_elements3)))\n",
    "        element3.click()\n",
    "        print('두번째 클릭')\n",
    "        time.sleep(0.6)\n",
    "        len_elements2 = driver.find_elements(By.XPATH, f'/html/body/div[2]/div[1]/div/div[2]/div/ul/li[{num_elements1}]/div[2]/div/ul/li[{num_elements3}]/ul/li')\n",
    "        for num_elements2 in range(1, len(len_elements2) + 1):\n",
    "            print(len(len_elements2))\n",
    "            print(num_elements2)\n",
    "            xpath_elements2 = f'/html/body/div[2]/div[1]/div/div[2]/div/ul/li[{num_elements1}]/div[2]/div/ul/li[{num_elements3}]/ul/li[{num_elements2}]/span/span/a[1]'\n",
    "            element2 = WebDriverWait(driver, 10).until(EC.element_to_be_clickable((By.XPATH, xpath_elements2)))\n",
    "            element2.click()\n",
    "            print('세번째 클릭')\n",
    "            time.sleep(0.3)"
   ]
  },
  {
   "cell_type": "markdown",
   "id": "70544414",
   "metadata": {},
   "source": [
    "# 국회 속기록 내의 '대 클래스'의 모든 요소에서 파일 이름을 가져와서 파일을 만드는 코드"
   ]
  },
  {
   "cell_type": "code",
   "execution_count": null,
   "id": "2e84c62a",
   "metadata": {},
   "outputs": [],
   "source": [
    "len_elements0 = driver.find_elements(By.XPATH, f'/html/body/div[2]/div[1]/div/div[2]/div/ul/li')\n",
    "\n",
    "for num_elements0 in range(1, len(len_elements0) + 1):\n",
    "    link_element = driver.find_element(By.XPATH, f'/html/body/div[2]/div[1]/div/div[2]/div/ul/li[{num_elements0}]/div[1]/a')\n",
    "    committee_name = link_element.text\n",
    "    new_download_dir = os.path.join(\"/Users/ihyeseong/Desktop/4-1 학교 공부 파일/융합캡스톤디자인/17대 국회 회의록\", '상임위원회 폴더', committee_name)\n",
    "    os.makedirs(new_download_dir, exist_ok=True)"
   ]
  },
  {
   "cell_type": "markdown",
   "id": "97d63142",
   "metadata": {},
   "source": [
    "# hwp 파일을 csv 파일로 바꿔주는 코드\n",
    "\n",
    "### 코드 실행이 중간에 끊기더라도 다시 실행했을 때, 이어서 진행 가능(확인 해야되므로 조금 이따가 파일 변환됨)"
   ]
  },
  {
   "cell_type": "code",
   "execution_count": null,
   "id": "babc37ca",
   "metadata": {},
   "outputs": [],
   "source": [
    "import os\n",
    "import subprocess\n",
    "import pandas as pd\n",
    "\n",
    "def hwp_to_txt(hwp_file, txt_file):\n",
    "    hwp5txt_path = \"C:/Program Files/hwp5txt\"   # hwp5txt를 처음 다운로드 받으면 python 폴더에 깔립니다. 여기로 옮겨주세요\n",
    "    subprocess.run([hwp5txt_path, hwp_file, '--output', txt_file])\n",
    "\n",
    "def txt_to_csv(txt_file, csv_file):\n",
    "    df = pd.read_csv(txt_file, sep='\\t', header=None)\n",
    "    df.to_csv(csv_file, index=False, encoding='utf-8-sig')\n",
    "\n",
    "def convert_all_hwps_to_csv(input_folder, output_folder):\n",
    "    for root, dirs, files in os.walk(input_folder):\n",
    "        for file in files:\n",
    "            if file.endswith('.hwp'):\n",
    "                relative_path = os.path.relpath(root, input_folder)\n",
    "                current_output_folder = os.path.join(output_folder, relative_path)\n",
    "                \n",
    "                if not os.path.exists(current_output_folder):\n",
    "                    os.makedirs(current_output_folder)\n",
    "                \n",
    "                hwp_path = os.path.join(root, file)\n",
    "                txt_path = os.path.join(current_output_folder, os.path.splitext(file)[0] + '.txt')\n",
    "                csv_path = os.path.join(current_output_folder, os.path.splitext(file)[0] + '.csv')\n",
    "                \n",
    "                hwp_to_txt(hwp_path, txt_path)\n",
    "                txt_to_csv(txt_path, csv_path)\n",
    "                os.remove(txt_path)\n",
    "\n",
    "input_folder = \"C:\\\\Users\\\\Admin\\\\Desktop\\\\MJ_side_project\\\\18대_속기록_원본\"\n",
    "output_folder = \"C:\\\\Users\\\\Admin\\\\Desktop\\\\MJ_side_project\\\\18대 국회 기록(csv)\"\n",
    "\n",
    "convert_all_hwps_to_csv(input_folder, output_folder)"
   ]
  },
  {
   "cell_type": "markdown",
   "id": "f57f8e30",
   "metadata": {},
   "source": [
    "# 위 코드에서 안정성 강화(파일 이름 확인하고 없으면 변환)"
   ]
  },
  {
   "cell_type": "code",
   "execution_count": null,
   "id": "0e94554b",
   "metadata": {},
   "outputs": [],
   "source": [
    "import os\n",
    "import subprocess\n",
    "import pandas as pd\n",
    "\n",
    "def hwp_to_txt(hwp_file, txt_file):\n",
    "    hwp5txt_path = \"C:/Program Files/hwp5txt\"\n",
    "    subprocess.run([hwp5txt_path, hwp_file, '--output', txt_file])\n",
    "\n",
    "def txt_to_csv(txt_file, csv_file):\n",
    "    df = pd.read_csv(txt_file, sep='\\t', header=None)\n",
    "    df.to_csv(csv_file, index=False, encoding='utf-8-sig')\n",
    "\n",
    "def get_file_names(folder, extension):\n",
    "    file_names = set()\n",
    "\n",
    "    for root, dirs, files in os.walk(folder):\n",
    "        for file in files:\n",
    "            if file.endswith(extension):\n",
    "                file_names.add(os.path.splitext(file)[0])\n",
    "\n",
    "    return file_names\n",
    "\n",
    "def convert_all_hwps_to_csv(input_folder, output_folder):\n",
    "    csv_file_names = get_file_names(output_folder, '.csv')\n",
    "\n",
    "    for root, dirs, files in os.walk(input_folder):\n",
    "        for file in files:\n",
    "            if file.endswith('.hwp'):\n",
    "                hwp_file_name = os.path.splitext(file)[0]\n",
    "\n",
    "                # Only convert the hwp file if a corresponding csv file doesn't already exist\n",
    "                if hwp_file_name not in csv_file_names:\n",
    "                    relative_path = os.path.relpath(root, input_folder)\n",
    "                    current_output_folder = os.path.join(output_folder, relative_path)\n",
    "\n",
    "                    if not os.path.exists(current_output_folder):\n",
    "                        os.makedirs(current_output_folder)\n",
    "\n",
    "                    hwp_path = os.path.join(root, file)\n",
    "                    txt_path = os.path.join(current_output_folder, hwp_file_name + '.txt')\n",
    "                    csv_path = os.path.join(current_output_folder, hwp_file_name + '.csv')\n",
    "\n",
    "                    hwp_to_txt(hwp_path, txt_path)\n",
    "                    txt_to_csv(txt_path, csv_path)\n",
    "                    os.remove(txt_path)\n",
    "\n",
    "input_folder = \"C:\\\\Users\\\\Admin\\\\Desktop\\\\MJ_side_project\\\\18대_속기록_원본\"\n",
    "output_folder = \"C:\\\\Users\\\\Admin\\\\Desktop\\\\MJ_side_project\\\\18대 국회 기록(csv)\"\n",
    "\n",
    "convert_all_hwps_to_csv(input_folder, output_folder)"
   ]
  },
  {
   "cell_type": "markdown",
   "id": "2cc9eee5",
   "metadata": {},
   "source": [
    "# HWP 파일을 TXT로 바꿔주는 코드"
   ]
  },
  {
   "cell_type": "code",
   "execution_count": 40,
   "id": "d5e1931c",
   "metadata": {
    "collapsed": true
   },
   "outputs": [
    {
     "ename": "KeyboardInterrupt",
     "evalue": "",
     "output_type": "error",
     "traceback": [
      "\u001b[1;31m---------------------------------------------------------------------------\u001b[0m",
      "\u001b[1;31mKeyboardInterrupt\u001b[0m                         Traceback (most recent call last)",
      "Cell \u001b[1;32mIn[40], line 28\u001b[0m\n\u001b[0;32m     25\u001b[0m \u001b[38;5;28;01mif\u001b[39;00m \u001b[38;5;129;01mnot\u001b[39;00m os\u001b[38;5;241m.\u001b[39mpath\u001b[38;5;241m.\u001b[39mexists(output_folder):\n\u001b[0;32m     26\u001b[0m     os\u001b[38;5;241m.\u001b[39mmakedirs(output_folder)\n\u001b[1;32m---> 28\u001b[0m \u001b[43mconvert_all_hwps_to_txt\u001b[49m\u001b[43m(\u001b[49m\u001b[43minput_folder\u001b[49m\u001b[43m,\u001b[49m\u001b[43m \u001b[49m\u001b[43moutput_folder\u001b[49m\u001b[43m)\u001b[49m\n",
      "Cell \u001b[1;32mIn[40], line 18\u001b[0m, in \u001b[0;36mconvert_all_hwps_to_txt\u001b[1;34m(input_folder, output_folder)\u001b[0m\n\u001b[0;32m     16\u001b[0m     os\u001b[38;5;241m.\u001b[39mmakedirs(txt_folder)\n\u001b[0;32m     17\u001b[0m txt_path \u001b[38;5;241m=\u001b[39m os\u001b[38;5;241m.\u001b[39mpath\u001b[38;5;241m.\u001b[39mjoin(txt_folder, os\u001b[38;5;241m.\u001b[39mpath\u001b[38;5;241m.\u001b[39msplitext(file)[\u001b[38;5;241m0\u001b[39m] \u001b[38;5;241m+\u001b[39m \u001b[38;5;124m'\u001b[39m\u001b[38;5;124m.txt\u001b[39m\u001b[38;5;124m'\u001b[39m)\n\u001b[1;32m---> 18\u001b[0m \u001b[43mhwp_to_txt\u001b[49m\u001b[43m(\u001b[49m\u001b[43mhwp_path\u001b[49m\u001b[43m,\u001b[49m\u001b[43m \u001b[49m\u001b[43mtxt_path\u001b[49m\u001b[43m)\u001b[49m\n",
      "Cell \u001b[1;32mIn[40], line 6\u001b[0m, in \u001b[0;36mhwp_to_txt\u001b[1;34m(hwp_file, txt_file)\u001b[0m\n\u001b[0;32m      4\u001b[0m \u001b[38;5;28;01mdef\u001b[39;00m \u001b[38;5;21mhwp_to_txt\u001b[39m(hwp_file, txt_file):\n\u001b[0;32m      5\u001b[0m     hwp5txt_path \u001b[38;5;241m=\u001b[39m \u001b[38;5;124m\"\u001b[39m\u001b[38;5;124mC:/Program Files/hwp5txt\u001b[39m\u001b[38;5;124m\"\u001b[39m  \u001b[38;5;66;03m# Replace with the actual path to the hwp5txt command\u001b[39;00m\n\u001b[1;32m----> 6\u001b[0m     \u001b[43msubprocess\u001b[49m\u001b[38;5;241;43m.\u001b[39;49m\u001b[43mrun\u001b[49m\u001b[43m(\u001b[49m\u001b[43m[\u001b[49m\u001b[43mhwp5txt_path\u001b[49m\u001b[43m,\u001b[49m\u001b[43m \u001b[49m\u001b[43mhwp_file\u001b[49m\u001b[43m,\u001b[49m\u001b[43m \u001b[49m\u001b[38;5;124;43m'\u001b[39;49m\u001b[38;5;124;43m--output\u001b[39;49m\u001b[38;5;124;43m'\u001b[39;49m\u001b[43m,\u001b[49m\u001b[43m \u001b[49m\u001b[43mtxt_file\u001b[49m\u001b[43m]\u001b[49m\u001b[43m)\u001b[49m\n",
      "File \u001b[1;32m~\\anaconda3\\lib\\subprocess.py:505\u001b[0m, in \u001b[0;36mrun\u001b[1;34m(input, capture_output, timeout, check, *popenargs, **kwargs)\u001b[0m\n\u001b[0;32m    503\u001b[0m \u001b[38;5;28;01mwith\u001b[39;00m Popen(\u001b[38;5;241m*\u001b[39mpopenargs, \u001b[38;5;241m*\u001b[39m\u001b[38;5;241m*\u001b[39mkwargs) \u001b[38;5;28;01mas\u001b[39;00m process:\n\u001b[0;32m    504\u001b[0m     \u001b[38;5;28;01mtry\u001b[39;00m:\n\u001b[1;32m--> 505\u001b[0m         stdout, stderr \u001b[38;5;241m=\u001b[39m \u001b[43mprocess\u001b[49m\u001b[38;5;241;43m.\u001b[39;49m\u001b[43mcommunicate\u001b[49m\u001b[43m(\u001b[49m\u001b[38;5;28;43minput\u001b[39;49m\u001b[43m,\u001b[49m\u001b[43m \u001b[49m\u001b[43mtimeout\u001b[49m\u001b[38;5;241;43m=\u001b[39;49m\u001b[43mtimeout\u001b[49m\u001b[43m)\u001b[49m\n\u001b[0;32m    506\u001b[0m     \u001b[38;5;28;01mexcept\u001b[39;00m TimeoutExpired \u001b[38;5;28;01mas\u001b[39;00m exc:\n\u001b[0;32m    507\u001b[0m         process\u001b[38;5;241m.\u001b[39mkill()\n",
      "File \u001b[1;32m~\\anaconda3\\lib\\subprocess.py:1146\u001b[0m, in \u001b[0;36mPopen.communicate\u001b[1;34m(self, input, timeout)\u001b[0m\n\u001b[0;32m   1144\u001b[0m         stderr \u001b[38;5;241m=\u001b[39m \u001b[38;5;28mself\u001b[39m\u001b[38;5;241m.\u001b[39mstderr\u001b[38;5;241m.\u001b[39mread()\n\u001b[0;32m   1145\u001b[0m         \u001b[38;5;28mself\u001b[39m\u001b[38;5;241m.\u001b[39mstderr\u001b[38;5;241m.\u001b[39mclose()\n\u001b[1;32m-> 1146\u001b[0m     \u001b[38;5;28;43mself\u001b[39;49m\u001b[38;5;241;43m.\u001b[39;49m\u001b[43mwait\u001b[49m\u001b[43m(\u001b[49m\u001b[43m)\u001b[49m\n\u001b[0;32m   1147\u001b[0m \u001b[38;5;28;01melse\u001b[39;00m:\n\u001b[0;32m   1148\u001b[0m     \u001b[38;5;28;01mif\u001b[39;00m timeout \u001b[38;5;129;01mis\u001b[39;00m \u001b[38;5;129;01mnot\u001b[39;00m \u001b[38;5;28;01mNone\u001b[39;00m:\n",
      "File \u001b[1;32m~\\anaconda3\\lib\\subprocess.py:1209\u001b[0m, in \u001b[0;36mPopen.wait\u001b[1;34m(self, timeout)\u001b[0m\n\u001b[0;32m   1207\u001b[0m     endtime \u001b[38;5;241m=\u001b[39m _time() \u001b[38;5;241m+\u001b[39m timeout\n\u001b[0;32m   1208\u001b[0m \u001b[38;5;28;01mtry\u001b[39;00m:\n\u001b[1;32m-> 1209\u001b[0m     \u001b[38;5;28;01mreturn\u001b[39;00m \u001b[38;5;28;43mself\u001b[39;49m\u001b[38;5;241;43m.\u001b[39;49m\u001b[43m_wait\u001b[49m\u001b[43m(\u001b[49m\u001b[43mtimeout\u001b[49m\u001b[38;5;241;43m=\u001b[39;49m\u001b[43mtimeout\u001b[49m\u001b[43m)\u001b[49m\n\u001b[0;32m   1210\u001b[0m \u001b[38;5;28;01mexcept\u001b[39;00m \u001b[38;5;167;01mKeyboardInterrupt\u001b[39;00m:\n\u001b[0;32m   1211\u001b[0m     \u001b[38;5;66;03m# https://bugs.python.org/issue25942\u001b[39;00m\n\u001b[0;32m   1212\u001b[0m     \u001b[38;5;66;03m# The first keyboard interrupt waits briefly for the child to\u001b[39;00m\n\u001b[0;32m   1213\u001b[0m     \u001b[38;5;66;03m# exit under the common assumption that it also received the ^C\u001b[39;00m\n\u001b[0;32m   1214\u001b[0m     \u001b[38;5;66;03m# generated SIGINT and will exit rapidly.\u001b[39;00m\n\u001b[0;32m   1215\u001b[0m     \u001b[38;5;28;01mif\u001b[39;00m timeout \u001b[38;5;129;01mis\u001b[39;00m \u001b[38;5;129;01mnot\u001b[39;00m \u001b[38;5;28;01mNone\u001b[39;00m:\n",
      "File \u001b[1;32m~\\anaconda3\\lib\\subprocess.py:1490\u001b[0m, in \u001b[0;36mPopen._wait\u001b[1;34m(self, timeout)\u001b[0m\n\u001b[0;32m   1487\u001b[0m     timeout_millis \u001b[38;5;241m=\u001b[39m \u001b[38;5;28mint\u001b[39m(timeout \u001b[38;5;241m*\u001b[39m \u001b[38;5;241m1000\u001b[39m)\n\u001b[0;32m   1488\u001b[0m \u001b[38;5;28;01mif\u001b[39;00m \u001b[38;5;28mself\u001b[39m\u001b[38;5;241m.\u001b[39mreturncode \u001b[38;5;129;01mis\u001b[39;00m \u001b[38;5;28;01mNone\u001b[39;00m:\n\u001b[0;32m   1489\u001b[0m     \u001b[38;5;66;03m# API note: Returns immediately if timeout_millis == 0.\u001b[39;00m\n\u001b[1;32m-> 1490\u001b[0m     result \u001b[38;5;241m=\u001b[39m \u001b[43m_winapi\u001b[49m\u001b[38;5;241;43m.\u001b[39;49m\u001b[43mWaitForSingleObject\u001b[49m\u001b[43m(\u001b[49m\u001b[38;5;28;43mself\u001b[39;49m\u001b[38;5;241;43m.\u001b[39;49m\u001b[43m_handle\u001b[49m\u001b[43m,\u001b[49m\n\u001b[0;32m   1491\u001b[0m \u001b[43m                                         \u001b[49m\u001b[43mtimeout_millis\u001b[49m\u001b[43m)\u001b[49m\n\u001b[0;32m   1492\u001b[0m     \u001b[38;5;28;01mif\u001b[39;00m result \u001b[38;5;241m==\u001b[39m _winapi\u001b[38;5;241m.\u001b[39mWAIT_TIMEOUT:\n\u001b[0;32m   1493\u001b[0m         \u001b[38;5;28;01mraise\u001b[39;00m TimeoutExpired(\u001b[38;5;28mself\u001b[39m\u001b[38;5;241m.\u001b[39margs, timeout)\n",
      "\u001b[1;31mKeyboardInterrupt\u001b[0m: "
     ]
    }
   ],
   "source": [
    "import os\n",
    "import subprocess\n",
    "\n",
    "def convert_all_hwps_to_txt(input_folder, output_folder):\n",
    "    for root, dirs, files in os.walk(input_folder):\n",
    "        for file in files:\n",
    "            if file.endswith('.hwp'):\n",
    "                hwp_path = os.path.join(root, file)\n",
    "                relative_path = os.path.relpath(root, input_folder)\n",
    "                txt_folder = os.path.join(output_folder, relative_path)\n",
    "                if not os.path.exists(txt_folder):\n",
    "                    os.makedirs(txt_folder)\n",
    "                txt_path = os.path.join(txt_folder, os.path.splitext(file)[0] + '.txt')\n",
    "                hwp_to_txt(hwp_path, txt_path)\n",
    "\n",
    "# 사용법:\n",
    "# input_folder에 있는 모든 HWP 파일을 TXT 파일로 변환하여 output_folder에 저장하면서 하위 폴더 구조를 유지\n",
    "input_folder = \"C:\\\\Users\\\\Admin\\\\Desktop\\\\MJ_side_project\\\\20대_속기록_원본\"\n",
    "output_folder = \"C:\\\\Users\\\\Admin\\\\Desktop\\\\MJ_side_project\\\\20대 국회 기록_csv 파일\"\n",
    "\n",
    "if not os.path.exists(output_folder):\n",
    "    os.makedirs(output_folder)\n",
    "\n",
    "convert_all_hwps_to_txt(input_folder, output_folder)\n"
   ]
  },
  {
   "cell_type": "markdown",
   "id": "420e9d8b",
   "metadata": {},
   "source": [
    "# csv 파일의 줄바꿈(\\n)을 삭제하는 코드"
   ]
  },
  {
   "cell_type": "code",
   "execution_count": null,
   "id": "0f0541ea",
   "metadata": {},
   "outputs": [],
   "source": [
    "import os\n",
    "import chardet\n",
    "\n",
    "# CSV 파일이 있는 최상위 디렉토리 경로\n",
    "directory = r\"C:\\Users\\Admin\\Desktop\\for_code\\노무현 대통령 연설기록3\"\n",
    "\n",
    "# 디렉토리와 하위 폴더에서 모든 CSV 파일을 가져와서 처리\n",
    "for root, dirs, files in os.walk(directory):\n",
    "    for filename in files:\n",
    "        if filename.endswith(\".csv\"):\n",
    "            file_path = os.path.join(root, filename)\n",
    "            # CSV 파일 열기\n",
    "            with open(file_path, 'rb') as f:\n",
    "                # 파일 내용 읽어오기\n",
    "                content = f.read()\n",
    "                # 파일 인코딩 감지\n",
    "                encoding = chardet.detect(content)['encoding']\n",
    "            # 파일 읽기 (인코딩 설정 추가)\n",
    "            with open(file_path, 'r', encoding=encoding) as f:\n",
    "                # 파일 내용 읽어오기\n",
    "                content = f.read()\n",
    "            # '  '를 ' '로 바꾸기\n",
    "            while '  ' in content:\n",
    "                content = content.replace('  ', ' ')\n",
    "            # 파일 내용의 개행 문자와 탭 문자 제거\n",
    "            content = content.replace('\\n', '').replace('\\t', '').replace('Wr', '')\n",
    "            # CSV 파일 다시 쓰기\n",
    "            with open(file_path, 'w', encoding=encoding, newline='') as f:\n",
    "                f.write(content)\n"
   ]
  }
 ],
 "metadata": {
  "kernelspec": {
   "display_name": "Python 3 (ipykernel)",
   "language": "python",
   "name": "python3"
  },
  "language_info": {
   "codemirror_mode": {
    "name": "ipython",
    "version": 3
   },
   "file_extension": ".py",
   "mimetype": "text/x-python",
   "name": "python",
   "nbconvert_exporter": "python",
   "pygments_lexer": "ipython3",
   "version": "3.10.9"
  }
 },
 "nbformat": 4,
 "nbformat_minor": 5
}
