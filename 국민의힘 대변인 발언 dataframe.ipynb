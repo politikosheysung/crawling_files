{
 "cells": [
  {
   "cell_type": "markdown",
   "id": "1326ea2b",
   "metadata": {},
   "source": [
    "# 수정\n",
    "\n",
    "- to_back_xpath가 전체 페이지에 다 사용할 수 없어서 try, exception을 통해 진행해보려 했으나 너무 많은 예외가 있어서 사용 불가\n",
    "    - 그냥 drive.get()으로 이전 페이지를 불러오는 방식 사용"
   ]
  },
  {
   "cell_type": "code",
   "execution_count": 13,
   "id": "3d64a0ac",
   "metadata": {
    "collapsed": true
   },
   "outputs": [
    {
     "ename": "NoSuchElementException",
     "evalue": "Message: no such element: Unable to locate element: {\"method\":\"xpath\",\"selector\":\"/html/body/div[2]/div[2]/div[2]/section/div[2]/dl/dd[2]/p[85]/span[8]/a\"}\n  (Session info: chrome=114.0.5735.199)\nStacktrace:\nBacktrace:\n\tGetHandleVerifier [0x00EA8893+48451]\n\t(No symbol) [0x00E3B8A1]\n\t(No symbol) [0x00D45058]\n\t(No symbol) [0x00D70467]\n\t(No symbol) [0x00D7069B]\n\t(No symbol) [0x00D9DD92]\n\t(No symbol) [0x00D8A304]\n\t(No symbol) [0x00D9C482]\n\t(No symbol) [0x00D8A0B6]\n\t(No symbol) [0x00D67E08]\n\t(No symbol) [0x00D68F2D]\n\tGetHandleVerifier [0x01108E3A+2540266]\n\tGetHandleVerifier [0x01148959+2801161]\n\tGetHandleVerifier [0x0114295C+2776588]\n\tGetHandleVerifier [0x00F32280+612144]\n\t(No symbol) [0x00E44F6C]\n\t(No symbol) [0x00E411D8]\n\t(No symbol) [0x00E412BB]\n\t(No symbol) [0x00E34857]\n\tBaseThreadInitThunk [0x760C00C9+25]\n\tRtlGetAppContainerNamedObjectPath [0x777E7B1E+286]\n\tRtlGetAppContainerNamedObjectPath [0x777E7AEE+238]\n",
     "output_type": "error",
     "traceback": [
      "\u001b[1;31m---------------------------------------------------------------------------\u001b[0m",
      "\u001b[1;31mNoSuchElementException\u001b[0m                    Traceback (most recent call last)",
      "Cell \u001b[1;32mIn[13], line 45\u001b[0m\n\u001b[0;32m     44\u001b[0m \u001b[38;5;28;01mtry\u001b[39;00m:\n\u001b[1;32m---> 45\u001b[0m     back_element \u001b[38;5;241m=\u001b[39m \u001b[43mdriver\u001b[49m\u001b[38;5;241;43m.\u001b[39;49m\u001b[43mfind_element\u001b[49m\u001b[43m(\u001b[49m\u001b[43mBy\u001b[49m\u001b[38;5;241;43m.\u001b[39;49m\u001b[43mXPATH\u001b[49m\u001b[43m,\u001b[49m\u001b[43m \u001b[49m\u001b[38;5;124;43m\"\u001b[39;49m\u001b[38;5;124;43m/html/body/div[2]/div[2]/div[2]/section/div[2]/div/a\u001b[39;49m\u001b[38;5;124;43m\"\u001b[39;49m\u001b[43m)\u001b[49m\n\u001b[0;32m     46\u001b[0m \u001b[38;5;28;01mexcept\u001b[39;00m NoSuchElementException:\n",
      "File \u001b[1;32m~\\AppData\\Roaming\\Python\\Python310\\site-packages\\selenium\\webdriver\\remote\\webdriver.py:831\u001b[0m, in \u001b[0;36mWebDriver.find_element\u001b[1;34m(self, by, value)\u001b[0m\n\u001b[0;32m    829\u001b[0m     value \u001b[38;5;241m=\u001b[39m \u001b[38;5;124mf\u001b[39m\u001b[38;5;124m'\u001b[39m\u001b[38;5;124m[name=\u001b[39m\u001b[38;5;124m\"\u001b[39m\u001b[38;5;132;01m{\u001b[39;00mvalue\u001b[38;5;132;01m}\u001b[39;00m\u001b[38;5;124m\"\u001b[39m\u001b[38;5;124m]\u001b[39m\u001b[38;5;124m'\u001b[39m\n\u001b[1;32m--> 831\u001b[0m \u001b[38;5;28;01mreturn\u001b[39;00m \u001b[38;5;28;43mself\u001b[39;49m\u001b[38;5;241;43m.\u001b[39;49m\u001b[43mexecute\u001b[49m\u001b[43m(\u001b[49m\u001b[43mCommand\u001b[49m\u001b[38;5;241;43m.\u001b[39;49m\u001b[43mFIND_ELEMENT\u001b[49m\u001b[43m,\u001b[49m\u001b[43m \u001b[49m\u001b[43m{\u001b[49m\u001b[38;5;124;43m\"\u001b[39;49m\u001b[38;5;124;43musing\u001b[39;49m\u001b[38;5;124;43m\"\u001b[39;49m\u001b[43m:\u001b[49m\u001b[43m \u001b[49m\u001b[43mby\u001b[49m\u001b[43m,\u001b[49m\u001b[43m \u001b[49m\u001b[38;5;124;43m\"\u001b[39;49m\u001b[38;5;124;43mvalue\u001b[39;49m\u001b[38;5;124;43m\"\u001b[39;49m\u001b[43m:\u001b[49m\u001b[43m \u001b[49m\u001b[43mvalue\u001b[49m\u001b[43m}\u001b[49m\u001b[43m)\u001b[49m[\u001b[38;5;124m\"\u001b[39m\u001b[38;5;124mvalue\u001b[39m\u001b[38;5;124m\"\u001b[39m]\n",
      "File \u001b[1;32m~\\AppData\\Roaming\\Python\\Python310\\site-packages\\selenium\\webdriver\\remote\\webdriver.py:440\u001b[0m, in \u001b[0;36mWebDriver.execute\u001b[1;34m(self, driver_command, params)\u001b[0m\n\u001b[0;32m    439\u001b[0m \u001b[38;5;28;01mif\u001b[39;00m response:\n\u001b[1;32m--> 440\u001b[0m     \u001b[38;5;28;43mself\u001b[39;49m\u001b[38;5;241;43m.\u001b[39;49m\u001b[43merror_handler\u001b[49m\u001b[38;5;241;43m.\u001b[39;49m\u001b[43mcheck_response\u001b[49m\u001b[43m(\u001b[49m\u001b[43mresponse\u001b[49m\u001b[43m)\u001b[49m\n\u001b[0;32m    441\u001b[0m     response[\u001b[38;5;124m\"\u001b[39m\u001b[38;5;124mvalue\u001b[39m\u001b[38;5;124m\"\u001b[39m] \u001b[38;5;241m=\u001b[39m \u001b[38;5;28mself\u001b[39m\u001b[38;5;241m.\u001b[39m_unwrap_value(response\u001b[38;5;241m.\u001b[39mget(\u001b[38;5;124m\"\u001b[39m\u001b[38;5;124mvalue\u001b[39m\u001b[38;5;124m\"\u001b[39m, \u001b[38;5;28;01mNone\u001b[39;00m))\n",
      "File \u001b[1;32m~\\AppData\\Roaming\\Python\\Python310\\site-packages\\selenium\\webdriver\\remote\\errorhandler.py:245\u001b[0m, in \u001b[0;36mErrorHandler.check_response\u001b[1;34m(self, response)\u001b[0m\n\u001b[0;32m    244\u001b[0m     \u001b[38;5;28;01mraise\u001b[39;00m exception_class(message, screen, stacktrace, alert_text)  \u001b[38;5;66;03m# type: ignore[call-arg]  # mypy is not smart enough here\u001b[39;00m\n\u001b[1;32m--> 245\u001b[0m \u001b[38;5;28;01mraise\u001b[39;00m exception_class(message, screen, stacktrace)\n",
      "\u001b[1;31mNoSuchElementException\u001b[0m: Message: no such element: Unable to locate element: {\"method\":\"xpath\",\"selector\":\"/html/body/div[2]/div[2]/div[2]/section/div[2]/div/a\"}\n  (Session info: chrome=114.0.5735.199)\nStacktrace:\nBacktrace:\n\tGetHandleVerifier [0x00EA8893+48451]\n\t(No symbol) [0x00E3B8A1]\n\t(No symbol) [0x00D45058]\n\t(No symbol) [0x00D70467]\n\t(No symbol) [0x00D7069B]\n\t(No symbol) [0x00D9DD92]\n\t(No symbol) [0x00D8A304]\n\t(No symbol) [0x00D9C482]\n\t(No symbol) [0x00D8A0B6]\n\t(No symbol) [0x00D67E08]\n\t(No symbol) [0x00D68F2D]\n\tGetHandleVerifier [0x01108E3A+2540266]\n\tGetHandleVerifier [0x01148959+2801161]\n\tGetHandleVerifier [0x0114295C+2776588]\n\tGetHandleVerifier [0x00F32280+612144]\n\t(No symbol) [0x00E44F6C]\n\t(No symbol) [0x00E411D8]\n\t(No symbol) [0x00E412BB]\n\t(No symbol) [0x00E34857]\n\tBaseThreadInitThunk [0x760C00C9+25]\n\tRtlGetAppContainerNamedObjectPath [0x777E7B1E+286]\n\tRtlGetAppContainerNamedObjectPath [0x777E7AEE+238]\n",
      "\nDuring handling of the above exception, another exception occurred:\n",
      "\u001b[1;31mNoSuchElementException\u001b[0m                    Traceback (most recent call last)",
      "Cell \u001b[1;32mIn[13], line 47\u001b[0m\n\u001b[0;32m     45\u001b[0m         back_element \u001b[38;5;241m=\u001b[39m driver\u001b[38;5;241m.\u001b[39mfind_element(By\u001b[38;5;241m.\u001b[39mXPATH, \u001b[38;5;124m\"\u001b[39m\u001b[38;5;124m/html/body/div[2]/div[2]/div[2]/section/div[2]/div/a\u001b[39m\u001b[38;5;124m\"\u001b[39m)\n\u001b[0;32m     46\u001b[0m     \u001b[38;5;28;01mexcept\u001b[39;00m NoSuchElementException:\n\u001b[1;32m---> 47\u001b[0m         back_element \u001b[38;5;241m=\u001b[39m \u001b[43mdriver\u001b[49m\u001b[38;5;241;43m.\u001b[39;49m\u001b[43mfind_element\u001b[49m\u001b[43m(\u001b[49m\u001b[43mBy\u001b[49m\u001b[38;5;241;43m.\u001b[39;49m\u001b[43mXPATH\u001b[49m\u001b[43m,\u001b[49m\u001b[43m \u001b[49m\u001b[38;5;124;43m\"\u001b[39;49m\u001b[38;5;124;43m/html/body/div[2]/div[2]/div[2]/section/div[2]/dl/dd[2]/p[85]/span[8]/a\u001b[39;49m\u001b[38;5;124;43m\"\u001b[39;49m\u001b[43m)\u001b[49m\n\u001b[0;32m     49\u001b[0m     back_element\u001b[38;5;241m.\u001b[39mclick()\n\u001b[0;32m     52\u001b[0m \u001b[38;5;66;03m# 매 페이지마다 적당히 휴식\u001b[39;00m\n",
      "File \u001b[1;32m~\\AppData\\Roaming\\Python\\Python310\\site-packages\\selenium\\webdriver\\remote\\webdriver.py:831\u001b[0m, in \u001b[0;36mWebDriver.find_element\u001b[1;34m(self, by, value)\u001b[0m\n\u001b[0;32m    828\u001b[0m     by \u001b[38;5;241m=\u001b[39m By\u001b[38;5;241m.\u001b[39mCSS_SELECTOR\n\u001b[0;32m    829\u001b[0m     value \u001b[38;5;241m=\u001b[39m \u001b[38;5;124mf\u001b[39m\u001b[38;5;124m'\u001b[39m\u001b[38;5;124m[name=\u001b[39m\u001b[38;5;124m\"\u001b[39m\u001b[38;5;132;01m{\u001b[39;00mvalue\u001b[38;5;132;01m}\u001b[39;00m\u001b[38;5;124m\"\u001b[39m\u001b[38;5;124m]\u001b[39m\u001b[38;5;124m'\u001b[39m\n\u001b[1;32m--> 831\u001b[0m \u001b[38;5;28;01mreturn\u001b[39;00m \u001b[38;5;28;43mself\u001b[39;49m\u001b[38;5;241;43m.\u001b[39;49m\u001b[43mexecute\u001b[49m\u001b[43m(\u001b[49m\u001b[43mCommand\u001b[49m\u001b[38;5;241;43m.\u001b[39;49m\u001b[43mFIND_ELEMENT\u001b[49m\u001b[43m,\u001b[49m\u001b[43m \u001b[49m\u001b[43m{\u001b[49m\u001b[38;5;124;43m\"\u001b[39;49m\u001b[38;5;124;43musing\u001b[39;49m\u001b[38;5;124;43m\"\u001b[39;49m\u001b[43m:\u001b[49m\u001b[43m \u001b[49m\u001b[43mby\u001b[49m\u001b[43m,\u001b[49m\u001b[43m \u001b[49m\u001b[38;5;124;43m\"\u001b[39;49m\u001b[38;5;124;43mvalue\u001b[39;49m\u001b[38;5;124;43m\"\u001b[39;49m\u001b[43m:\u001b[49m\u001b[43m \u001b[49m\u001b[43mvalue\u001b[49m\u001b[43m}\u001b[49m\u001b[43m)\u001b[49m[\u001b[38;5;124m\"\u001b[39m\u001b[38;5;124mvalue\u001b[39m\u001b[38;5;124m\"\u001b[39m]\n",
      "File \u001b[1;32m~\\AppData\\Roaming\\Python\\Python310\\site-packages\\selenium\\webdriver\\remote\\webdriver.py:440\u001b[0m, in \u001b[0;36mWebDriver.execute\u001b[1;34m(self, driver_command, params)\u001b[0m\n\u001b[0;32m    438\u001b[0m response \u001b[38;5;241m=\u001b[39m \u001b[38;5;28mself\u001b[39m\u001b[38;5;241m.\u001b[39mcommand_executor\u001b[38;5;241m.\u001b[39mexecute(driver_command, params)\n\u001b[0;32m    439\u001b[0m \u001b[38;5;28;01mif\u001b[39;00m response:\n\u001b[1;32m--> 440\u001b[0m     \u001b[38;5;28;43mself\u001b[39;49m\u001b[38;5;241;43m.\u001b[39;49m\u001b[43merror_handler\u001b[49m\u001b[38;5;241;43m.\u001b[39;49m\u001b[43mcheck_response\u001b[49m\u001b[43m(\u001b[49m\u001b[43mresponse\u001b[49m\u001b[43m)\u001b[49m\n\u001b[0;32m    441\u001b[0m     response[\u001b[38;5;124m\"\u001b[39m\u001b[38;5;124mvalue\u001b[39m\u001b[38;5;124m\"\u001b[39m] \u001b[38;5;241m=\u001b[39m \u001b[38;5;28mself\u001b[39m\u001b[38;5;241m.\u001b[39m_unwrap_value(response\u001b[38;5;241m.\u001b[39mget(\u001b[38;5;124m\"\u001b[39m\u001b[38;5;124mvalue\u001b[39m\u001b[38;5;124m\"\u001b[39m, \u001b[38;5;28;01mNone\u001b[39;00m))\n\u001b[0;32m    442\u001b[0m     \u001b[38;5;28;01mreturn\u001b[39;00m response\n",
      "File \u001b[1;32m~\\AppData\\Roaming\\Python\\Python310\\site-packages\\selenium\\webdriver\\remote\\errorhandler.py:245\u001b[0m, in \u001b[0;36mErrorHandler.check_response\u001b[1;34m(self, response)\u001b[0m\n\u001b[0;32m    243\u001b[0m         alert_text \u001b[38;5;241m=\u001b[39m value[\u001b[38;5;124m\"\u001b[39m\u001b[38;5;124malert\u001b[39m\u001b[38;5;124m\"\u001b[39m]\u001b[38;5;241m.\u001b[39mget(\u001b[38;5;124m\"\u001b[39m\u001b[38;5;124mtext\u001b[39m\u001b[38;5;124m\"\u001b[39m)\n\u001b[0;32m    244\u001b[0m     \u001b[38;5;28;01mraise\u001b[39;00m exception_class(message, screen, stacktrace, alert_text)  \u001b[38;5;66;03m# type: ignore[call-arg]  # mypy is not smart enough here\u001b[39;00m\n\u001b[1;32m--> 245\u001b[0m \u001b[38;5;28;01mraise\u001b[39;00m exception_class(message, screen, stacktrace)\n",
      "\u001b[1;31mNoSuchElementException\u001b[0m: Message: no such element: Unable to locate element: {\"method\":\"xpath\",\"selector\":\"/html/body/div[2]/div[2]/div[2]/section/div[2]/dl/dd[2]/p[85]/span[8]/a\"}\n  (Session info: chrome=114.0.5735.199)\nStacktrace:\nBacktrace:\n\tGetHandleVerifier [0x00EA8893+48451]\n\t(No symbol) [0x00E3B8A1]\n\t(No symbol) [0x00D45058]\n\t(No symbol) [0x00D70467]\n\t(No symbol) [0x00D7069B]\n\t(No symbol) [0x00D9DD92]\n\t(No symbol) [0x00D8A304]\n\t(No symbol) [0x00D9C482]\n\t(No symbol) [0x00D8A0B6]\n\t(No symbol) [0x00D67E08]\n\t(No symbol) [0x00D68F2D]\n\tGetHandleVerifier [0x01108E3A+2540266]\n\tGetHandleVerifier [0x01148959+2801161]\n\tGetHandleVerifier [0x0114295C+2776588]\n\tGetHandleVerifier [0x00F32280+612144]\n\t(No symbol) [0x00E44F6C]\n\t(No symbol) [0x00E411D8]\n\t(No symbol) [0x00E412BB]\n\t(No symbol) [0x00E34857]\n\tBaseThreadInitThunk [0x760C00C9+25]\n\tRtlGetAppContainerNamedObjectPath [0x777E7B1E+286]\n\tRtlGetAppContainerNamedObjectPath [0x777E7AEE+238]\n"
     ]
    }
   ],
   "source": [
    "import os\n",
    "import time\n",
    "import pandas as pd\n",
    "from selenium import webdriver\n",
    "from selenium.webdriver.chrome.service import Service\n",
    "from selenium.webdriver.common.by import By\n",
    "from selenium.webdriver.support import expected_conditions as EC\n",
    "from selenium.webdriver.support.ui import WebDriverWait\n",
    "\n",
    "# 크롬드라이버 서비스를 설정합니다.\n",
    "service = Service('./chromedriver')\n",
    "driver = webdriver.Chrome(service=service)\n",
    "\n",
    "# 저장할 디렉터리 이름\n",
    "output_dir = \"NPP\" # 국민의힘정당\n",
    "\n",
    "if not os.path.exists(output_dir):\n",
    "    os.makedirs(output_dir)\n",
    "\n",
    "# 데이터를 저장할 DataFrame 생성\n",
    "df = pd.DataFrame(columns=['page_index', 'date', 'content'])\n",
    "\n",
    "for page in range(145, 3542):\n",
    "    # 페이지 접속\n",
    "    driver.get(f'https://www.peoplepowerparty.kr/news/comment/BBSDD0001/?page={page}')\n",
    "    for index in range(1, 11): # 각 페이지에 10개의 항목이 있다고 가정\n",
    "        index_xpath = f\"/html/body/div[2]/div[2]/div[2]/section/div[4]/table/tbody/tr[{index}]/td[3]/a\"\n",
    "        index_element = WebDriverWait(driver, 10).until(EC.presence_of_element_located((By.XPATH, index_xpath)))\n",
    "        index_element.click()\n",
    "        \n",
    "        date_xpath = f\"/html/body/div[2]/div[2]/div[2]/section/div[2]/dl/dd[1]\"\n",
    "        # 내용 xpath\n",
    "        content_xpath = f\"/html/body/div[2]/div[2]/div[2]/section/div[2]/dl/dd[2]\"\n",
    "        \n",
    "        # 작성일자와 내용 정보 가져오기\n",
    "        date_element = WebDriverWait(driver, 10).until(EC.presence_of_element_located((By.XPATH, date_xpath)))\n",
    "        content_element = WebDriverWait(driver, 10).until(EC.presence_of_element_located((By.XPATH, content_xpath)))\n",
    "        date = date_element.text.strip()\n",
    "        content = content_element.text.strip()\n",
    "        # 정보를 DataFrame에 추가\n",
    "        new_row = {'page_index': f'{page}_{index}', 'date': date, 'content': content}\n",
    "        df = pd.concat([df, pd.DataFrame([new_row])], ignore_index=True)\n",
    "        to_back_xpath = \"/html/body/div[2]/div[2]/div[2]/section/div[2]/div/a\"\n",
    "        back_element = WebDriverWait(driver, 10).until(EC.presence_of_element_located((By.XPATH, to_back_xpath)))\n",
    "        back_element.click()\n",
    "        \n",
    "    # 매 페이지마다 적당히 휴식\n",
    "    time.sleep(0.5)\n",
    "\n",
    "    # 종료 조건 검사\n",
    "    if page == 3541 and index == 5:\n",
    "        break\n",
    "\n",
    "# DataFrame을 CSV 파일로 저장\n",
    "df.to_csv(os.path.join(output_dir, 'scraped_data.csv'), index=False, encoding='utf-8')\n",
    "\n",
    "driver.quit()"
   ]
  },
  {
   "cell_type": "code",
   "execution_count": 8,
   "id": "5beef5dc",
   "metadata": {},
   "outputs": [
    {
     "data": {
      "text/html": [
       "<div>\n",
       "<style scoped>\n",
       "    .dataframe tbody tr th:only-of-type {\n",
       "        vertical-align: middle;\n",
       "    }\n",
       "\n",
       "    .dataframe tbody tr th {\n",
       "        vertical-align: top;\n",
       "    }\n",
       "\n",
       "    .dataframe thead th {\n",
       "        text-align: right;\n",
       "    }\n",
       "</style>\n",
       "<table border=\"1\" class=\"dataframe\">\n",
       "  <thead>\n",
       "    <tr style=\"text-align: right;\">\n",
       "      <th></th>\n",
       "      <th>page_index</th>\n",
       "      <th>date</th>\n",
       "      <th>content</th>\n",
       "    </tr>\n",
       "  </thead>\n",
       "  <tbody>\n",
       "    <tr>\n",
       "      <th>0</th>\n",
       "      <td>1_1</td>\n",
       "      <td>작성일\\n2023-07-18</td>\n",
       "      <td>오늘 열린 한미 양국간의 제1차 핵협의그룹(NCG) 회의는 대한민국의 안보체계에 새...</td>\n",
       "    </tr>\n",
       "    <tr>\n",
       "      <th>1</th>\n",
       "      <td>1_2</td>\n",
       "      <td>작성일\\n2023-07-18</td>\n",
       "      <td>혹시나 했는데 역시나였다.\\n\\n가죽을 벗기고 뼈를 깎는 노력으로 당을 혁신하겠다는...</td>\n",
       "    </tr>\n",
       "    <tr>\n",
       "      <th>2</th>\n",
       "      <td>1_3</td>\n",
       "      <td>작성일\\n2023-07-18</td>\n",
       "      <td>민주당이 오늘 의총에서 부랴부랴 혁신위 1호 쇄신안 ‘불체포특권 포기’를 추인했지만...</td>\n",
       "    </tr>\n",
       "    <tr>\n",
       "      <th>3</th>\n",
       "      <td>1_4</td>\n",
       "      <td>작성일\\n2023-07-18</td>\n",
       "      <td>7월 18일 의원총회 주요내용은 다음과 같다.\\n  &lt;윤재옥 원내대표&gt;\\n  일주일...</td>\n",
       "    </tr>\n",
       "    <tr>\n",
       "      <th>4</th>\n",
       "      <td>1_5</td>\n",
       "      <td>작성일\\n2023-07-18</td>\n",
       "      <td>연일 계속된 폭우로 인해 인명사고가 속출했다. 어떤 말로도 위로가 되지 않겠지만 사...</td>\n",
       "    </tr>\n",
       "    <tr>\n",
       "      <th>...</th>\n",
       "      <td>...</td>\n",
       "      <td>...</td>\n",
       "      <td>...</td>\n",
       "    </tr>\n",
       "    <tr>\n",
       "      <th>1440</th>\n",
       "      <td>145_1</td>\n",
       "      <td>작성일\\n2022-12-29</td>\n",
       "      <td>사업주뿐 아니라 근로자들도 간절히 원하고 있는 주 52시간을 8시간 초과해 연장 근...</td>\n",
       "    </tr>\n",
       "    <tr>\n",
       "      <th>1441</th>\n",
       "      <td>145_2</td>\n",
       "      <td>작성일\\n2022-12-29</td>\n",
       "      <td>민주당이 노웅래 의원에 대한 체포동의안을 부결시키고 심지어 그 이유를 법무부 장관 ...</td>\n",
       "    </tr>\n",
       "    <tr>\n",
       "      <th>1442</th>\n",
       "      <td>145_3</td>\n",
       "      <td>작성일\\n2022-12-29</td>\n",
       "      <td>정진석 비상대책위원장, 해병대6여단 방문 주요내용 [보도자료]\\n2022-12-27...</td>\n",
       "    </tr>\n",
       "    <tr>\n",
       "      <th>1443</th>\n",
       "      <td>145_4</td>\n",
       "      <td>작성일\\n2022-12-29</td>\n",
       "      <td>정진석 비상대책위원장, 천안함 46용사 위령탑 참배 주요내용 [보도자료]\\n2022...</td>\n",
       "    </tr>\n",
       "    <tr>\n",
       "      <th>1444</th>\n",
       "      <td>145_5</td>\n",
       "      <td>작성일\\n2022-12-29</td>\n",
       "      <td>12월 27일 원내대책회의 주요내용은 다음과 같다.\\n &lt;주호영 원내대표&gt;\\n 어제...</td>\n",
       "    </tr>\n",
       "  </tbody>\n",
       "</table>\n",
       "<p>1445 rows × 3 columns</p>\n",
       "</div>"
      ],
      "text/plain": [
       "     page_index             date  \\\n",
       "0           1_1  작성일\\n2023-07-18   \n",
       "1           1_2  작성일\\n2023-07-18   \n",
       "2           1_3  작성일\\n2023-07-18   \n",
       "3           1_4  작성일\\n2023-07-18   \n",
       "4           1_5  작성일\\n2023-07-18   \n",
       "...         ...              ...   \n",
       "1440      145_1  작성일\\n2022-12-29   \n",
       "1441      145_2  작성일\\n2022-12-29   \n",
       "1442      145_3  작성일\\n2022-12-29   \n",
       "1443      145_4  작성일\\n2022-12-29   \n",
       "1444      145_5  작성일\\n2022-12-29   \n",
       "\n",
       "                                                content  \n",
       "0     오늘 열린 한미 양국간의 제1차 핵협의그룹(NCG) 회의는 대한민국의 안보체계에 새...  \n",
       "1     혹시나 했는데 역시나였다.\\n\\n가죽을 벗기고 뼈를 깎는 노력으로 당을 혁신하겠다는...  \n",
       "2     민주당이 오늘 의총에서 부랴부랴 혁신위 1호 쇄신안 ‘불체포특권 포기’를 추인했지만...  \n",
       "3     7월 18일 의원총회 주요내용은 다음과 같다.\\n  <윤재옥 원내대표>\\n  일주일...  \n",
       "4     연일 계속된 폭우로 인해 인명사고가 속출했다. 어떤 말로도 위로가 되지 않겠지만 사...  \n",
       "...                                                 ...  \n",
       "1440  사업주뿐 아니라 근로자들도 간절히 원하고 있는 주 52시간을 8시간 초과해 연장 근...  \n",
       "1441  민주당이 노웅래 의원에 대한 체포동의안을 부결시키고 심지어 그 이유를 법무부 장관 ...  \n",
       "1442  정진석 비상대책위원장, 해병대6여단 방문 주요내용 [보도자료]\\n2022-12-27...  \n",
       "1443  정진석 비상대책위원장, 천안함 46용사 위령탑 참배 주요내용 [보도자료]\\n2022...  \n",
       "1444  12월 27일 원내대책회의 주요내용은 다음과 같다.\\n <주호영 원내대표>\\n 어제...  \n",
       "\n",
       "[1445 rows x 3 columns]"
      ]
     },
     "execution_count": 8,
     "metadata": {},
     "output_type": "execute_result"
    }
   ],
   "source": [
    "df"
   ]
  },
  {
   "cell_type": "markdown",
   "id": "bee1eef3",
   "metadata": {},
   "source": [
    "# 최종 국민의힘(NPP)"
   ]
  },
  {
   "cell_type": "code",
   "execution_count": 17,
   "id": "b4532143",
   "metadata": {},
   "outputs": [],
   "source": [
    "import os\n",
    "import time\n",
    "import pandas as pd\n",
    "from selenium import webdriver\n",
    "from selenium.webdriver.chrome.service import Service\n",
    "from selenium.webdriver.common.by import By\n",
    "from selenium.webdriver.support import expected_conditions as EC\n",
    "from selenium.webdriver.support.ui import WebDriverWait\n",
    "\n",
    "# 크롬드라이버 서비스를 설정합니다.\n",
    "service = Service('./chromedriver')\n",
    "driver = webdriver.Chrome(service=service)\n",
    "\n",
    "# 저장할 디렉터리 이름\n",
    "output_dir = \"NPP\" # 국민의힘정당\n",
    "\n",
    "if not os.path.exists(output_dir):\n",
    "    os.makedirs(output_dir)\n",
    "\n",
    "# 데이터를 저장할 DataFrame 생성\n",
    "df = pd.DataFrame(columns=['page_index', 'date', 'content'])\n",
    "\n",
    "for page in range(1, 3542):\n",
    "    # 페이지 접속\n",
    "    driver.get(f'https://www.peoplepowerparty.kr/news/comment/BBSDD0001/?page={page}')\n",
    "    for index in range(1, 11): # 각 페이지에 10개의 항목이 있다고 가정\n",
    "        index_xpath = f\"/html/body/div[2]/div[2]/div[2]/section/div[4]/table/tbody/tr[{index}]/td[3]/a\"\n",
    "        index_element = WebDriverWait(driver, 10).until(EC.presence_of_element_located((By.XPATH, index_xpath)))\n",
    "        index_element.click()\n",
    "        \n",
    "        date_xpath = f\"/html/body/div[2]/div[2]/div[2]/section/div[2]/dl/dd[1]\"\n",
    "        # 내용 xpath\n",
    "        content_xpath = f\"/html/body/div[2]/div[2]/div[2]/section/div[2]/dl/dd[2]\"\n",
    "        \n",
    "        # 작성일자와 내용 정보 가져오기\n",
    "        date_element = WebDriverWait(driver, 10).until(EC.presence_of_element_located((By.XPATH, date_xpath)))\n",
    "        content_element = WebDriverWait(driver, 10).until(EC.presence_of_element_located((By.XPATH, content_xpath)))\n",
    "        date = date_element.text.strip()\n",
    "        content = content_element.text.strip()\n",
    "        # 정보를 DataFrame에 추가\n",
    "        new_row = {'page_index': f'{page}_{index}', 'date': date, 'content': content}\n",
    "        df = pd.concat([df, pd.DataFrame([new_row])], ignore_index=True)\n",
    "        driver.get(f'https://www.peoplepowerparty.kr/news/comment/BBSDD0001/?page={page}')\n",
    "\n",
    "    # 매 페이지마다 적당히 휴식\n",
    "    time.sleep(0.5)\n",
    "\n",
    "    # 종료 조건 검사\n",
    "    if page == 3541 and index == 5:\n",
    "        break\n",
    "\n",
    "# DataFrame을 CSV 파일로 저장\n",
    "df.to_csv(os.path.join(output_dir, 'scraped_data.csv'), index=False, encoding='utf-8')\n",
    "\n",
    "driver.quit()"
   ]
  },
  {
   "cell_type": "code",
   "execution_count": 35,
   "id": "de03c2ca",
   "metadata": {},
   "outputs": [
    {
     "data": {
      "text/html": [
       "<div>\n",
       "<style scoped>\n",
       "    .dataframe tbody tr th:only-of-type {\n",
       "        vertical-align: middle;\n",
       "    }\n",
       "\n",
       "    .dataframe tbody tr th {\n",
       "        vertical-align: top;\n",
       "    }\n",
       "\n",
       "    .dataframe thead th {\n",
       "        text-align: right;\n",
       "    }\n",
       "</style>\n",
       "<table border=\"1\" class=\"dataframe\">\n",
       "  <thead>\n",
       "    <tr style=\"text-align: right;\">\n",
       "      <th></th>\n",
       "      <th>page_index</th>\n",
       "      <th>date</th>\n",
       "      <th>content</th>\n",
       "    </tr>\n",
       "  </thead>\n",
       "  <tbody>\n",
       "    <tr>\n",
       "      <th>0</th>\n",
       "      <td>1_1</td>\n",
       "      <td>작성일\\n2023-07-19</td>\n",
       "      <td>김기현 당 대표는 2023. 7. 19.(수) 11:00, 신월 빗물저류배수시설에 ...</td>\n",
       "    </tr>\n",
       "    <tr>\n",
       "      <th>1</th>\n",
       "      <td>1_2</td>\n",
       "      <td>작성일\\n2023-07-19</td>\n",
       "      <td>오늘 한 언론에 보도된 무소속 박완주 의원의 검찰 공소장 안에는, 강력 성범죄자의 ...</td>\n",
       "    </tr>\n",
       "    <tr>\n",
       "      <th>2</th>\n",
       "      <td>1_3</td>\n",
       "      <td>작성일\\n2023-07-19</td>\n",
       "      <td>7월 19일 원내대책회의 주요내용은 다음과 같다.\\n  &lt;윤재옥 원내대표&gt;\\n  전...</td>\n",
       "    </tr>\n",
       "    <tr>\n",
       "      <th>3</th>\n",
       "      <td>1_4</td>\n",
       "      <td>작성일\\n2023-07-19</td>\n",
       "      <td>더불어민주당이 윤석열 정부의 ‘시행령 추진’에 본격적으로 제동을 걸고 있다. \\n\\...</td>\n",
       "    </tr>\n",
       "    <tr>\n",
       "      <th>4</th>\n",
       "      <td>1_5</td>\n",
       "      <td>작성일\\n2023-07-19</td>\n",
       "      <td>그칠 줄 모르던 비가 잠시 소강상태에 접어들었지만, 폭우가 할퀴고 간 자리에 남겨진...</td>\n",
       "    </tr>\n",
       "    <tr>\n",
       "      <th>...</th>\n",
       "      <td>...</td>\n",
       "      <td>...</td>\n",
       "      <td>...</td>\n",
       "    </tr>\n",
       "    <tr>\n",
       "      <th>35405</th>\n",
       "      <td>3541_6</td>\n",
       "      <td>작성일\\n2004-03-25</td>\n",
       "      <td>전교조가 탄핵무효를 선언한 것은 탄핵수업 계획에 이어 교사의 본분을 망각한 행동으로...</td>\n",
       "    </tr>\n",
       "    <tr>\n",
       "      <th>35406</th>\n",
       "      <td>3541_7</td>\n",
       "      <td>작성일\\n2004-03-25</td>\n",
       "      <td>지금 대한민국은 문자 그대로 토붕와해(土崩瓦解)의 위기상황이라 해도 과언이 아니다....</td>\n",
       "    </tr>\n",
       "    <tr>\n",
       "      <th>35407</th>\n",
       "      <td>3541_8</td>\n",
       "      <td>작성일\\n2004-03-24</td>\n",
       "      <td>상임운영위원회의 주요내용은 다음과 같다\\n\\n&lt;박근혜 당대표&gt;\\nㅇ   경제현황판을...</td>\n",
       "    </tr>\n",
       "    <tr>\n",
       "      <th>35408</th>\n",
       "      <td>3541_9</td>\n",
       "      <td>작성일\\n2004-03-24</td>\n",
       "      <td>전국공무원노조(전공노), 전국교직원노조(전교조)가 '탄핵반대' '탄핵무효' 선언을 ...</td>\n",
       "    </tr>\n",
       "    <tr>\n",
       "      <th>35409</th>\n",
       "      <td>3541_10</td>\n",
       "      <td>작성일\\n2004-03-24</td>\n",
       "      <td>우리 한나라당은 어제 전당대회를 통해 박근혜 대표를 새로이 선출하고 국민 앞에 새로...</td>\n",
       "    </tr>\n",
       "  </tbody>\n",
       "</table>\n",
       "<p>35410 rows × 3 columns</p>\n",
       "</div>"
      ],
      "text/plain": [
       "      page_index             date  \\\n",
       "0            1_1  작성일\\n2023-07-19   \n",
       "1            1_2  작성일\\n2023-07-19   \n",
       "2            1_3  작성일\\n2023-07-19   \n",
       "3            1_4  작성일\\n2023-07-19   \n",
       "4            1_5  작성일\\n2023-07-19   \n",
       "...          ...              ...   \n",
       "35405     3541_6  작성일\\n2004-03-25   \n",
       "35406     3541_7  작성일\\n2004-03-25   \n",
       "35407     3541_8  작성일\\n2004-03-24   \n",
       "35408     3541_9  작성일\\n2004-03-24   \n",
       "35409    3541_10  작성일\\n2004-03-24   \n",
       "\n",
       "                                                 content  \n",
       "0      김기현 당 대표는 2023. 7. 19.(수) 11:00, 신월 빗물저류배수시설에 ...  \n",
       "1      오늘 한 언론에 보도된 무소속 박완주 의원의 검찰 공소장 안에는, 강력 성범죄자의 ...  \n",
       "2      7월 19일 원내대책회의 주요내용은 다음과 같다.\\n  <윤재옥 원내대표>\\n  전...  \n",
       "3      더불어민주당이 윤석열 정부의 ‘시행령 추진’에 본격적으로 제동을 걸고 있다. \\n\\...  \n",
       "4      그칠 줄 모르던 비가 잠시 소강상태에 접어들었지만, 폭우가 할퀴고 간 자리에 남겨진...  \n",
       "...                                                  ...  \n",
       "35405  전교조가 탄핵무효를 선언한 것은 탄핵수업 계획에 이어 교사의 본분을 망각한 행동으로...  \n",
       "35406  지금 대한민국은 문자 그대로 토붕와해(土崩瓦解)의 위기상황이라 해도 과언이 아니다....  \n",
       "35407  상임운영위원회의 주요내용은 다음과 같다\\n\\n<박근혜 당대표>\\nㅇ   경제현황판을...  \n",
       "35408  전국공무원노조(전공노), 전국교직원노조(전교조)가 '탄핵반대' '탄핵무효' 선언을 ...  \n",
       "35409  우리 한나라당은 어제 전당대회를 통해 박근혜 대표를 새로이 선출하고 국민 앞에 새로...  \n",
       "\n",
       "[35410 rows x 3 columns]"
      ]
     },
     "execution_count": 35,
     "metadata": {},
     "output_type": "execute_result"
    }
   ],
   "source": [
    "df"
   ]
  },
  {
   "cell_type": "code",
   "execution_count": 36,
   "id": "059769ac",
   "metadata": {},
   "outputs": [],
   "source": [
    "import pandas as pd\n",
    "from datetime import datetime\n",
    "\n",
    "# 'date' 컬럼에서 '작성일\\n' 제거\n",
    "df['date'] = df['date'].str.replace('작성일\\n', '', regex=False)\n",
    "\n",
    "# 'date' 컬럼을 datetime 형태로 변환\n",
    "df['date'] = pd.to_datetime(df['date'], format='%Y-%m-%d')\n",
    "\n",
    "# 'year'와 'quarter' 컬럼 생성\n",
    "df['year'] = df['date'].dt.year\n",
    "df['quarter'] = df['date'].dt.quarter\n",
    "\n",
    "# 'content' 컬럼에서 '\\n'와 '\\t' 제거\n",
    "df['content'] = df['content'].replace('\\n', '', regex=True).replace('\\t', '', regex=True)"
   ]
  },
  {
   "cell_type": "code",
   "execution_count": 37,
   "id": "ecb02e28",
   "metadata": {},
   "outputs": [
    {
     "data": {
      "text/html": [
       "<div>\n",
       "<style scoped>\n",
       "    .dataframe tbody tr th:only-of-type {\n",
       "        vertical-align: middle;\n",
       "    }\n",
       "\n",
       "    .dataframe tbody tr th {\n",
       "        vertical-align: top;\n",
       "    }\n",
       "\n",
       "    .dataframe thead th {\n",
       "        text-align: right;\n",
       "    }\n",
       "</style>\n",
       "<table border=\"1\" class=\"dataframe\">\n",
       "  <thead>\n",
       "    <tr style=\"text-align: right;\">\n",
       "      <th></th>\n",
       "      <th>page_index</th>\n",
       "      <th>date</th>\n",
       "      <th>content</th>\n",
       "      <th>year</th>\n",
       "      <th>quarter</th>\n",
       "    </tr>\n",
       "  </thead>\n",
       "  <tbody>\n",
       "    <tr>\n",
       "      <th>0</th>\n",
       "      <td>1_1</td>\n",
       "      <td>2023-07-19</td>\n",
       "      <td>김기현 당 대표는 2023. 7. 19.(수) 11:00, 신월 빗물저류배수시설에 ...</td>\n",
       "      <td>2023</td>\n",
       "      <td>3</td>\n",
       "    </tr>\n",
       "    <tr>\n",
       "      <th>1</th>\n",
       "      <td>1_2</td>\n",
       "      <td>2023-07-19</td>\n",
       "      <td>오늘 한 언론에 보도된 무소속 박완주 의원의 검찰 공소장 안에는, 강력 성범죄자의 ...</td>\n",
       "      <td>2023</td>\n",
       "      <td>3</td>\n",
       "    </tr>\n",
       "    <tr>\n",
       "      <th>2</th>\n",
       "      <td>1_3</td>\n",
       "      <td>2023-07-19</td>\n",
       "      <td>7월 19일 원내대책회의 주요내용은 다음과 같다.  &lt;윤재옥 원내대표&gt;  전국적인 ...</td>\n",
       "      <td>2023</td>\n",
       "      <td>3</td>\n",
       "    </tr>\n",
       "    <tr>\n",
       "      <th>3</th>\n",
       "      <td>1_4</td>\n",
       "      <td>2023-07-19</td>\n",
       "      <td>더불어민주당이 윤석열 정부의 ‘시행령 추진’에 본격적으로 제동을 걸고 있다. KBS...</td>\n",
       "      <td>2023</td>\n",
       "      <td>3</td>\n",
       "    </tr>\n",
       "    <tr>\n",
       "      <th>4</th>\n",
       "      <td>1_5</td>\n",
       "      <td>2023-07-19</td>\n",
       "      <td>그칠 줄 모르던 비가 잠시 소강상태에 접어들었지만, 폭우가 할퀴고 간 자리에 남겨진...</td>\n",
       "      <td>2023</td>\n",
       "      <td>3</td>\n",
       "    </tr>\n",
       "    <tr>\n",
       "      <th>...</th>\n",
       "      <td>...</td>\n",
       "      <td>...</td>\n",
       "      <td>...</td>\n",
       "      <td>...</td>\n",
       "      <td>...</td>\n",
       "    </tr>\n",
       "    <tr>\n",
       "      <th>35405</th>\n",
       "      <td>3541_6</td>\n",
       "      <td>2004-03-25</td>\n",
       "      <td>전교조가 탄핵무효를 선언한 것은 탄핵수업 계획에 이어 교사의 본분을 망각한 행동으로...</td>\n",
       "      <td>2004</td>\n",
       "      <td>1</td>\n",
       "    </tr>\n",
       "    <tr>\n",
       "      <th>35406</th>\n",
       "      <td>3541_7</td>\n",
       "      <td>2004-03-25</td>\n",
       "      <td>지금 대한민국은 문자 그대로 토붕와해(土崩瓦解)의 위기상황이라 해도 과언이 아니다....</td>\n",
       "      <td>2004</td>\n",
       "      <td>1</td>\n",
       "    </tr>\n",
       "    <tr>\n",
       "      <th>35407</th>\n",
       "      <td>3541_8</td>\n",
       "      <td>2004-03-24</td>\n",
       "      <td>상임운영위원회의 주요내용은 다음과 같다&lt;박근혜 당대표&gt;ㅇ   경제현황판을 만들어서 ...</td>\n",
       "      <td>2004</td>\n",
       "      <td>1</td>\n",
       "    </tr>\n",
       "    <tr>\n",
       "      <th>35408</th>\n",
       "      <td>3541_9</td>\n",
       "      <td>2004-03-24</td>\n",
       "      <td>전국공무원노조(전공노), 전국교직원노조(전교조)가 '탄핵반대' '탄핵무효' 선언을 ...</td>\n",
       "      <td>2004</td>\n",
       "      <td>1</td>\n",
       "    </tr>\n",
       "    <tr>\n",
       "      <th>35409</th>\n",
       "      <td>3541_10</td>\n",
       "      <td>2004-03-24</td>\n",
       "      <td>우리 한나라당은 어제 전당대회를 통해 박근혜 대표를 새로이 선출하고 국민 앞에 새로...</td>\n",
       "      <td>2004</td>\n",
       "      <td>1</td>\n",
       "    </tr>\n",
       "  </tbody>\n",
       "</table>\n",
       "<p>35410 rows × 5 columns</p>\n",
       "</div>"
      ],
      "text/plain": [
       "      page_index       date  \\\n",
       "0            1_1 2023-07-19   \n",
       "1            1_2 2023-07-19   \n",
       "2            1_3 2023-07-19   \n",
       "3            1_4 2023-07-19   \n",
       "4            1_5 2023-07-19   \n",
       "...          ...        ...   \n",
       "35405     3541_6 2004-03-25   \n",
       "35406     3541_7 2004-03-25   \n",
       "35407     3541_8 2004-03-24   \n",
       "35408     3541_9 2004-03-24   \n",
       "35409    3541_10 2004-03-24   \n",
       "\n",
       "                                                 content  year  quarter  \n",
       "0      김기현 당 대표는 2023. 7. 19.(수) 11:00, 신월 빗물저류배수시설에 ...  2023        3  \n",
       "1      오늘 한 언론에 보도된 무소속 박완주 의원의 검찰 공소장 안에는, 강력 성범죄자의 ...  2023        3  \n",
       "2      7월 19일 원내대책회의 주요내용은 다음과 같다.  <윤재옥 원내대표>  전국적인 ...  2023        3  \n",
       "3      더불어민주당이 윤석열 정부의 ‘시행령 추진’에 본격적으로 제동을 걸고 있다. KBS...  2023        3  \n",
       "4      그칠 줄 모르던 비가 잠시 소강상태에 접어들었지만, 폭우가 할퀴고 간 자리에 남겨진...  2023        3  \n",
       "...                                                  ...   ...      ...  \n",
       "35405  전교조가 탄핵무효를 선언한 것은 탄핵수업 계획에 이어 교사의 본분을 망각한 행동으로...  2004        1  \n",
       "35406  지금 대한민국은 문자 그대로 토붕와해(土崩瓦解)의 위기상황이라 해도 과언이 아니다....  2004        1  \n",
       "35407  상임운영위원회의 주요내용은 다음과 같다<박근혜 당대표>ㅇ   경제현황판을 만들어서 ...  2004        1  \n",
       "35408  전국공무원노조(전공노), 전국교직원노조(전교조)가 '탄핵반대' '탄핵무효' 선언을 ...  2004        1  \n",
       "35409  우리 한나라당은 어제 전당대회를 통해 박근혜 대표를 새로이 선출하고 국민 앞에 새로...  2004        1  \n",
       "\n",
       "[35410 rows x 5 columns]"
      ]
     },
     "execution_count": 37,
     "metadata": {},
     "output_type": "execute_result"
    }
   ],
   "source": [
    "df"
   ]
  },
  {
   "cell_type": "code",
   "execution_count": 38,
   "id": "b6695cdc",
   "metadata": {},
   "outputs": [],
   "source": [
    "# 'date' 컬럼 삭제\n",
    "df = df.drop('date', axis=1)\n",
    "\n",
    "# 컬럼 순서 변경\n",
    "df = df.reindex(columns=['page_index', 'year', 'quarter', 'content'])"
   ]
  },
  {
   "cell_type": "code",
   "execution_count": 39,
   "id": "e4ebf5c4",
   "metadata": {},
   "outputs": [
    {
     "data": {
      "text/html": [
       "<div>\n",
       "<style scoped>\n",
       "    .dataframe tbody tr th:only-of-type {\n",
       "        vertical-align: middle;\n",
       "    }\n",
       "\n",
       "    .dataframe tbody tr th {\n",
       "        vertical-align: top;\n",
       "    }\n",
       "\n",
       "    .dataframe thead th {\n",
       "        text-align: right;\n",
       "    }\n",
       "</style>\n",
       "<table border=\"1\" class=\"dataframe\">\n",
       "  <thead>\n",
       "    <tr style=\"text-align: right;\">\n",
       "      <th></th>\n",
       "      <th>page_index</th>\n",
       "      <th>year</th>\n",
       "      <th>quarter</th>\n",
       "      <th>content</th>\n",
       "    </tr>\n",
       "  </thead>\n",
       "  <tbody>\n",
       "    <tr>\n",
       "      <th>0</th>\n",
       "      <td>1_1</td>\n",
       "      <td>2023</td>\n",
       "      <td>3</td>\n",
       "      <td>김기현 당 대표는 2023. 7. 19.(수) 11:00, 신월 빗물저류배수시설에 ...</td>\n",
       "    </tr>\n",
       "    <tr>\n",
       "      <th>1</th>\n",
       "      <td>1_2</td>\n",
       "      <td>2023</td>\n",
       "      <td>3</td>\n",
       "      <td>오늘 한 언론에 보도된 무소속 박완주 의원의 검찰 공소장 안에는, 강력 성범죄자의 ...</td>\n",
       "    </tr>\n",
       "    <tr>\n",
       "      <th>2</th>\n",
       "      <td>1_3</td>\n",
       "      <td>2023</td>\n",
       "      <td>3</td>\n",
       "      <td>7월 19일 원내대책회의 주요내용은 다음과 같다.  &lt;윤재옥 원내대표&gt;  전국적인 ...</td>\n",
       "    </tr>\n",
       "    <tr>\n",
       "      <th>3</th>\n",
       "      <td>1_4</td>\n",
       "      <td>2023</td>\n",
       "      <td>3</td>\n",
       "      <td>더불어민주당이 윤석열 정부의 ‘시행령 추진’에 본격적으로 제동을 걸고 있다. KBS...</td>\n",
       "    </tr>\n",
       "    <tr>\n",
       "      <th>4</th>\n",
       "      <td>1_5</td>\n",
       "      <td>2023</td>\n",
       "      <td>3</td>\n",
       "      <td>그칠 줄 모르던 비가 잠시 소강상태에 접어들었지만, 폭우가 할퀴고 간 자리에 남겨진...</td>\n",
       "    </tr>\n",
       "    <tr>\n",
       "      <th>...</th>\n",
       "      <td>...</td>\n",
       "      <td>...</td>\n",
       "      <td>...</td>\n",
       "      <td>...</td>\n",
       "    </tr>\n",
       "    <tr>\n",
       "      <th>35405</th>\n",
       "      <td>3541_6</td>\n",
       "      <td>2004</td>\n",
       "      <td>1</td>\n",
       "      <td>전교조가 탄핵무효를 선언한 것은 탄핵수업 계획에 이어 교사의 본분을 망각한 행동으로...</td>\n",
       "    </tr>\n",
       "    <tr>\n",
       "      <th>35406</th>\n",
       "      <td>3541_7</td>\n",
       "      <td>2004</td>\n",
       "      <td>1</td>\n",
       "      <td>지금 대한민국은 문자 그대로 토붕와해(土崩瓦解)의 위기상황이라 해도 과언이 아니다....</td>\n",
       "    </tr>\n",
       "    <tr>\n",
       "      <th>35407</th>\n",
       "      <td>3541_8</td>\n",
       "      <td>2004</td>\n",
       "      <td>1</td>\n",
       "      <td>상임운영위원회의 주요내용은 다음과 같다&lt;박근혜 당대표&gt;ㅇ   경제현황판을 만들어서 ...</td>\n",
       "    </tr>\n",
       "    <tr>\n",
       "      <th>35408</th>\n",
       "      <td>3541_9</td>\n",
       "      <td>2004</td>\n",
       "      <td>1</td>\n",
       "      <td>전국공무원노조(전공노), 전국교직원노조(전교조)가 '탄핵반대' '탄핵무효' 선언을 ...</td>\n",
       "    </tr>\n",
       "    <tr>\n",
       "      <th>35409</th>\n",
       "      <td>3541_10</td>\n",
       "      <td>2004</td>\n",
       "      <td>1</td>\n",
       "      <td>우리 한나라당은 어제 전당대회를 통해 박근혜 대표를 새로이 선출하고 국민 앞에 새로...</td>\n",
       "    </tr>\n",
       "  </tbody>\n",
       "</table>\n",
       "<p>35410 rows × 4 columns</p>\n",
       "</div>"
      ],
      "text/plain": [
       "      page_index  year  quarter  \\\n",
       "0            1_1  2023        3   \n",
       "1            1_2  2023        3   \n",
       "2            1_3  2023        3   \n",
       "3            1_4  2023        3   \n",
       "4            1_5  2023        3   \n",
       "...          ...   ...      ...   \n",
       "35405     3541_6  2004        1   \n",
       "35406     3541_7  2004        1   \n",
       "35407     3541_8  2004        1   \n",
       "35408     3541_9  2004        1   \n",
       "35409    3541_10  2004        1   \n",
       "\n",
       "                                                 content  \n",
       "0      김기현 당 대표는 2023. 7. 19.(수) 11:00, 신월 빗물저류배수시설에 ...  \n",
       "1      오늘 한 언론에 보도된 무소속 박완주 의원의 검찰 공소장 안에는, 강력 성범죄자의 ...  \n",
       "2      7월 19일 원내대책회의 주요내용은 다음과 같다.  <윤재옥 원내대표>  전국적인 ...  \n",
       "3      더불어민주당이 윤석열 정부의 ‘시행령 추진’에 본격적으로 제동을 걸고 있다. KBS...  \n",
       "4      그칠 줄 모르던 비가 잠시 소강상태에 접어들었지만, 폭우가 할퀴고 간 자리에 남겨진...  \n",
       "...                                                  ...  \n",
       "35405  전교조가 탄핵무효를 선언한 것은 탄핵수업 계획에 이어 교사의 본분을 망각한 행동으로...  \n",
       "35406  지금 대한민국은 문자 그대로 토붕와해(土崩瓦解)의 위기상황이라 해도 과언이 아니다....  \n",
       "35407  상임운영위원회의 주요내용은 다음과 같다<박근혜 당대표>ㅇ   경제현황판을 만들어서 ...  \n",
       "35408  전국공무원노조(전공노), 전국교직원노조(전교조)가 '탄핵반대' '탄핵무효' 선언을 ...  \n",
       "35409  우리 한나라당은 어제 전당대회를 통해 박근혜 대표를 새로이 선출하고 국민 앞에 새로...  \n",
       "\n",
       "[35410 rows x 4 columns]"
      ]
     },
     "execution_count": 39,
     "metadata": {},
     "output_type": "execute_result"
    }
   ],
   "source": [
    "df"
   ]
  },
  {
   "cell_type": "code",
   "execution_count": 40,
   "id": "bde57cca",
   "metadata": {},
   "outputs": [],
   "source": [
    "df.to_csv(os.path.join(output_dir, 'final_NPP_df.csv'), index=False, encoding='utf-8')"
   ]
  },
  {
   "cell_type": "code",
   "execution_count": 41,
   "id": "78b5aeb0",
   "metadata": {},
   "outputs": [
    {
     "data": {
      "text/plain": [
       "'오늘 한 언론에 보도된 무소속 박완주 의원의 검찰 공소장 안에는, 강력 성범죄자의 행태와 다름없는 추악한 모습이 고스란히 담겨있었다. 박 의원은 자신의 보좌관이었던 피해자를 노래방에서 강제로 추행하기 위해 비서를 먼저 내보내는 치밀함을 보였고,귀가하려는 피해자에게 차에 동승 할 것을 종용하고, 집에 도착해서는 피해자의 손목을 잡으며 자신의 집에서 술을 마시자는 등의 성범죄를 수차례 이어갔다.마치 사회면에 등장하는 악질 성범죄자의 모습을 보는 듯 하다. 게다가 사건이 발생했던 시기, 박 의원은 민주당의 정책위의장이자, 이재명 대선 후보 캠프의 정책본부장이었다. 이런 자가 여당의 정책위의장 자리에 앉아 있으니 제대로 된 정책이 나올 리 만무했고, 이런 자가 대선 캠프에서 직책을 맡았으니 민주당이 선거 내내 오만함과 국민무시로 일관했던 것이다. 이후에도 박 의원은 반성은커녕 \"피해자가 금전적 보상을 원한다\"는 2차 가해를 서슴지 않고, 수차례 면직시도를 하는 파렴치함까지 보였다. 박원순 전 시장의 성범죄 당시 “참혹하고 부끄럽다”던 박 의원이지만, 정작 자신이야말로 피해자에게 참혹한 범죄를 저지르고 일말의 부끄러움도 느끼지 않았던 것이다. 이제 박 의원은 민주당의 꼬리자르기 제명으로 무소속 신분이지만, 그가 민주당 소속으로 범죄를 저질렀고, 또 민주당의 국회의원과 정책위의장 지위를 이용한 권력형 성폭력의 가해자라는 사실은 변하지 않는다. 박 의원은 자신을 뽑아준 천안시민께 부끄럽지 않은가. 민주당은 이런 자에게 공천을 주어 국회에 발을 디디게 한 것이 국민께 죄송하지 않은가. 박 의원은 일말의 양심이라도 있다면 즉각 국회의원직을 사퇴하고 수사에 임하라. 민주당 역시 사과하고, 박 의원의 탈당 당시 약속했던 국회 차원의 징계에 나서길 바란다. 2023. 7. 19.국민의힘 수석부대변인 황 규 환'"
      ]
     },
     "execution_count": 41,
     "metadata": {},
     "output_type": "execute_result"
    }
   ],
   "source": [
    "df.iloc[1,3]"
   ]
  },
  {
   "cell_type": "code",
   "execution_count": null,
   "id": "54c1a853",
   "metadata": {},
   "outputs": [],
   "source": [
    "from datetime import datetime\n",
    "\n",
    "# 끝부분의 날짜를 파싱하고 그 이후의 문자열을 삭제하는 함수 정의\n",
    "def parse_and_remove_date(content):\n",
    "    # 공백을 기준으로 문자열 분할\n",
    "    split_content = content.split()\n",
    "\n",
    "    for i in range(len(split_content)-1, -1, -1):\n",
    "        # 날짜 문자열을 datetime 객체로 변환\n",
    "        try:\n",
    "            datetime.strptime(split_content[i], \"%Y.%m.%d.\")\n",
    "            # 변환 가능한 경우 그 위치를 반환하고 루프 종료\n",
    "            return ' '.join(split_content[:i])\n",
    "        except ValueError:\n",
    "            continue\n",
    "    # 만약 날짜 형식의 문자열이 없는 경우 원래 문자열을 반환\n",
    "    return content\n",
    "\n",
    "# 각 컨텐츠에서 날짜 정보를 파싱하고 그 이후의 문자열을 삭제\n",
    "df['content'] = df['content'].apply(parse_and_remove_date)"
   ]
  },
  {
   "cell_type": "code",
   "execution_count": 77,
   "id": "6564c8b2",
   "metadata": {},
   "outputs": [],
   "source": [
    "test_df = df.copy()"
   ]
  },
  {
   "cell_type": "code",
   "execution_count": 61,
   "id": "3262084f",
   "metadata": {
    "scrolled": true
   },
   "outputs": [
    {
     "data": {
      "text/plain": [
       "'김기현 당 대표는 2023. 7. 19.(수) 11:00, 신월 빗물저류배수시설에 집중호우 대비 대심도 빗물터널 현장 방문을 했다. 주요내용은 다음과 같다.  <김기현 당 대표>  ‘빗물을 나르는 고속도로’라 불리는 대심도 빗물터널 조금 전에 둘러보고 왔다. 신월 빗물 전용 배수시설은 집중호우 때마다 주변 지역이 물바다가 되는 현상을 막고자 2013년 5월에 시작해서 2020년 5월까지 만 7년의 긴 기간 공사를 거쳐서 완공된 국내 최초의 대심도 빗물 저류 시설로 알고 있다.  물은 환경의 영역이기도 하지만 그보다 더 우선돼야 할 것은 치수의 영역이라고 저는 생각한다. 국가적으로 물길을 다스리는 모든 행정을 일컬어서 치수라고 하는데 이 치수가 제대로 되지 않으면 국민의 생명과 안전, 그리고 국민의 소중한 재산을 심대하게 침해하기 때문에 어떤 경우에도 목숨보다 더 우선되는 것이 없다는 차원에서 보면 치수가 가장 중요한 일이라고 말씀드리고 싶다. 특히 가뭄과 홍수에도 제대로 대응하려면 물은 치수의 차원에서 먼저 다뤄야 할 자원이라고 말씀드리고 싶다.  지난 정권 초기였던 2018년에 문재인 정부 시절입니다만, 물관리 일원화 조치를 한다고 하면서 국토해양부, 환경부, 농림축산식품부에 나눠졌던 물관리 업무를 환경부로 일원화하는 조치가 있었다. 그 당시에도 환경부가 전국의 지류·지천·하수 등의 물관리 업무 전반을 담당할 역량과 경험이 되는지에 대한 많은 의문이 제기되었지만, 이번 폭우 사태를 겪으면서 그 많은 의문이 현실로 드러나고 있는 것이란 생각을 하지 않을 수 없다.  물관리의 실패는 국민의 생명과 안전을 직접적 위협하고, 심대한 재산적 피해를 야기하는 것이니만큼 이 점에 대한 문제점의 보완이 절실하다고 하겠다. 과거 2010년과 2011년 당시에 서울 도심에 큰 물난리가 났다. 그때 대심도 빗물터널이 필요하다고 그런 필요성이 제기되었고 그 당시 시정을 책임지었던 서울시장이 오세훈 시장이었다. 그래서 오세훈 시장은 2021년까지 총 8,500억원 들여서 서울 도심의 상습 침수지역 7곳에 대한 대심도 배수관 설치하겠다. 이렇게 결정한 바가 있었다.  7곳이 광화문, 신월, 용산, 사당역, 강남역, 동작, 강동 이렇게 7곳이었는데, 그렇게 건설하는 것으로 계획을 세웠지만 2011년 10월달에 박원순 시장이 재보선을 통해 당선되면서 이 계획이 백지화된 바 있었다. 오늘 방문한 신월 단 한 곳만 건설될 수 있었던 이유는 바로 그러한 이유이다.  그 당시에 강남에도, 강남의 대심도 빗물처리 시설이 원래 계획에 있었던 것을 설치를 보류한다고 하자 강남역 상인과 서초구 구민 11만명이 “주변 지역보다 고도가 낮아 상습 침수 지역인데 왜 대심도 빗물 저류시설을 설치하지 않느냐”고 하면서 그 필요성에 대한 서명운동을 실시하는 등 추진 필요성에 대한 강력한 목소리들이 있었지만 박원순 시장은 결국은 원래에 세웠던 7곳 중에 6곳을 다 백지화해버리고 말았던 것이 현실이었다.  작년에 기록적인 폭우가 수도권을 강타했을 때 강남역이 물에 잠기고, 사당에 큰 피해가 발생했던 사실을 아마 기억할 거다. 그에 비해서 신월동 인근은 피해가 적었던 것, 그것은 바로 빗물 저류배수시설이 한몫했다는 평가가 다수이다. 조금 전에 설명 과정에서 그러한 사항이 통계를 통해서 잘 증명된 바 있었다고 본다.  현재 서울의 대표적 도심인 광화문, 지난해 폭우로 큰 피해를 입었던 강남역 일대, 그리고 각 상습침수구역이자 주택이 밀집해 있는 도림천 일대에서 대심도 빗물 배수시설 건설사업이 올해부터 다시 시작된 것으로 알고 있다. 이상기후로 자연재해가 앞으로도 더 심화될 것으로 예견이 된다. 그런 만큼 국민의 생명과 재산을 보호하고 공공의 안전을 확보하는 이런 재난 대비에 있어서는 어느 무엇보다도 가장 우선적으로 전국의 지자체와 중앙 정부가 최우선 과제로 삼아야 할 일이 아닌가 하는 생각을 하게 된다.  지난해 8월 윤석열 대통령께서 이곳을 방문하신 것으로 알고 있다. 신월 빗물 배수시설 여기를 방문해서 현장 점검하고 백년대계 치수 계획을 마련하라는 지시를 한 바 있었던 것으로 알고 있다. 이번에 극한의 국지성 폭우로 인해서 자연재해에 대한 예방 대책 마련이 중요하다는 것이 다시 한번 대두된 만큼 서울은 말할 것도 없지만, 각 지역마다 지리적 특성에 따라서 천차만별인 여러 가지 원인을 잘 살펴서 그에 맞는 지역 맞춤형 침수 예방 대책의 수립에 우리 최대의 역량을 쏟아야 하겠다.  지방정부의 살림을 맡은 사람의 책임과 역할은 무엇보다 주민의 생명과 안전을 지키는 것이 가장 우선돼야 할 것이고 한정된 예산 탓에 그 중요성을 알면서도 때로는 그에 대한 대비 시스템을 갖추는 것이 쉽지 않을 수 있지만 그럼에도 불구하고 행정의 최우선 과제로 삼겠다고 하는 확실한 의지와 노력이 필요할 것이 다. 라는 것이 저의 생각이다.  오늘 이 자리에는 우리 여당의 정책을 총괄하시는 정책위의장님 박대출 의원님도 와 계시고, 우리 조수진 최고위원님도 와 계시고, 우리 이철규 사무총장님 와 계시고, 임상준 환경부 차관님, 유창수 서울시 행정2부시장님, 이기재 양천구청장님도 함께 해 주셨는데 우리 모두가 그와 같은 것에 대해서 오늘 이번에 이 자리에 심도 있는 토론을 통해서 국민들이 안심할 수 있는 그런 환경 만들어 나가도록 노력해야 할 것으로 생각한다. 고맙다.  <조수진 최고위원>  양천갑 당협위원장 최고위원 조수진이다. 충청, 경북, 전북을 중심으로 산사태, 도로 유실, 정전 등 비 피해가 속출하고 있다. 이번 주말 큰 비가 예고돼 있어 추가 피해가 없도록 철저한 대비가 필요하다. 즉각적인 복구 작업, 피해 지원은 최대한 신속하게 이루어져야 한다. 동시에 이상 기후 시대에 과거 기준 대책으로는 재앙을 막을 수 없는 만큼 치수 정책을 재설계해야 한다.  그 첫 번째 단추가 저류 시설의 설치와 개선이다. 지대가 낮고 안양천이 인접한 양천은 비만 오면 잠기는 침수 지역이었습니다만, 3년 전 최대 32만 톤의 물을 담는 대심도 빗물터널이 완공되면서 환경이 바뀌었다. 국민이 안심하고 살 수 있게 하려면 예산과 노력이 절실하다.  오늘 김기현 대표님의 양천구 대심도 빗물터널 방문은 이와 같은 다짐을 담는 것으로 알고 있다. 기후 변화로 인한 재해는 취약계층에 집중되기 마련이다. 한마음 한뜻으로 힘을 합치지 않으면 더 많은 약자가 피해를 볼 수밖에 없다. 정부와 국회는 한마음 한뜻으로 기후변화에 따른 치수의 전면 재설계를 서둘러야만 한다.  <박대출 정책위의장>  오늘 대심도 빗물터널 현장을 둘러보며 다양한 생각이 머릿속에서 스쳐갔다. 기후 변화가 가속화되면서 최근에 ‘극한 호우’또는 ‘극한 기상’이라는 용어를 우리 언론에서 자주 접한다. 극한 호우의 시대, 지금껏 경험하지 못한 재난이 온다는 말도 들린다. 기상 상황에서 극한이라는 단어가 더 이상 예외적인 것이 아니라 일상처럼 빈번해지는 시대가 되어간다는 것을 언론들도 지적하고 있다.  기상청이 수도권의 시범 사업으로 극한 호우 긴급 재난 문자를 보내고 있는데, 그 문자 발송 기준이 1시간 강수량이 50mm 이상이거나 3시간 동안 90mm 이상 내리거나 또는 1시간에 72mm 이상 쏟아지는 경우라고 한다. 저희들이 확인해 봤더니 기상청에 문의해 보니 올해 무려 27번에 달하고 이 달에만 15번이 된다는 것도 말씀드린 바 있다.  작년 8월 8일에 집중호우가 내렸고 신대방동에는 시간당 141.5mm가 내렸다. 또 2021년 7월 우면산 산사태가 있었던 시간당 113mm가 내렸다. 많은 기반 시설이 100년에 한번 발생할 정도로 맞춰서 설계되어 있는데 이런 기준이 무용지물이 될 수도 있다. 작년 8월 집중호우를 계기로 하여 서울시가 방재성능목표 강우량을 시간당 100mm에서 110mm로 올린 것으로 알고 있다. 시에서는 100년 재현 빈도 강우량 기준이라고 했다. 최근의 그런 기후변화 양상을 본다면 이 기준도 부족하다는 지적을 받을 수밖에 없다. 신월 대심도 터널이 시간당 100mm 수준의 빗물을 처리할 수 있다고 하는데 대심도 터널 외에도 추가적인 대책을 마련하여 상호보완이 가능하게 해야 할 것이다.  현재 서울시에서 추진하고 있는 강남·광화문·도림천 대심도 빗물터널 건설도 속도감 있게 해야 할 것이다. 빗물 저류 용량도 조금 더 늘리는 방안도 검토할 필요가 있을 것이다. 대심도 터널이 완공까지 빨라야 4년 정도 걸리는 만큼 최대한 건설을 신속히 서둘러주기를 바란다. 지난달 있었던 예산정책협의회에서도 대심도 터널 건설에 대한 국비지원 논의가 있었다. 당에서도 적극적으로 챙기겠다. 국민의 안전과 생명을 지키는 일보다 더 중요한 것은 없다. 당 정책위는 기후 변화 시대에 맞는 재난 대응 시스템을 갖추는 등 필요한 조치가 즉시 이루어질 수 있도록 최선을 다해 협력하겠다.  <이철규 사무총장>  반갑다. 국민의힘 사무총장 이철규이다. 기상이변에 따른 집중호우는 우리가 그동안 경험하지 못한 양상을 보이고 있다. 이에 배수시설이 제대로 갖춰지지 않았거나 저지대에 위치해 침수에 취약한 지역의 경우에는 근래와 같은 집중호우에 속수무책일 수밖에 없을 것이다.  그러나 이번 양천구는 2010년 집중호우로 주택가, 상가 등 6,000여 가구가 침수 피해를 입은 후 빗물 배수 터널을 건설하게 되었다. 이후 단 한 건의 침수 피해도 발생하지 않았다고 한다. 지난해 8월도 서울을 중심으로 내린 집중호우로 강남을 비롯한 수도권 대부분이 피해를 입었지만 신월동 일대는 빗물터널 수문 개방 가동으로 침수 피해를 예방할 수 있었다.  이곳에서 바로 우리가 급변하는 기후 변화와 재난에 어떻게 대비해야 할지 답을 찾을 수 있을 것이다. 최근 대도시에서 발생한 침수의 원인이 배수 용량이 충분하지 않아 발생하는 경우가 대부분인 만큼 빗물 배수 터널이 여러 지역으로 확대된다면 침수 피해 예방에도 큰 도움이 될 것이다. 오늘 이 자리에서 논의되는 여러 가지 대안들이 정부 차원에서 원활하게 추진될 수 있도록 당 차원의 뒷받침에 만전을 기하겠다. 감사하다.  <정희용 중앙재해대책위원장>  기록적 폭우로 쏟아지는 기후변화의 긴밀한 상황에서 대심도 빗물터널은 도시의 안전을 지키기 위한 근본적인 인프라라는 생각을 오늘 하게 됐다. 서울 시민들의 생명과 재산을 보호하는 중요한 역할을 담당한다고 생각이 된다.  지난해 서울 한 지역에서만 400mm 가까운 비가 내렸고, 서울 내에서도 지역별로 편차가 심했다. 오늘 김기현 대표님과 함께 대심도 빗물 터널의 효과를 확인한 만큼 향후 설치될 대심도 빗물 터널의 효과를 극대화하기 위해서는 국지성 집중호우 등 지정학적 특성뿐만 아니라 인구 밀집도, 유동 인구 등을 포함해서 종합적으로 고려해서 지역마다 효과적으로 대응할 수 있도록 방재 기능을 완벽히 구사할 수 있도록 신경을 써야 한다고 생각한다.  대심도 빗물터널뿐만 아니라 도심 침수를 예방하는 저류조·배수펌프장 등을 충분히 설치해서 서울시민의 안전을 책임지고 재산을 보호할 수 있는데 만전을 기하도록 국민의힘 재해대책위원회에서도 열심히 노력하도록 하겠다.      2023. 7. 19.  국민의힘 공보실'"
      ]
     },
     "execution_count": 61,
     "metadata": {},
     "output_type": "execute_result"
    }
   ],
   "source": [
    "test_df.iloc[0,3]"
   ]
  },
  {
   "cell_type": "markdown",
   "id": "339a4013",
   "metadata": {},
   "source": [
    "# content 열의 맨 마지막 연도, 발언자 삭제 방법"
   ]
  },
  {
   "cell_type": "code",
   "execution_count": 44,
   "id": "588004d6",
   "metadata": {},
   "outputs": [],
   "source": [
    "from datetime import datetime\n",
    "\n",
    "# 끝부분의 날짜를 파싱하고 그 이후의 문자열을 삭제하는 함수 정의\n",
    "def parse_and_remove_date(content):\n",
    "    # 공백을 기준으로 문자열 분할\n",
    "    split_content = content.split()\n",
    "\n",
    "    for i in range(len(split_content)-1, -1, -1):\n",
    "        # 날짜 문자열을 datetime 객체로 변환\n",
    "        try:\n",
    "            datetime.strptime(split_content[i], \"%Y.%m.%d.\")\n",
    "            # 변환 가능한 경우 그 위치를 반환하고 루프 종료\n",
    "            return ' '.join(split_content[:i])\n",
    "        except ValueError:\n",
    "            continue\n",
    "    # 만약 날짜 형식의 문자열이 없는 경우 원래 문자열을 반환\n",
    "    return content\n",
    "\n",
    "# 각 컨텐츠에서 날짜 정보를 파싱하고 그 이후의 문자열을 삭제\n",
    "test_df['content'] = test_df['content'].apply(parse_and_remove_date)"
   ]
  },
  {
   "cell_type": "code",
   "execution_count": 49,
   "id": "3f8adfcc",
   "metadata": {},
   "outputs": [],
   "source": [
    "def parse_and_remove_date(content):\n",
    "    # 공백을 기준으로 문자열 분할\n",
    "    split_content = content.split()\n",
    "\n",
    "    for i in range(len(split_content)-1, -1, -1):\n",
    "        # 날짜 문자열을 datetime 객체로 변환\n",
    "        try:\n",
    "            datetime.strptime(split_content[i], \"%Y.%m.%d.\")\n",
    "            # 변환 가능한 경우 그 위치를 반환하고 루프 종료\n",
    "            return ' '.join(split_content[:i])\n",
    "        except ValueError:\n",
    "            continue\n",
    "    # 만약 날짜 형식의 문자열이 없는 경우 원래 문자열을 반환\n",
    "    return content\n",
    "\n",
    "# 각 컨텐츠에서 날짜 정보를 파싱하고 그 이후의 문자열을 삭제\n",
    "test_df['content'] = test_df['content'].apply(parse_and_remove_date)"
   ]
  },
  {
   "cell_type": "code",
   "execution_count": 52,
   "id": "0815920e",
   "metadata": {
    "collapsed": true
   },
   "outputs": [
    {
     "ename": "KeyboardInterrupt",
     "evalue": "",
     "output_type": "error",
     "traceback": [
      "\u001b[1;31m---------------------------------------------------------------------------\u001b[0m",
      "\u001b[1;31mKeyboardInterrupt\u001b[0m                         Traceback (most recent call last)",
      "Cell \u001b[1;32mIn[52], line 14\u001b[0m\n\u001b[0;32m     11\u001b[0m                 \u001b[38;5;28;01mpass\u001b[39;00m\n\u001b[0;32m     12\u001b[0m     \u001b[38;5;28;01mreturn\u001b[39;00m content\n\u001b[1;32m---> 14\u001b[0m test_df\u001b[38;5;241m.\u001b[39miloc[:, \u001b[38;5;241m3\u001b[39m] \u001b[38;5;241m=\u001b[39m \u001b[43mtest_df\u001b[49m\u001b[38;5;241;43m.\u001b[39;49m\u001b[43miloc\u001b[49m\u001b[43m[\u001b[49m\u001b[43m:\u001b[49m\u001b[43m,\u001b[49m\u001b[43m \u001b[49m\u001b[38;5;241;43m3\u001b[39;49m\u001b[43m]\u001b[49m\u001b[38;5;241;43m.\u001b[39;49m\u001b[43mapply\u001b[49m\u001b[43m(\u001b[49m\u001b[43mdelete_date_from_end\u001b[49m\u001b[43m)\u001b[49m\n",
      "File \u001b[1;32m~\\anaconda3\\lib\\site-packages\\pandas\\core\\series.py:4630\u001b[0m, in \u001b[0;36mSeries.apply\u001b[1;34m(self, func, convert_dtype, args, **kwargs)\u001b[0m\n\u001b[0;32m   4520\u001b[0m \u001b[38;5;28;01mdef\u001b[39;00m \u001b[38;5;21mapply\u001b[39m(\n\u001b[0;32m   4521\u001b[0m     \u001b[38;5;28mself\u001b[39m,\n\u001b[0;32m   4522\u001b[0m     func: AggFuncType,\n\u001b[1;32m   (...)\u001b[0m\n\u001b[0;32m   4525\u001b[0m     \u001b[38;5;241m*\u001b[39m\u001b[38;5;241m*\u001b[39mkwargs,\n\u001b[0;32m   4526\u001b[0m ) \u001b[38;5;241m-\u001b[39m\u001b[38;5;241m>\u001b[39m DataFrame \u001b[38;5;241m|\u001b[39m Series:\n\u001b[0;32m   4527\u001b[0m \u001b[38;5;250m    \u001b[39m\u001b[38;5;124;03m\"\"\"\u001b[39;00m\n\u001b[0;32m   4528\u001b[0m \u001b[38;5;124;03m    Invoke function on values of Series.\u001b[39;00m\n\u001b[0;32m   4529\u001b[0m \n\u001b[1;32m   (...)\u001b[0m\n\u001b[0;32m   4628\u001b[0m \u001b[38;5;124;03m    dtype: float64\u001b[39;00m\n\u001b[0;32m   4629\u001b[0m \u001b[38;5;124;03m    \"\"\"\u001b[39;00m\n\u001b[1;32m-> 4630\u001b[0m     \u001b[38;5;28;01mreturn\u001b[39;00m \u001b[43mSeriesApply\u001b[49m\u001b[43m(\u001b[49m\u001b[38;5;28;43mself\u001b[39;49m\u001b[43m,\u001b[49m\u001b[43m \u001b[49m\u001b[43mfunc\u001b[49m\u001b[43m,\u001b[49m\u001b[43m \u001b[49m\u001b[43mconvert_dtype\u001b[49m\u001b[43m,\u001b[49m\u001b[43m \u001b[49m\u001b[43margs\u001b[49m\u001b[43m,\u001b[49m\u001b[43m \u001b[49m\u001b[43mkwargs\u001b[49m\u001b[43m)\u001b[49m\u001b[38;5;241;43m.\u001b[39;49m\u001b[43mapply\u001b[49m\u001b[43m(\u001b[49m\u001b[43m)\u001b[49m\n",
      "File \u001b[1;32m~\\anaconda3\\lib\\site-packages\\pandas\\core\\apply.py:1025\u001b[0m, in \u001b[0;36mSeriesApply.apply\u001b[1;34m(self)\u001b[0m\n\u001b[0;32m   1022\u001b[0m     \u001b[38;5;28;01mreturn\u001b[39;00m \u001b[38;5;28mself\u001b[39m\u001b[38;5;241m.\u001b[39mapply_str()\n\u001b[0;32m   1024\u001b[0m \u001b[38;5;66;03m# self.f is Callable\u001b[39;00m\n\u001b[1;32m-> 1025\u001b[0m \u001b[38;5;28;01mreturn\u001b[39;00m \u001b[38;5;28;43mself\u001b[39;49m\u001b[38;5;241;43m.\u001b[39;49m\u001b[43mapply_standard\u001b[49m\u001b[43m(\u001b[49m\u001b[43m)\u001b[49m\n",
      "File \u001b[1;32m~\\anaconda3\\lib\\site-packages\\pandas\\core\\apply.py:1076\u001b[0m, in \u001b[0;36mSeriesApply.apply_standard\u001b[1;34m(self)\u001b[0m\n\u001b[0;32m   1074\u001b[0m     \u001b[38;5;28;01melse\u001b[39;00m:\n\u001b[0;32m   1075\u001b[0m         values \u001b[38;5;241m=\u001b[39m obj\u001b[38;5;241m.\u001b[39mastype(\u001b[38;5;28mobject\u001b[39m)\u001b[38;5;241m.\u001b[39m_values\n\u001b[1;32m-> 1076\u001b[0m         mapped \u001b[38;5;241m=\u001b[39m \u001b[43mlib\u001b[49m\u001b[38;5;241;43m.\u001b[39;49m\u001b[43mmap_infer\u001b[49m\u001b[43m(\u001b[49m\n\u001b[0;32m   1077\u001b[0m \u001b[43m            \u001b[49m\u001b[43mvalues\u001b[49m\u001b[43m,\u001b[49m\n\u001b[0;32m   1078\u001b[0m \u001b[43m            \u001b[49m\u001b[43mf\u001b[49m\u001b[43m,\u001b[49m\n\u001b[0;32m   1079\u001b[0m \u001b[43m            \u001b[49m\u001b[43mconvert\u001b[49m\u001b[38;5;241;43m=\u001b[39;49m\u001b[38;5;28;43mself\u001b[39;49m\u001b[38;5;241;43m.\u001b[39;49m\u001b[43mconvert_dtype\u001b[49m\u001b[43m,\u001b[49m\n\u001b[0;32m   1080\u001b[0m \u001b[43m        \u001b[49m\u001b[43m)\u001b[49m\n\u001b[0;32m   1082\u001b[0m \u001b[38;5;28;01mif\u001b[39;00m \u001b[38;5;28mlen\u001b[39m(mapped) \u001b[38;5;129;01mand\u001b[39;00m \u001b[38;5;28misinstance\u001b[39m(mapped[\u001b[38;5;241m0\u001b[39m], ABCSeries):\n\u001b[0;32m   1083\u001b[0m     \u001b[38;5;66;03m# GH#43986 Need to do list(mapped) in order to get treated as nested\u001b[39;00m\n\u001b[0;32m   1084\u001b[0m     \u001b[38;5;66;03m#  See also GH#25959 regarding EA support\u001b[39;00m\n\u001b[0;32m   1085\u001b[0m     \u001b[38;5;28;01mreturn\u001b[39;00m obj\u001b[38;5;241m.\u001b[39m_constructor_expanddim(\u001b[38;5;28mlist\u001b[39m(mapped), index\u001b[38;5;241m=\u001b[39mobj\u001b[38;5;241m.\u001b[39mindex)\n",
      "File \u001b[1;32m~\\anaconda3\\lib\\site-packages\\pandas\\_libs\\lib.pyx:2834\u001b[0m, in \u001b[0;36mpandas._libs.lib.map_infer\u001b[1;34m()\u001b[0m\n",
      "Cell \u001b[1;32mIn[52], line 6\u001b[0m, in \u001b[0;36mdelete_date_from_end\u001b[1;34m(content)\u001b[0m\n\u001b[0;32m      4\u001b[0m split_content \u001b[38;5;241m=\u001b[39m content\u001b[38;5;241m.\u001b[39msplit()\n\u001b[0;32m      5\u001b[0m \u001b[38;5;28;01mfor\u001b[39;00m i \u001b[38;5;129;01min\u001b[39;00m \u001b[38;5;28mrange\u001b[39m(\u001b[38;5;28mlen\u001b[39m(split_content)\u001b[38;5;241m-\u001b[39m\u001b[38;5;241m1\u001b[39m, \u001b[38;5;241m-\u001b[39m\u001b[38;5;241m1\u001b[39m, \u001b[38;5;241m-\u001b[39m\u001b[38;5;241m1\u001b[39m):\n\u001b[1;32m----> 6\u001b[0m     \u001b[38;5;28;01mfor\u001b[39;00m \u001b[38;5;28mformat\u001b[39m \u001b[38;5;129;01min\u001b[39;00m [\u001b[38;5;124m\"\u001b[39m\u001b[38;5;124m%\u001b[39m\u001b[38;5;124mY. \u001b[39m\u001b[38;5;124m%\u001b[39m\u001b[38;5;124mm. \u001b[39m\u001b[38;5;132;01m%d\u001b[39;00m\u001b[38;5;124m.\u001b[39m\u001b[38;5;124m\"\u001b[39m, \u001b[38;5;124m\"\u001b[39m\u001b[38;5;124m%\u001b[39m\u001b[38;5;124mY.\u001b[39m\u001b[38;5;124m%\u001b[39m\u001b[38;5;124mm.\u001b[39m\u001b[38;5;132;01m%d\u001b[39;00m\u001b[38;5;124m.\u001b[39m\u001b[38;5;124m\"\u001b[39m]:\n\u001b[0;32m      7\u001b[0m         \u001b[38;5;28;01mtry\u001b[39;00m:\n\u001b[0;32m      8\u001b[0m             datetime\u001b[38;5;241m.\u001b[39mdatetime\u001b[38;5;241m.\u001b[39mstrptime(split_content[i], \u001b[38;5;28mformat\u001b[39m)\n",
      "\u001b[1;31mKeyboardInterrupt\u001b[0m: "
     ]
    }
   ],
   "source": [
    "import datetime\n",
    "\n",
    "def delete_date_from_end(content):\n",
    "    split_content = content.split()\n",
    "    for i in range(len(split_content)-1, -1, -1):\n",
    "        for format in [\"%Y. %m. %d.\", \"%Y.%m.%d.\"]:\n",
    "            try:\n",
    "                datetime.datetime.strptime(split_content[i], format)\n",
    "                return ' '.join(split_content[:i])\n",
    "            except ValueError:\n",
    "                pass\n",
    "    return content\n",
    "\n",
    "test_df.iloc[:, 3] = test_df.iloc[:, 3].apply(delete_date_from_end)"
   ]
  },
  {
   "cell_type": "markdown",
   "id": "c39abfe0",
   "metadata": {},
   "source": [
    "# 그냥 맨 마지막 20 이후 삭제하는 걸로"
   ]
  },
  {
   "cell_type": "code",
   "execution_count": 56,
   "id": "46e81657",
   "metadata": {},
   "outputs": [],
   "source": [
    "def delete_date_from_end(content):\n",
    "    # '20'이 나오는 마지막 위치를 찾습니다\n",
    "    last_index = content.rfind('20')\n",
    "\n",
    "    # 만약 '20'이 없으면 원래의 내용을 반환합니다\n",
    "    if last_index == -1:\n",
    "        return content\n",
    "\n",
    "    # 그렇지 않으면, '20'이 나오는 마지막 위치까지의 내용을 반환합니다\n",
    "    return content[:last_index].strip()\n",
    "\n",
    "test_df.iloc[:, 3] = test_df.iloc[:, 3].apply(delete_date_from_end)"
   ]
  },
  {
   "cell_type": "code",
   "execution_count": 68,
   "id": "235f8371",
   "metadata": {
    "collapsed": true
   },
   "outputs": [
    {
     "data": {
      "text/plain": [
       "'‘교육개혁’은 그 무엇보다 대한민국의 미래가 달린 문제이다.공정과 정의의 원칙을 바로 세우기 위한 ‘교육개혁’은 더는 미룰 수 없는 시대적 과제이며 반드시 해야만 하는 필수 선택이다.그렇기에 ‘공교육에서 다루지 않는 문제의 출제는 교육당국이 사교육으로 내모는 것으로 불공정하고 부당함’을 언급한 윤석열 대통령의 발언은 학생들에 대한 ‘공교육 중심’‘기회의 공정과 균등’차원에서의 교육 개혁의 필요성을 강하게 언급한 것이다.‘개혁’은 늘 저항에 부딪혀 왔다. 그러나 우리 아이들의 미래를 위해 윤석열 정부는 역대 어느 정권보다 교육 개혁에 대한 확고한 의지를 가지고 있다.‘킬러 문항’은 학교에서 대비가 어렵기에 아이들을 사교육 시장으로 내몰고 있다.지난해 국내 사교육비는 26조 원에 이르고 있다. 사교육비를 감당할 수 있는 학부모의 경제적 능력이 자식들의 경쟁력이 되고, 학부모의 등골은 휘고 있다. 젊은이들은 자녀를 갖기 꺼리는 주요 이유로 사교육이 대두되고 있는 현실이다.사교육 이권 카르텔이라는 왜곡된 교육 현실을 바로 잡아 무너지고 있는 공교육을 정상화시키는 것이 교육 개혁의 본질이다.‘교육’만큼은 정쟁의 요소가 되어서는 안 된다.교육과정에 없는 킬러 문항 배제는 지난 대선 당시 이재명 대표의 공약이었고, 민주당도 사교육을 근절하고 공교육에 대한 신뢰를 높이기 위한 개혁의 시급함은 잘 알고 있을 것이다.연금·노동·교육 분야 개혁의 필요성에 국민 누구나 동의하지만, 추진함에 있어 각계의 다양한 목소리가 존재하는 것이 현실이다.그럼에도 지금까지 미루어 놓은 이 개혁들이 지금 추진되지 않는다면 우리 사회의 지속 가능성마저 위협받게 되는 중요한 시기이기에,국민의힘과 윤석열 정부는 우리가 직면한 위기와 도전을 기회로 삼고 충분한 설득과 사회적 합의를 이끌어 내는 등 개혁에 더욱 박차를 가해 나갈 것이다.2023. 6. 20.국민의힘 수석대변인 강 민 국'"
      ]
     },
     "execution_count": 68,
     "metadata": {},
     "output_type": "execute_result"
    }
   ],
   "source": [
    "test_df.iloc[303,3]"
   ]
  },
  {
   "cell_type": "code",
   "execution_count": 62,
   "id": "9b19c77b",
   "metadata": {
    "collapsed": true
   },
   "outputs": [
    {
     "name": "stdout",
     "output_type": "stream",
     "text": [
      "      page_index  year  quarter  \\\n",
      "304         31_5  2023        2   \n",
      "1057       106_8  2023        1   \n",
      "1450       146_1  2022        4   \n",
      "1459      146_10  2022        4   \n",
      "1475       148_6  2022        4   \n",
      "...          ...   ...      ...   \n",
      "35187     3519_8  2004        2   \n",
      "35269    3527_10  2004        2   \n",
      "35271     3528_2  2004        2   \n",
      "35343     3535_4  2004        2   \n",
      "35345     3535_6  2004        2   \n",
      "\n",
      "                                                 content  \n",
      "304    결정적 변화존경하는 국민 여러분, 재외 동포 여러분!김진표 국회의장님과 선배 후배 ...  \n",
      "1057   김기현 당 대표는 2023. 3. 20(월) 10:00, 국회 본관 국회의장실에서 ...  \n",
      "1450   12월 26일 비상대책위원회의 주요내용은 다음과 같다. <정진석 비상대책위원장> 이...  \n",
      "1459   12월 22일 비상대책위원회의 주요내용은 다음과 같다. <정진석 비상대책위원장> 문...  \n",
      "1475   12월 23일 원내대책회의 주요내용은 다음과 같다. <주호영 원내대표> 법정 기한은...  \n",
      "...                                                  ...  \n",
      "35187  「개혁」과 「새정치」라는 말을 독점하다시피 해온 노무현 대통령과 열우당이 정작 자신...  \n",
      "35269  이 프로는 9일밤 '색깔론 언제까지…'라는 주제를 다루면서 한나라당 대변인 본인 전...  \n",
      "35271  청주시 우암동 소재 건물 내 윤락 업소 임대, 재산신고 누락 의혹, 부동산 투기 의...  \n",
      "35343  온건하던 과격하던 모든 좌파의 특징은 '분열'과 '분파'주의라고 했다.    열우당...  \n",
      "35345  이헌재 경제부총리는 '경제실정과 경제파탄'이 탄핵사유에 포함된 것은 부당하다고 했다...  \n",
      "\n",
      "[2423 rows x 4 columns]\n"
     ]
    }
   ],
   "source": [
    "# 원본 내용의 길이를 저장합니다\n",
    "original_lengths = test_df.iloc[:, 3].apply(len)\n",
    "\n",
    "# 수정된 내용의 길이를 얻습니다\n",
    "new_lengths = test_df.iloc[:, 3].apply(delete_date_from_end).apply(len)\n",
    "\n",
    "# 50자 이상 줄어든 행을 찾습니다\n",
    "large_differences = (original_lengths - new_lengths) >= 50\n",
    "\n",
    "# 그 위치를 출력합니다\n",
    "print(test_df[large_differences])"
   ]
  },
  {
   "cell_type": "code",
   "execution_count": 67,
   "id": "beae821c",
   "metadata": {
    "collapsed": true
   },
   "outputs": [
    {
     "data": {
      "text/plain": [
       "'12월 23일 원내대책회의 주요내용은 다음과 같다. <주호영 원내대표> 법정 기한은 많이 넘겼지만, 연말까지 가지 않고 그래도 크리스마스 이전에 내년도 예산안이 통과될 수 있게 돼서 참으로 다행스럽게 생각한다. 2014년 국회법 개정 이후에는 12월 9일을 넘긴 적이 없었는데 이번에는 지키지 못하게 돼서 국민 여러분께 참으로 죄송스럽게 생각한다. 169석의 거대 민주당의 동의 없이는 예산안 하나 처리할 수가 없고 또 항목 하나하나마다 일일이 민주당의 동의를 받아야 했다. 처음에는 수십 가지 쟁점이 있었지만, 여러 차례 회동을 통해서 많이 줄어들었고, 마지막에 법인세 그다음에 경찰국과 인사정보관리단 예산, 그다음에 지역화폐 예산, 이 세 가지 문제 때문에 거의 10일 이상 끌어온 것 같다. 지역화폐는 윤석열 정부의 여러 가지 정책 방향이나 이런 것과 맞지 않아서 올해는 1원도 편성하지 않았지만, 이재명 민주당 대표가 7,050억원의 지역화폐 예산을 요구하는 바람에 그것 때문에 많이 오래 걸렸다. 어쩔 수 없이 민주당의 동의를 받아야 하기 때문에 절반인 3,525억 편성할 수밖에 없었다는 점 말씀을 드린다. 정부 당국은 일주일여밖에 남지 않은 짧은 기간이지만, 철저히 집행준비를 하고 낭비 요소가 없도록 어려운 시기에 재정이 경제의 마중물이 될 수 있도록 철저히 준비하고 낭비가 없도록 해주길 바라겠다. 저는 사법 절차에 정치권이 언급하는 자체가 적절하지 않다는 입장을 가지고 있지만, 성남FC 후원금과 관련해서 민주당 전체가 야당 탄압이라고 해서 제가 한번 들여다봤다. 성남FC 후원금은 성남에 연고를 둔 기업들이 후원금을 냈는데, 이례적으로 엄청나게 많은 돈들을 냈다. 두산건설이 45억, 농협이 50억, 네이버가 39억, 분당차병원이 33억, 현대백화점이 5억 6천, 알파돔시티가 5억 5천을 냈다. 합계 178억이다. 어느 FC 후원금을 기업들이 이렇게 몇십억씩 내는 경우가 있었는가. 이 기업들이 다른 곳에 후원을 이렇게 많이 하지 않았다. 그런데도 보니까 두산건설은 정자동 병원 부지를 상업용지로 용도변경하고 용적률을 바꾸었다. 이 45억을 내고 수천억의 이득을 본 것이다. 농협은 50억을 내고 성남시 금고를 연장했다. 네이버는 39억을 내고 제2사옥 건축허가를 받았다. 분당차병원은 33억을 내고 분당경찰서 부지용도를 변경 받았고, 현대백화점과 알파돔시티는 준공허가를 받고 주민 민원을 해결했다. 그다음에 이재명 시장께서 이렇게 이야기하셨다. 지난해 8월에 페이스북에 ‘용도변경을 조건으로 광고비를 받았다 가정해도 이재명 개인이 아닌 성남시민의 이익이 되니 이론적으로 뇌물이 될 수 없다.’이거 잘못된 것이다. 변호사인 분이 왜 이렇게 큰 실수를 하는지 모르겠다. 용도변경 조건으로 광고비를 받았다 하면 이건 제3자 뇌물수수이다. 그러니까 용도변경 조건으로 광고비를 받았다 하는 부분을 부정할 수 없으니까 아마 이런 이야기를 하고 그것이 자기로서는 죄가 안 된다고 판단을 하는데 여기 우리 유상범 전 검사장님도 계시고 여러 분 있지만 똑떨어지는 것 아닌가. 그다음에 또 이상한 게 본인의 논문 중에 지방정부 부정부패 관해서 석사학위 논문을 써놓았는데, ‘부패의 수단을 중심으로 볼 때 각종 인허가 건 및 규제 건과 관련된 부패, 조직 및 인사와 관련된 부패, 평가·심사·통제·감독 권한을 직접 이용하거나 그 권한을 가진 하위 공무원에게 영향력을 행사하여 이권개입과 사적 이익을 추구하는 행위가 여기에 포함되고 이 발각이 쉽지 않기 때문에 현실적인 견제 방법으로는 형사적 처벌 말고는 없다.’ 본인이 다 이렇게 정리해 놓았다. 그다음에 지난번 무혐의 됐는데 또 들고 나온다고 하는데, 지난해 분당경찰서는 아무런 강제수사 없이 서면 조사만 하고 불송치 결정을 내렸다. 친문 검사로 불리던 김오수 검찰총장, 신성식 수원지검장, 박은정 성남지청장 등 수사 확대를 가로막았다는 여러 정황들이 있다. 제대로 된 수사 없이 무혐의가 됐다. 이 과정 자체가 또 수사를 받아야 될 일이다. 이것을 변수라고 내놓은 것을 보니까 참 한심하다. 이거 왈가왈부 무슨 정치권에서 할 것이 아니라 본인 말대로 책임이 없으면 가서 당당하게 밝히고 오면 되는 것이지, 무슨 당 전체가 동원돼서 ‘야당 탄압이다.’ 이런 일은 아닌 것 같다. 대응이 아주 잘못된 것 같아서 제가 한마디 짚어 봤다. 내일이 크리스마스 이브다. 여러 가지 대내적으로 어렵고 힘든 일은 많지만, 성탄의 기쁨을 같이하면서 크리스마스만이라도 즐거운 성탄이 됐으면 좋겠다. <성일종 정책위의장> 어제 한국은행이 발표한 금융안정보고서에 따르면 22년 3분기 말 자영업 대출 규모가 1천14조 2천억으로 작년보다 14.3%나 증가했다. 자영업자 대출은 코로나19를 겪는 3년 동안 48%가 늘어났다. 자영업자들께서 얼마나 힘들게 대출로 버티어 오셨는가를 잘 알 수 있는 가슴 아픈 수치이다. 그동안 대출 상환을 유예하는 등 각종 정책금융지원을 해 왔으나, 지원이 종료되면 자영업자 부실이 늘어나고 소상공인과 자영업자의 어려움이 현실화될 수 있다. 정부는 이미 지난 9월 30일부터 소상공인의 고금리 대출을 저금리로 바꿔주는 대환 대출 프로그램 등 소상공인 금융 연착륙을 위한 대책을 마련하여 실행하고 있다. 하지만 실제로 개인사업자의 경우 5,000만원 한도인 점이나, 상환 구조 등에 있어서 체감상 효용이 적고, 홍보 부족 등으로 소상공인 신청이 매우 저조하다고 한다. 금융 취약계층 지원이 더 필요하다. 정부가 지원하는 프로그램의 햇볕이 자영업자와 소상공인에게 스며들도록 모든 노력을 더 해주시기 바란다. 이에 대한 세부적 계획을 세워 금융위는 보고해 주시기 바란다. 그리고 국민들의 목소리를 청취하여 보완이 필요한 부분에 대해서 조속히 대책을 마련해 주실 것을 요청한다. 어제 민주당 이재명 대표가 검찰의 소환 통보에 반발하며 \"이재명을 죽인다고 무능함과 불공정함이 감춰지지 않는다. 가장 불공정하고 몰상식한 정권이 윤석열 정권\"이라고 이야기를 했다. 도대체 누가 이재명을 죽인다는 것인가. 이재명 대표는 언제나 자신은 떳떳하다고, 아무 죄도 없다고 하지 않았는가. 그러면 조사에 응해 자신의 무고함을 밝히면 될 일이다. 무엇이 무능하고 불공정하다는 것인가. 무능과 불공정의 눈속임 프레임으로 빠져나가려는 얕은 정치 술수이다. 정말로 이재명 대표가 떳떳하다면 이번 검찰의 소환 통보는 오히려 자신에게 씌워져 있는 범죄혐의를 씻을 수 있는 좋은 기회가 될 것이다. 두려워할 일이 아니라, 반가워해야 할 일이다. 어제 민주당 수석대변인은 “검찰이 사전협의도 없이 일방적으로 통보한 소환조사에 응할 수 없다”고 생떼를 부렸다. 평범한 우리 국민들은 검찰의 소환 통보를 받았을 때 응하지 않는다는 것을 상상도 할 수 없는 일이다. 국회의원에 제1당 야당 대표라는 ‘방탄벼슬’로 특권을 누리겠다는 것이다. 윤석열 정부에서 법은 만인에게 공평하게 집행될 것이다. 정치적 프레임으로 덮어씌우려 하지 마시라. 죄가 있으면 죗값을 치르고, 죄가 없으면 홀가분하게 혐의를 벗고 정치활동을 계속할 수 있을 것이다. 국민 앞에 떳떳한 모습을 보이시기 바란다. <김석기 사무총장> 윤석열 대통령은 2023년을 노동 연금 교육 개혁 추진의 원년으로 삼겠다고 하신데 이어 가장 시급히 개혁해야 할 분야는 노동 분야라고 강조했다. 한 여론조사에서 노동개혁이 필요하다는 응답이 74%에 이를 만큼 국민들께서도 후진적인 노동시장이 대한민국의 미래를 발목잡고 있다고 생각하고 계시다. 노동개혁의 시작은 무려 4조원이 넘는 피해액을 남긴 민노총 화물연대의 파업에서 드러났듯이, 민노총을 위시한 좌파 특권 노조들의 마구잡이식 행태, 법과 원칙으로 대응하고 그동안의 잘못된 관행을 확실히 바로잡아 더 이상 그들이 법 위에 군림할 수 없다는 것을 명확히 인식시켜주는 것이다. 그동안 민노총이 보여준 모습이 어떠했는가. 그들은 오로지 자신들만의 이익을 위해 불법과 선전선동을 일삼았다. 민노총은 정작 노동자들의 권익 향상이라는 본래의 목적은 외면한 채 국가보완법 철폐, 주한미군 철수와 같은 구호를 외치며 국가 안보를 위태롭게 하는 악의적인 선전선동에도 앞장섰다. 국회의 담장을 무너뜨리고, 무단으로 남의 사업장을 불법 점령하는가 하면, 경찰이 보는 앞에서 사업주를 무차별 폭행하는 일도 벌였다. 이도 모자라 정부의 방역수칙을 보란 듯이 무시해가며 대규모 불법 집회를 강행하여 국민의 생명과 안전을 위협했다. 자신들의 특권을 유지하기 위해 같은 노동자임에도 비노조원에 대한 차별과 폭력을 행사했다. 민노총 화물연대는 파업에 참여하지 않은 선량한 노동자들에게 쇠구슬 테러를 자행했고, 건설현장에서 민노총 건설노조는 민노총 근로자만의 채용과 장비사용을 사업자에게 강요했으며, 월례비 명목으로 현장근로자에게 금품을 뜯어가기까지 했다. 사업에 참여하지 않는 기사들에게 온갖 욕설을 섞어가며 길에서 객사할 것이라 저주하고 온갖 업무방해와 집단 괴롭힘으로 택배 대리점주를 극단적 선택으로까지 몰고 간 사례 등 그들의 불법행위는 셀 수 없을 만큼 많다. 말 그대로 그들은 이 나라를 무법천지로 만들었다. 또한 그들은 깜깜이 회계를 통해 누구도 넘볼 수 없는 특권층으로 자리 잡았다. 민노총의 연간 조합비만 무려 1,700억원이 넘을 것으로 추산되고, 각종 명목으로 국가와 지자체에서 혈세를 지원받고 있지만 이들은 이 돈을 어디에 쓰고 있는지조차 밝히지 않고 있으며, 심지어는 조합비조차 기밀처럼 여기고 법을 악용하여 투명하게 공개하지 않고 있다. 그러면서 그들은 사측에 대해서는 회계를 투명하게 공개하지 않는다고 무차별 공격을 하고 있다. 그러는 동안 정작 민노총 공공운수노조 조합장은 조합비 3억 7천만원을 유흥비로 탕진하여 실형을 선고받았고, 민노총 소속의 한 사무국장은 7,500만원을 횡령했다가 구속되기도 했다. 이는 빙산의 일각일 것이다. 또한 민노총은 여전히 고용세습을 유지하며 불공정으로 자신들의 특권을 유지하는 사례도 많았다. 지난 8월 고용노동부의 조사에 따르면 위법한 고용세습 조항을 유지하고 있는 기업 10곳 중에서 7곳이 민주노총에 의해 장악되어 있다고 했다. 공정과 상식이라는 시대적 요구를 역행하며 청렴과 미래세대의 꿈을 짓밟는 것이다. 법치를 이어가는 불법 폭력 시위, 분열과 혼란을 야기하며 국민의 생명과 안전을 위협하는 막가파식 투쟁, 노조비를 주머니 쌈짓돈 쓰듯 횡령과 부패로 얼룩진 깜깜이 회계, 채용 장사와 일자리 세습의 불공정, 이 모두가 작금의 민노총을 설명하는 단어들이다. 대체 이런 노조가 왜 필요한 것인가. 민주당은 이러한 단체를 끝까지 감싸고 도는 이유를 도대체 이해할 수가 없다. 이런 행태가 시정되지 않고 계속된다면 민주노총은 노동자들의 권익을 위해 필요한 존재가 아니라 대한민국의 미래와 법질서를 위해 사라져야 할 존재라고 생각한다. 국가 경제에 막대한 손실을 입히고 사회 혼란을 야기하는 모든 불법행위에 대한 유일한 해법은 법과 원칙을 지키는 것이다. 불법행위에 대해서는 그 대상이 누구든 예외가 없다는 법치주의의 원칙을 바로 세워야 한다. 정부는 이번이 이 나라의 법질서를 바로 세우는 마지막 기회라고 생각하고 다시는 국민을 볼모로 법 위에 군림하는, 이 나라를 무법천지로 만드는 일이 없도록 해야 한다. 노조 부패 척결, 이를 바탕으로 한 노동개혁이야말로 대한민국의 성장을 담보함과 동시에 선진적 노사 문화, 노동자의 권익 향상을 위한 진정한 의미의 노조를 위한 길일 것이다. 정부 당국은 이번 파업을 멈추게 했다고 적당히 타협하거나 해서는 절대 안 된다. 이때까지의 모든 불법행위를 일벌백계함으로써 이제부터가 진짜 시작이라는 것을 엄정하게 보여줘야 한다. 우리 사회 전반에 독버섯처럼 스며있는 법질서 무시 세력들, 자유대한민국을 무너뜨리려는 불순 세력들은 절대 용납하지 않겠다는 의지를 확실하게 보여줘야 할 것이다. <송언석 원내수석부대표> 어렵사리 어제 예산 부수법안과 예산안에 대해서 오늘 본회의에 처리하기로 합의하였다. 법정 기한을 20일 가까이 초과한 예산안 합의에 대해서 국민 여러분께 송구한 마음뿐이다. 근데 지금 내년도 경제전망이 굉장히 안 좋다. 정부에서 내년도 경제성장률을 2.5%보다 0.9% 포인트나 낮은 1.6%로 전망하고 있다. 이렇게 되면 사실상 정부가 예산안을 국회에 제출할 때 나왔던 GDP 규모 보다 약 30조원 보다 GDP 규모가 빠지게 될 것으로 예상이 된다. 그러면 자연스럽게 금년도와 내년도에 특별하게 숫자가 바뀌지 않더라도 국가 채무비율은 다소 상승할 수밖에 없다. 이번에 여야가 합의한 예산안 내용은 4조 6천억 정도를 감액하고, 그중에 일부를 증액하는 것으로 아마 최종적으로 집계가 되겠는데 이렇게 될 경우에 국가 채무 비율 관리가 중요하다는 생각이 든다. 경제는 활력이 굉장히 중요한 부분이다. 활력이 중요하기 때문에 기업들의 자유로운 경제활동을 보장하고 지원해줄 수 있는 법제가 대단히 중요한 과제인데 그런 점에서 볼 때 이번에 합의한 법인세 각 과세표준 구간별로 1%포인트 인하하는 것으로 합의된 부분은 다소 아쉬움이 남는 부분이기도 하다. 향후에 국회에 계류되어있는 굉장히 많은 법안들이 있는데 기업들의 발목을 잡고 반시장적인 그런 행태를 유발하거나 조장할 수 있는 법안들은 국회 심사과정에서 철저히 걸러내야 할 것이다. 기업들의 활동을 좀 더 원활하게 해줄 수 있는 미래 첨단전략산업을 지원할 수 있는 그런 법안들이 국회에서 심사통과 되어서 대한민국경제가 좀 더 성장할 수 있도록 해줘야 할 것이다. 그런 점에서 지난 문재인 정부 당시에 국가 채무비율이 외국에 비해 상대적으로 낮다고 해서 국가 채무비율을 왕창 올리면서 포퓰리즘식 재정 뿌리기,&nb'"
      ]
     },
     "execution_count": 67,
     "metadata": {},
     "output_type": "execute_result"
    }
   ],
   "source": [
    "df.iloc[1475,3]"
   ]
  },
  {
   "cell_type": "code",
   "execution_count": 72,
   "id": "3dcd1e79",
   "metadata": {},
   "outputs": [],
   "source": [
    "def delete_date_from_end(content):\n",
    "    # '20'이 나오는 마지막 위치를 찾습니다\n",
    "    last_index = content.rfind('20')\n",
    "\n",
    "    # 만약 '20'이 없으면 원래의 내용을 반환합니다\n",
    "    if last_index == -1:\n",
    "        return content\n",
    "\n",
    "    # '20'이 나오는 마지막 위치까지의 내용을 얻습니다\n",
    "    new_content = content[:last_index].strip()\n",
    "\n",
    "    # 만약 원본 내용과 새 내용의 길이 차이가 20 이상이면 원래의 내용을 반환합니다\n",
    "    if len(content) - len(new_content) >= 35:\n",
    "        return content\n",
    "\n",
    "    # 그렇지 않으면, 새 내용을 반환합니다\n",
    "    return new_content\n",
    "\n",
    "test_df.iloc[:, 3] = test_df.iloc[:, 3].apply(delete_date_from_end)"
   ]
  },
  {
   "cell_type": "code",
   "execution_count": 76,
   "id": "bf15a4f2",
   "metadata": {
    "collapsed": true
   },
   "outputs": [
    {
     "data": {
      "text/plain": [
       "'‘교육개혁’은 그 무엇보다 대한민국의 미래가 달린 문제이다.공정과 정의의 원칙을 바로 세우기 위한 ‘교육개혁’은 더는 미룰 수 없는 시대적 과제이며 반드시 해야만 하는 필수 선택이다.그렇기에 ‘공교육에서 다루지 않는 문제의 출제는 교육당국이 사교육으로 내모는 것으로 불공정하고 부당함’을 언급한 윤석열 대통령의 발언은 학생들에 대한 ‘공교육 중심’‘기회의 공정과 균등’차원에서의 교육 개혁의 필요성을 강하게 언급한 것이다.‘개혁’은 늘 저항에 부딪혀 왔다. 그러나 우리 아이들의 미래를 위해 윤석열 정부는 역대 어느 정권보다 교육 개혁에 대한 확고한 의지를 가지고 있다.‘킬러 문항’은 학교에서 대비가 어렵기에 아이들을 사교육 시장으로 내몰고 있다.지난해 국내 사교육비는 26조 원에 이르고 있다. 사교육비를 감당할 수 있는 학부모의 경제적 능력이 자식들의 경쟁력이 되고, 학부모의 등골은 휘고 있다. 젊은이들은 자녀를 갖기 꺼리는 주요 이유로 사교육이 대두되고 있는 현실이다.사교육 이권 카르텔이라는 왜곡된 교육 현실을 바로 잡아 무너지고 있는 공교육을 정상화시키는 것이 교육 개혁의 본질이다.‘교육’만큼은 정쟁의 요소가 되어서는 안 된다.교육과정에 없는 킬러 문항 배제는 지난 대선 당시 이재명 대표의 공약이었고, 민주당도 사교육을 근절하고 공교육에 대한 신뢰를 높이기 위한 개혁의 시급함은 잘 알고 있을 것이다.연금·노동·교육 분야 개혁의 필요성에 국민 누구나 동의하지만, 추진함에 있어 각계의 다양한 목소리가 존재하는 것이 현실이다.그럼에도 지금까지 미루어 놓은 이 개혁들이 지금 추진되지 않는다면 우리 사회의 지속 가능성마저 위협받게 되는 중요한 시기이기에,국민의힘과 윤석열 정부는 우리가 직면한 위기와 도전을 기회로 삼고 충분한 설득과 사회적 합의를 이끌어 내는 등 개혁에 더욱 박차를 가해 나갈 것이다.2023. 6.'"
      ]
     },
     "execution_count": 76,
     "metadata": {},
     "output_type": "execute_result"
    }
   ],
   "source": [
    "test_df.iloc[303,3]"
   ]
  },
  {
   "cell_type": "code",
   "execution_count": 78,
   "id": "52290171",
   "metadata": {},
   "outputs": [],
   "source": [
    "import re\n",
    "\n",
    "def delete_date_from_end(content):\n",
    "    # '20XX'를 찾는 정규 표현식을 정의합니다. \n",
    "    # rfind() 대신 re 라이브러리의 findall() 함수를 사용하면 모든 매치를 찾을 수 있습니다.\n",
    "    matches = re.findall('20\\d{2}', content)\n",
    "\n",
    "    # 만약 '20XX'가 없으면 원래의 내용을 반환합니다\n",
    "    if not matches:\n",
    "        return content\n",
    "\n",
    "    # '20XX'가 있는 마지막 위치를 찾습니다\n",
    "    last_index = content.rfind(matches[-1])\n",
    "\n",
    "    # '20XX'가 나오는 마지막 위치까지의 내용을 얻습니다\n",
    "    new_content = content[:last_index].strip()\n",
    "\n",
    "    # 만약 원본 내용과 새 내용의 길이 차이가 20 이상이면 원래의 내용을 반환합니다\n",
    "    if len(content) - len(new_content) >= 35:\n",
    "        return content\n",
    "\n",
    "    # 그렇지 않으면, 새 내용을 반환합니다\n",
    "    return new_content\n",
    "\n",
    "test_df.iloc[:, 3] = test_df.iloc[:, 3].apply(delete_date_from_end)"
   ]
  },
  {
   "cell_type": "code",
   "execution_count": 85,
   "id": "bff0de48",
   "metadata": {
    "collapsed": true
   },
   "outputs": [
    {
     "data": {
      "text/plain": [
       "'7월 4일 최고위원회의 주요내용은 다음과 같다.  <권성동 원내대표>  여야 합의로 국회의장을 선출했던 것은 1987년부터 이어온 우리 국회의 오랜 전통이다. 2008년 18대 국회 당시 야당인 통합민주당은 81석에 불과했지만, 김형오 국회의장 내정자는 단독으로 국회를 소집하지 않고 여야 합의를 기다렸다. 그런데 민주당은 21대 국회 전반기에 이어서 또다시 의장단을 단독으로 선출하겠다고 공헌하였다. 절대다수 의석을 가진 민주당의 오만과 독선의 결과이다.  국회법상 본회의 단독 소집 근거는 없다. 국회의장 공석 시 본회의 개의와 안건은 오직 교섭단체 간 합의로만 정할 수 있다. 민주당의 단독 본회의 소집, 단독 선출을 명백한 불법이다. 민주당이 일방적으로 데드라인을 정해놓고 소수당을 압박하는 것, 역시 온당치 못한 태도지만 우리 국민의힘은 어떻게든 국회를 정상화해야 한다는 절박한 심정으로 최대한 양보하며 협상에 임했다.  하지만 민주당은 원구성 협상과 전혀 무관한 검수완박 합의 이행을 전제조건으로 내세웠다. 우리당으로서는 결코 수용할 수 없는 내용이다. 사개특위 구성은 검수완박에 따른 후속조치이다. 검수완박 합의는 이미 파기되었다. 파기된 합의를 이행할 이유가 없거니와 사개특위 구성에 동의하는 것은 민주당의 검수완박 강행처리에 면죄부를 주는 것밖에 되지 않는다.  우리당은 물론 정부도 검수완박 강행처리 과정의 불법성, 위헌성에 대하여 헌법재판소의 권한쟁의 및 효력정지가처분을 제기하였고 헌재의 판단을 기다리고 있다. 설령 구성을 논의하더라도 헌재의 결정 뒤로 미루는 것이 합리적이다. 이에 협상 과정에서 사개특위 문제는 헌법재판소의 결정 뒤에 논의하자 그것마저도 어렵다면은 사개특위 구성은 여야 5:5로 하고 위원장은 국민의힘이 맡도록 하자는 절충안을 제시했지만, 민주당은 끝내 거부하였다. 민생을 볼모로 삼아 우리 국민의힘을 검수완박 공보물로 만들고 사개특위마저 힘의 논리로 일방 운영하겠다는 것 아닌 이상 거부하는 이유와 명분을 찾기 어렵다. 민주당은 앞에서는 민생이 어렵다고 목소리를 높이면서 뒤에서는 검수완박 악법 완성에만 열을 올리려는 이중플레이를 하고 있다.  민주당의 국회의장 단독 선출 강행은 절대다수 의석으로 입법폭주를 일삼겠다는 선전포고이다. 입법폭주는 자멸로 이르는 지름길이다. 국민들은 협치를 바라고 계신다. 우리 국회가 또다시 절대 다수당의 입법독주로 흐린다면 국민 신뢰를 회복할 수 없다. 원구성의 본질은 의장단과 상임위원장을 선출하는 것이다. 복잡하게 이것저것 끼워 넣지 말고 원칙으로 돌아가야 한다. 민주당이 국회의장과 법사위원장을 제1, 2 교섭단체가 교차해서 맡고 11:7로 상임위원장을 배분하기로 한 약속을 이행한다면 우리 국민의힘은 국회의장단 선출에 언제든지 협조할 준비가 되어있다. 지금은 민생안정을 위해서 여야가 협치하여야 할 때이다. 민주당은 입법폭주의 강을 넘어서는 안된다.  <조수진 최고위원>  첫 폭염 경보가 벌써 지난달 20일 발령되는 등 폭염이 기승을 부리고 있다. 문재인 정부의 ‘닥치고 원천, 닥치고 탈원전’, 우크라이나 사태 장기화 등 복합적 요인으로 물가가 급등하면서 쪽방촌 거주민, 홀몸 노약자, 거동이 불편한 장애인 등 사회적 약자, 냉방 약자의 고통은 훨씬 클 것이다. 실제로 온열질환 사망위험은 저소득층에게 18%나 높은 것으로 보도됐다. 만 2년 넘게 계속된 코로나19 여파로 전국의 경로당이 여전히 문을 열지 못하고 있고 어르신들 무더위 쉼터의 역할을 못하고 있다는 안타까운 보도도 이어지고 있다.  폭염에 따른 사회적 약자의 어려움을 덜어드리기 위해선 지역의 세세한 사정을 가장 잘 아는 지방자치단체장이 거주지 점검 등에 발 벗고 나서야 실질적인 효과를 거둘 수 있다. 더불어민주당에 자멸과 자충수로 지난 6일 지방선거에서 국민의힘 소속 광역단체장 기초단체장이 다수 배출됐고 그만큼 폭염 대응은 시험대가 될 것이다. 폭염은 2018년 법적 자연재난에 포함돼 있고 국민의힘은 약자와의 동행을 지향하고 있다. 냉방 약자부터 제대로 챙겨주시길 당부드린다. 기민하게 제대로 대응하는 단체장의 지역은 당적과 관계없이 확실한 예산 지원으로 보답하겠다.  정부가 최대치까지 끌어올린 유류세 인하 효과가 체감으로 이어지지 않고 있다. 전쟁과 공급난 여파로 세금감면보다 유류값 상승에 따른 기름값 오름폭이 훨씬 크기 때문이다. 기름값은 각종 재료비, 생활비, 임금 등 물가 전반을 주도한다. 주유소가 부담하고 있는 카드 수수료를 탄력적으로 조정하는 방안을 카드사가 검토할 필요가 있다. 복합적 요인으로 치솟는 물가를 억제하기 위한 노력에 카드사 스스로도 나서주실 것을 부탁드린다. 국회는 유류세 인하 조정 폭을 넓히는 법안들이 제출돼 있다. 더불어민주당은 국회 내 여당이다. 조건 달지 말고 하루속히 국회 원구성 협상 타결에 나서주시라. 알뜰주유소, 유가환급금 제도 등 과거를 교훈 삼아 비상한 대응책을 시급히 강구해야 하는 비상한 시기이다.  <정미경 최고위원>  요즘 방송에서 왕성한 활동을 하고 계시는 박지원 전 의원께 묻고 싶다. 조국 전 장관 청문회장에서 박지원 전 의원이 스마트폰을 내보이면서 동양대 표창장 컬러본 사진을 보여주었다.  그리고 물었다. ‘이 사진이 저한테로 와있다. 이게 바로 문제다. 후보자는 공개하지 않았는데 검찰에 압수수색이 된 표창장은 저한테로 들어와 있다.’ 이 말이 이제 문제가 된다. 결국 이 말을 분석해 보면 팩트는 그냥 본인이 주장하는 팩트는 이미 나와 있다.  첫 번째 조국 후보자는 이 칼라본을 공개하지 않았다. 두 번째 검찰에서 압수수색한 표창장은 바로 이 칼라본이다. 검찰의 그 압수수색한 이 칼라본이 박지원 전 의원 손에 들어와 있다. 이게 지금 본인 주장하는 그 사실관계이다. 결국 이 말을 듣고 많은 국민들께서는 저를 포함해서 ‘야 검찰에서 이거 흘렸구나. 결국 검찰이 피의 사실 공표한 거구나.’ 이렇게 알 수밖에 없다. 그랬는데 며칠 뒤에 검찰이 압수수색한 그 동양대 표창장은 흑백사본이라고 한다. 그러면 과연 그 박지원 전 의원이 가지고 있는 그 동양대 표창장은 누구로부터 받은 것인가 물었다. 사실은 질문을 누구로부터 받았냐고 물어보면 안되고 검찰에서 압수수색된 표창장이 바로 칼라본이라고 했는데 그러면 왜 칼라본은 흑백인데 그 칼라본 도대체 어떻게 된 것인가. 검찰 누구로부터 받았는가. 아니면 거짓말하시는 거냐. 아니면 귀신으로부터 받았냐, 아니면 위조하셨냐. 뭐 이렇게 물어야 하는 것 아닌가.  그런데 결과는 흐지부지된다. 박지원 전 의원이 이렇게 얘기한다. 조국 후보자도 아니고 따님도 아니고 검찰도 아니라고 한다. 그냥 의정활동 차원에서 입수된 것이기 때문에 자기가 그건 얘기할 수 없다고 한다. 궁금하지 않으신가. 저는 이게 머릿속에서 늘 궁금했다. 과연 이렇게 처음에 본인이 주장하는 그 사실관계에 대해서는 적어도 밝혀주셔야 하지 않겠는가. 그리고 방송활동 하셔야 하지 않을까.<김용태 청년최고위원>  서해 공무원 피살 사건의 월북몰이가 바뀌었듯 그간 잘못되었던 것이 상식과 순리에 따라 바로잡혀 나가고 있음을 실감한다. 지난 정부에서 경험했던 비정상적인 상황들이 정상화되는 모습에 안도감을 느낀다. 비정상적이던 문제가 최근 제대로 바로 잡힌 사건이 하나 더 있었다.  단국대 대자보 사건이다. 당시 문재인 대통령을 비판하는 대자보를 단국대 건물에 붙였다는 이유로 한 학생이 재판에 서야 했다. 대자보 내용과 관련해서 처벌하기 어려웠던 수사기관은 학생에게 건조물침입 혐의를 적용했다. 심지어 해당 건물에 관리 주체인 단국대조차 처벌을 원치 않는다고 입장을 밝혔음에도 불구하고 1심 판결은 벌금 50만원을 선고했었다.  하지만 최근 법원은 원심을 파기하고 무죄를 확정했다. 정권이 바뀌고 나서야 비정상이 정상이 되는 모습이다. 이 사건은 표현의 자유 침해라는 비판이 있었다. 과거 학생운동을 하면서 표현의 자유를 근거로 대자보를 붙였던 경험이 있는 민주당 586 운동권 세력이 정권을 잡고 있었음에도 문재인 대통령을 비판한 괘씸죄가 작용했던 것은 아닌지 내로남불에 대한 의구심이 들었던 바 있다. 그동안 마음고생 했을 사건 당사자에게 이 자리를 빌려 심심한 위로를 전한다.  복합적인 경제위기가 다가오고 있고 경제 문제에 중요성도 커지고 있다. 당연히 먹고 사는 문제인 경제가 중요하고 민생도 중요하다. 하지만 국가는 왜 존재하는지, 그리고 왜 정치를 하는지에 대한 정치권의 성찰 또한 우리가 간과해서는 안 되는 소중한 가치이다. 우리가 공기처럼 자연스럽게 누리는 자유, 평등, 인권 등 헌법가치의 소중함을 다시 한번 깨닫고 확고한 헌법 정신이 후대에도 지속적으로 이어져 나갈 수 있도록 지켜내겠다.  <성일종 정책위의장>  정부가 지난 1일 쌀 시장 안정을 위해 쌀 10만톤 시장격리를 발표했다. 많은 농민단체가 3차 시장격리를 요구해 왔는데, 농민 여러분의 근심을 조금이라도 덜 수 있게 되어 다행이라고 생각을 한다. 국민의힘도 3차 추가격리를 조속히 시행해 줄 것을 요청한 바 있다. 물가 부담 등 어려운 여건이지만 농민들의 상황을 고려하여, 당의 요구를 적극 수용한 추경호 부총리를 비롯한 정부의 결단을 높이 평가한다. 농민들에게도 큰 힘이 되기를 바란다. 지금 대한민국은 유례없는 경제위기 상황이다. 위기를 극복하기 위해서는 정부와 정치권, 그리고 기업과 노동자 등 모든 구성원들의 협조와 고통 분담이 반드시 필요하다.  2일 민주노총은 서울 도심에서 전국노동자대회를 대규모로 열어 도심을 마비시켰다. 민생이 위기에 처해있음을 민주노총도 잘 알고 있을 것이다. 국민의 고통을 외면하는 것은 노조가 아니다. 코로나19와 원자재 및 물가 상승으로 폐업이 속출하는 상황에서 휴일의 매상이라도 기대하며 문을 연 소상공인 자영업자들에게 대규모 시위가 치명적 손실을 주고 있다. 억대에 가까운 연봉을 받는 귀족노조의 의미 없는 거리 투쟁이 국민의 공감을 받을 수 있겠는가. 지금은 위기를 함께 극복하기 위하여 힘을 모을 때이다. 상습화된 거리 투쟁으로 국민의 일상을 파괴해선 안 된다. 국민들 모두 힘을 모아 경제위기를 극복해야 한다. 민주노총도 고통 분담에 동참해 주시기 바란다. 국민의 삶에 해가 되는 불법적 행위가 있다면 정부는 엄정 조치해주시기 바란다.  원자재 상승, 환율 폭등, 전기료 인상 등 중소기업이 매우 어렵다. 중소기업은 우리 경제의 허리이며 대기업의 동반자이다. 위기의 경제 상황을 돌파할 유일한 해결책은 상생이다. 함께 가야 한다. 고통을 조금씩 나누어져야 덜 무겁다. 일부 모범적 사례도 있지만, 납품단가 연동 등에 대한 대기업의 적극적 지원과 고통 분담이 필요할 때이다. 대기업만 혼자 갈 수 있겠는가. 어려운 중소기업의 손을 꼭 잡아주실 것을 간곡히 호소드린다. 국민의힘이 대통령 공약 1호 법안으로 제출한 납품단가 연동제 법안을 조속히 국회가 통과시켜 상생의 길을 열 수 있도록 민주당은 국회를 조건 없이 정상화해주시기 바란다. 경제위기 극복에 힘을 모아주시라. 여, 야 대기업과 중소기업, 노조, 국민 모두 힘을 모아 주시라.  어제 우상호 더불어민주당 비상대책위원장은 “자신과 경쟁했던 후보를 수사하는 이런 나라를 본 적이 없다. 경제와 민생을 잘 안 챙기고 보복 수사에 몰두하는 모습을 국민들이 지지하겠냐”라고 말했다. 정말 팩트를 몰라서 하시는 말씀인가. 아니면 수사의 칼날을 정치보복으로 몰아 피해자인 양 국민을 속이려는 술수인가. 정확한 팩트를 다시 한번 돌려드리겠다. 성남FC 후원금 의혹, 경기도 법인카드 유용 의혹, 변호사비 대납 의혹, 대장동 사건은 윤석열 정부와는 아무런 관련이 없는 문재인 정부의 사건들이다. 우선 성남FC 후원금 관련 사건은 2018년 6월 지방선거 과정에서 바른미래당이 고발한 사건임을 알려드린다.  올해서야 압수수색을 한 것은 친문의 대표적 검사인 박은정 성남 지청장이 부당하게 이를 막았기 때문에 그 결과 유능하고 정직한 검사가 옷을 벗고 떠나기까지 했다. 4년 전 문재인 정부 하에서 있었던 일임을 다시 한번 상기시켜드린다. 법인카드 관련 사건 역시 이재명 전 지사의 경기도청 공무원의 문제 제기로 시작된 문제이고, 결정적으로 경기도가 감사를 마치고 직원을 고발한 것 아닌가. 이재명 전 지사에게 물어볼 일을 왜 덮어씌우기를 하는지 모르겠다. 변호사비 대납 사건도 마찬가지이다. 작년 10월 깨어있는 시민연대당이 허위사실 공표에 따른 공직선거법 위반 혐의로 대검찰청에 고발해 수사하고 있는 사안이다. 깨어있는 시민연대당이 윤석열 대통령과 무슨 관련 있는가.  대장동 사건은 이재명 의원님께서 단군 이래 최대 공익 환수한 최고의 업적이라는데, 수사해서 비리가 없는 것이 밝혀지면 이재명 의원 대권가도에 비단길이 열리는 것을 왜 그리 무서워하시는가. 국민의힘 게이트라고 하지 않았는가. 민주당에는 호재인 사건이다. 우상호 대표님! 문재인 정부하에서 벌어진 일이고 고발된 사건들이다. 민주당이 떳떳하게 수사를 왜 늦추냐고 독려해야 하는 것 아닌가. 정치보복이라는 프레임으로 피해자인 것처럼 호도하지 마시기를 바란다. 국민들은 현명하다는 것을 다시 한번 말씀을 드린다.  지난주 국민권익위에 ‘2020년 서해 공무원 피살 사건’과 ‘2019년 탈북 선원 강제 북송 사건’ 당시 문재인 정부의 대처가 국민의 권리보호 측면에서 타당한 것이었는지 여부에 대해 유권해석을 저는 요청했었다. 민주당 국회의원 출신 전현희 위원장이 이끄는 국민권익위의 답변은 “답변할 수 없다”는 것이었다. 국민권익위 관계자는 언론과의 통화해서 “이 사안은 저희 소관이라고 볼 수 있는지부터 검토가 필요하다”는 무책임한 말을 했다. 도대체 전현희 위원장이 이끄는 국민권익위가 맞는가. 혹시 ‘민주당권익위’나 ‘문재인 정권 권익위’인 것으로 착각을 하는 것 아닌가. 부패방지권익위법 제12조에 따르면 권익위의 업무 중 하나는 ‘국민의 권리보호와 권익구제’이다.  죄 없는 우리 공무원을 월북자로 몰아 유족의 눈에 피눈물 나게 만든 것은 명백히 우리 국민의 권리와 권익을 짓밟은 일이다. 권익위가 답변을 못 하면 국민 권익을 어느 부처에 물어야 한단 말인가. 헌법상 북한주민도 우리 국민이다. 탈북 선원을 강제 북송한 사건은 우리 국민이 된 소중한 생명을 정권의 이익을 위해 북한 정권의 사형대 위에 바친 끔찍한 사건이다. 자기 국민의 권익조차 상납해버린 정권 아닌가. 이에 대해 답변을 할 수 없다는 권익위원장에게 어찌 국민의 권익을 맡길 수가 있겠는가.  전현희 위원장의 권익위는 이미 문재인 정권 임기 동안 철저히 문재인 정권과 민주당 편에 서서 불공정한 유권해석을 연달아 내놓은 바가 있다. 추미애 전 장관 아들의 군 특혜 의혹과 관련해서 “직무 관련성이 없다”고 판단했으며, 이용구 전 법무부 차관이 ‘월성 원전 1호기 경제성 조작 사건’ 변호를 맡다가 법무부 고위직으로 직행하거나, 박범계 의원이 공동폭행 혐의로 기소된 피고인 신분으로 법무부 장관 업무를 수행하는 것도 모두 문제가 없다는 취지로 결론을 내린 바 있다.  전현희 위원장은 새 정부에서 임기를 유지하는 ‘알박기’ 논란과 관련해서 “법률이 정한 국민권익 보호의 역할을 성실히 수행하겠다”고 말했는데, 국민권익이 아니라 민주당의 권익을 끝까지 보호하기 위해 그 자리를 지키고 있는 것 아닌가. 국민이 선출한 윤석열 대통령의 국정철학에 역주행하면서 도대체 언제까지 그 자리에서 국민의 뜻을 거스를 생각이신가. 전현희 위원장의 국민권익위에 다시 묻습니다. 문재인 정권이 우리 해수부 공무원을 월북자로 몰았던 것과 헌법상 명백히 우리 국민인 탈북 선원들을 강제 북송한 것이 우리 국민의 권리보호 측면에서 타당했는지 다시 묻는다. 대답이 어려우면 직을 내려놓으시기 바란다.  <한기호 사무총장>  방금 정책위의장 성일종 의원께서 말씀하셨지만, 해수부 공무원의 사살, 소각에 대해서 당에서 진상규명 중에 있다. 하나씩 밝혀지는 내용을 볼 때마다 정책위의장께서 말씀하신 것처럼 국민의 인권은 완전히 무시됐다. 그리고 또 귀순 어부 2명에 대해서 판문점을 통해 강제 북송한 사건도 천인공노할 노릇이다.  오늘 아침 어느 일간지에 동해안 NLL에서 월남한 어선을 나포에서 심문했다는 이유로 박한기 합창의장을 청와대 행정관이 4시간 동안 조사했다는 기사가 있다. 도대체 북한에 얼마나 많은 것을 양보하기 위해서 이런 짓을 했는가. 제가 일부 제보받기로는 동해안 상으로 월남한 어선들을 강제 밀어내기식으로 쫓아낸 사례들이 다수 있다는 보고를 받았다. 이제는 이와 같은 국방태세를 와해시키고 국방태세를 약화한 데 대한 전반적인 조사를 다시 해야 한다. 이것은 정권 심판도 아니고 국가 안보에 유해했던 사안들을 정확하게 제자리로 돌려놓기 위한 필요한 사안이다. 반드시 이와 같은 사안들에 대해 전반적으로 점검하고 확인하고 진상을 규명해야 한다.'"
      ]
     },
     "execution_count": 85,
     "metadata": {},
     "output_type": "execute_result"
    }
   ],
   "source": [
    "test_df.iloc[2307, 3]"
   ]
  },
  {
   "cell_type": "code",
   "execution_count": 84,
   "id": "dd27ad4b",
   "metadata": {
    "collapsed": true
   },
   "outputs": [
    {
     "data": {
      "text/plain": [
       "'7월 4일 최고위원회의 주요내용은 다음과 같다.  <권성동 원내대표>  여야 합의로 국회의장을 선출했던 것은 1987년부터 이어온 우리 국회의 오랜 전통이다. 2008년 18대 국회 당시 야당인 통합민주당은 81석에 불과했지만, 김형오 국회의장 내정자는 단독으로 국회를 소집하지 않고 여야 합의를 기다렸다. 그런데 민주당은 21대 국회 전반기에 이어서 또다시 의장단을 단독으로 선출하겠다고 공헌하였다. 절대다수 의석을 가진 민주당의 오만과 독선의 결과이다.  국회법상 본회의 단독 소집 근거는 없다. 국회의장 공석 시 본회의 개의와 안건은 오직 교섭단체 간 합의로만 정할 수 있다. 민주당의 단독 본회의 소집, 단독 선출을 명백한 불법이다. 민주당이 일방적으로 데드라인을 정해놓고 소수당을 압박하는 것, 역시 온당치 못한 태도지만 우리 국민의힘은 어떻게든 국회를 정상화해야 한다는 절박한 심정으로 최대한 양보하며 협상에 임했다.  하지만 민주당은 원구성 협상과 전혀 무관한 검수완박 합의 이행을 전제조건으로 내세웠다. 우리당으로서는 결코 수용할 수 없는 내용이다. 사개특위 구성은 검수완박에 따른 후속조치이다. 검수완박 합의는 이미 파기되었다. 파기된 합의를 이행할 이유가 없거니와 사개특위 구성에 동의하는 것은 민주당의 검수완박 강행처리에 면죄부를 주는 것밖에 되지 않는다.  우리당은 물론 정부도 검수완박 강행처리 과정의 불법성, 위헌성에 대하여 헌법재판소의 권한쟁의 및 효력정지가처분을 제기하였고 헌재의 판단을 기다리고 있다. 설령 구성을 논의하더라도 헌재의 결정 뒤로 미루는 것이 합리적이다. 이에 협상 과정에서 사개특위 문제는 헌법재판소의 결정 뒤에 논의하자 그것마저도 어렵다면은 사개특위 구성은 여야 5:5로 하고 위원장은 국민의힘이 맡도록 하자는 절충안을 제시했지만, 민주당은 끝내 거부하였다. 민생을 볼모로 삼아 우리 국민의힘을 검수완박 공보물로 만들고 사개특위마저 힘의 논리로 일방 운영하겠다는 것 아닌 이상 거부하는 이유와 명분을 찾기 어렵다. 민주당은 앞에서는 민생이 어렵다고 목소리를 높이면서 뒤에서는 검수완박 악법 완성에만 열을 올리려는 이중플레이를 하고 있다.  민주당의 국회의장 단독 선출 강행은 절대다수 의석으로 입법폭주를 일삼겠다는 선전포고이다. 입법폭주는 자멸로 이르는 지름길이다. 국민들은 협치를 바라고 계신다. 우리 국회가 또다시 절대 다수당의 입법독주로 흐린다면 국민 신뢰를 회복할 수 없다. 원구성의 본질은 의장단과 상임위원장을 선출하는 것이다. 복잡하게 이것저것 끼워 넣지 말고 원칙으로 돌아가야 한다. 민주당이 국회의장과 법사위원장을 제1, 2 교섭단체가 교차해서 맡고 11:7로 상임위원장을 배분하기로 한 약속을 이행한다면 우리 국민의힘은 국회의장단 선출에 언제든지 협조할 준비가 되어있다. 지금은 민생안정을 위해서 여야가 협치하여야 할 때이다. 민주당은 입법폭주의 강을 넘어서는 안된다.  <조수진 최고위원>  첫 폭염 경보가 벌써 지난달 20일 발령되는 등 폭염이 기승을 부리고 있다. 문재인 정부의 ‘닥치고 원천, 닥치고 탈원전’, 우크라이나 사태 장기화 등 복합적 요인으로 물가가 급등하면서 쪽방촌 거주민, 홀몸 노약자, 거동이 불편한 장애인 등 사회적 약자, 냉방 약자의 고통은 훨씬 클 것이다. 실제로 온열질환 사망위험은 저소득층에게 18%나 높은 것으로 보도됐다. 만 2년 넘게 계속된 코로나19 여파로 전국의 경로당이 여전히 문을 열지 못하고 있고 어르신들 무더위 쉼터의 역할을 못하고 있다는 안타까운 보도도 이어지고 있다.  폭염에 따른 사회적 약자의 어려움을 덜어드리기 위해선 지역의 세세한 사정을 가장 잘 아는 지방자치단체장이 거주지 점검 등에 발 벗고 나서야 실질적인 효과를 거둘 수 있다. 더불어민주당에 자멸과 자충수로 지난 6일 지방선거에서 국민의힘 소속 광역단체장 기초단체장이 다수 배출됐고 그만큼 폭염 대응은 시험대가 될 것이다. 폭염은 2018년 법적 자연재난에 포함돼 있고 국민의힘은 약자와의 동행을 지향하고 있다. 냉방 약자부터 제대로 챙겨주시길 당부드린다. 기민하게 제대로 대응하는 단체장의 지역은 당적과 관계없이 확실한 예산 지원으로 보답하겠다.  정부가 최대치까지 끌어올린 유류세 인하 효과가 체감으로 이어지지 않고 있다. 전쟁과 공급난 여파로 세금감면보다 유류값 상승에 따른 기름값 오름폭이 훨씬 크기 때문이다. 기름값은 각종 재료비, 생활비, 임금 등 물가 전반을 주도한다. 주유소가 부담하고 있는 카드 수수료를 탄력적으로 조정하는 방안을 카드사가 검토할 필요가 있다. 복합적 요인으로 치솟는 물가를 억제하기 위한 노력에 카드사 스스로도 나서주실 것을 부탁드린다. 국회는 유류세 인하 조정 폭을 넓히는 법안들이 제출돼 있다. 더불어민주당은 국회 내 여당이다. 조건 달지 말고 하루속히 국회 원구성 협상 타결에 나서주시라. 알뜰주유소, 유가환급금 제도 등 과거를 교훈 삼아 비상한 대응책을 시급히 강구해야 하는 비상한 시기이다.  <정미경 최고위원>  요즘 방송에서 왕성한 활동을 하고 계시는 박지원 전 의원께 묻고 싶다. 조국 전 장관 청문회장에서 박지원 전 의원이 스마트폰을 내보이면서 동양대 표창장 컬러본 사진을 보여주었다.  그리고 물었다. ‘이 사진이 저한테로 와있다. 이게 바로 문제다. 후보자는 공개하지 않았는데 검찰에 압수수색이 된 표창장은 저한테로 들어와 있다.’ 이 말이 이제 문제가 된다. 결국 이 말을 분석해 보면 팩트는 그냥 본인이 주장하는 팩트는 이미 나와 있다.  첫 번째 조국 후보자는 이 칼라본을 공개하지 않았다. 두 번째 검찰에서 압수수색한 표창장은 바로 이 칼라본이다. 검찰의 그 압수수색한 이 칼라본이 박지원 전 의원 손에 들어와 있다. 이게 지금 본인 주장하는 그 사실관계이다. 결국 이 말을 듣고 많은 국민들께서는 저를 포함해서 ‘야 검찰에서 이거 흘렸구나. 결국 검찰이 피의 사실 공표한 거구나.’ 이렇게 알 수밖에 없다. 그랬는데 며칠 뒤에 검찰이 압수수색한 그 동양대 표창장은 흑백사본이라고 한다. 그러면 과연 그 박지원 전 의원이 가지고 있는 그 동양대 표창장은 누구로부터 받은 것인가 물었다. 사실은 질문을 누구로부터 받았냐고 물어보면 안되고 검찰에서 압수수색된 표창장이 바로 칼라본이라고 했는데 그러면 왜 칼라본은 흑백인데 그 칼라본 도대체 어떻게 된 것인가. 검찰 누구로부터 받았는가. 아니면 거짓말하시는 거냐. 아니면 귀신으로부터 받았냐, 아니면 위조하셨냐. 뭐 이렇게 물어야 하는 것 아닌가.  그런데 결과는 흐지부지된다. 박지원 전 의원이 이렇게 얘기한다. 조국 후보자도 아니고 따님도 아니고 검찰도 아니라고 한다. 그냥 의정활동 차원에서 입수된 것이기 때문에 자기가 그건 얘기할 수 없다고 한다. 궁금하지 않으신가. 저는 이게 머릿속에서 늘 궁금했다. 과연 이렇게 처음에 본인이 주장하는 그 사실관계에 대해서는 적어도 밝혀주셔야 하지 않겠는가. 그리고 방송활동 하셔야 하지 않을까.<김용태 청년최고위원>  서해 공무원 피살 사건의 월북몰이가 바뀌었듯 그간 잘못되었던 것이 상식과 순리에 따라 바로잡혀 나가고 있음을 실감한다. 지난 정부에서 경험했던 비정상적인 상황들이 정상화되는 모습에 안도감을 느낀다. 비정상적이던 문제가 최근 제대로 바로 잡힌 사건이 하나 더 있었다.  단국대 대자보 사건이다. 당시 문재인 대통령을 비판하는 대자보를 단국대 건물에 붙였다는 이유로 한 학생이 재판에 서야 했다. 대자보 내용과 관련해서 처벌하기 어려웠던 수사기관은 학생에게 건조물침입 혐의를 적용했다. 심지어 해당 건물에 관리 주체인 단국대조차 처벌을 원치 않는다고 입장을 밝혔음에도 불구하고 1심 판결은 벌금 50만원을 선고했었다.  하지만 최근 법원은 원심을 파기하고 무죄를 확정했다. 정권이 바뀌고 나서야 비정상이 정상이 되는 모습이다. 이 사건은 표현의 자유 침해라는 비판이 있었다. 과거 학생운동을 하면서 표현의 자유를 근거로 대자보를 붙였던 경험이 있는 민주당 586 운동권 세력이 정권을 잡고 있었음에도 문재인 대통령을 비판한 괘씸죄가 작용했던 것은 아닌지 내로남불에 대한 의구심이 들었던 바 있다. 그동안 마음고생 했을 사건 당사자에게 이 자리를 빌려 심심한 위로를 전한다.  복합적인 경제위기가 다가오고 있고 경제 문제에 중요성도 커지고 있다. 당연히 먹고 사는 문제인 경제가 중요하고 민생도 중요하다. 하지만 국가는 왜 존재하는지, 그리고 왜 정치를 하는지에 대한 정치권의 성찰 또한 우리가 간과해서는 안 되는 소중한 가치이다. 우리가 공기처럼 자연스럽게 누리는 자유, 평등, 인권 등 헌법가치의 소중함을 다시 한번 깨닫고 확고한 헌법 정신이 후대에도 지속적으로 이어져 나갈 수 있도록 지켜내겠다.  <성일종 정책위의장>  정부가 지난 1일 쌀 시장 안정을 위해 쌀 10만톤 시장격리를 발표했다. 많은 농민단체가 3차 시장격리를 요구해 왔는데, 농민 여러분의 근심을 조금이라도 덜 수 있게 되어 다행이라고 생각을 한다. 국민의힘도 3차 추가격리를 조속히 시행해 줄 것을 요청한 바 있다. 물가 부담 등 어려운 여건이지만 농민들의 상황을 고려하여, 당의 요구를 적극 수용한 추경호 부총리를 비롯한 정부의 결단을 높이 평가한다. 농민들에게도 큰 힘이 되기를 바란다. 지금 대한민국은 유례없는 경제위기 상황이다. 위기를 극복하기 위해서는 정부와 정치권, 그리고 기업과 노동자 등 모든 구성원들의 협조와 고통 분담이 반드시 필요하다.  2일 민주노총은 서울 도심에서 전국노동자대회를 대규모로 열어 도심을 마비시켰다. 민생이 위기에 처해있음을 민주노총도 잘 알고 있을 것이다. 국민의 고통을 외면하는 것은 노조가 아니다. 코로나19와 원자재 및 물가 상승으로 폐업이 속출하는 상황에서 휴일의 매상이라도 기대하며 문을 연 소상공인 자영업자들에게 대규모 시위가 치명적 손실을 주고 있다. 억대에 가까운 연봉을 받는 귀족노조의 의미 없는 거리 투쟁이 국민의 공감을 받을 수 있겠는가. 지금은 위기를 함께 극복하기 위하여 힘을 모을 때이다. 상습화된 거리 투쟁으로 국민의 일상을 파괴해선 안 된다. 국민들 모두 힘을 모아 경제위기를 극복해야 한다. 민주노총도 고통 분담에 동참해 주시기 바란다. 국민의 삶에 해가 되는 불법적 행위가 있다면 정부는 엄정 조치해주시기 바란다.  원자재 상승, 환율 폭등, 전기료 인상 등 중소기업이 매우 어렵다. 중소기업은 우리 경제의 허리이며 대기업의 동반자이다. 위기의 경제 상황을 돌파할 유일한 해결책은 상생이다. 함께 가야 한다. 고통을 조금씩 나누어져야 덜 무겁다. 일부 모범적 사례도 있지만, 납품단가 연동 등에 대한 대기업의 적극적 지원과 고통 분담이 필요할 때이다. 대기업만 혼자 갈 수 있겠는가. 어려운 중소기업의 손을 꼭 잡아주실 것을 간곡히 호소드린다. 국민의힘이 대통령 공약 1호 법안으로 제출한 납품단가 연동제 법안을 조속히 국회가 통과시켜 상생의 길을 열 수 있도록 민주당은 국회를 조건 없이 정상화해주시기 바란다. 경제위기 극복에 힘을 모아주시라. 여, 야 대기업과 중소기업, 노조, 국민 모두 힘을 모아 주시라.  어제 우상호 더불어민주당 비상대책위원장은 “자신과 경쟁했던 후보를 수사하는 이런 나라를 본 적이 없다. 경제와 민생을 잘 안 챙기고 보복 수사에 몰두하는 모습을 국민들이 지지하겠냐”라고 말했다. 정말 팩트를 몰라서 하시는 말씀인가. 아니면 수사의 칼날을 정치보복으로 몰아 피해자인 양 국민을 속이려는 술수인가. 정확한 팩트를 다시 한번 돌려드리겠다. 성남FC 후원금 의혹, 경기도 법인카드 유용 의혹, 변호사비 대납 의혹, 대장동 사건은 윤석열 정부와는 아무런 관련이 없는 문재인 정부의 사건들이다. 우선 성남FC 후원금 관련 사건은 2018년 6월 지방선거 과정에서 바른미래당이 고발한 사건임을 알려드린다.  올해서야 압수수색을 한 것은 친문의 대표적 검사인 박은정 성남 지청장이 부당하게 이를 막았기 때문에 그 결과 유능하고 정직한 검사가 옷을 벗고 떠나기까지 했다. 4년 전 문재인 정부 하에서 있었던 일임을 다시 한번 상기시켜드린다. 법인카드 관련 사건 역시 이재명 전 지사의 경기도청 공무원의 문제 제기로 시작된 문제이고, 결정적으로 경기도가 감사를 마치고 직원을 고발한 것 아닌가. 이재명 전 지사에게 물어볼 일을 왜 덮어씌우기를 하는지 모르겠다. 변호사비 대납 사건도 마찬가지이다. 작년 10월 깨어있는 시민연대당이 허위사실 공표에 따른 공직선거법 위반 혐의로 대검찰청에 고발해 수사하고 있는 사안이다. 깨어있는 시민연대당이 윤석열 대통령과 무슨 관련 있는가.  대장동 사건은 이재명 의원님께서 단군 이래 최대 공익 환수한 최고의 업적이라는데, 수사해서 비리가 없는 것이 밝혀지면 이재명 의원 대권가도에 비단길이 열리는 것을 왜 그리 무서워하시는가. 국민의힘 게이트라고 하지 않았는가. 민주당에는 호재인 사건이다. 우상호 대표님! 문재인 정부하에서 벌어진 일이고 고발된 사건들이다. 민주당이 떳떳하게 수사를 왜 늦추냐고 독려해야 하는 것 아닌가. 정치보복이라는 프레임으로 피해자인 것처럼 호도하지 마시기를 바란다. 국민들은 현명하다는 것을 다시 한번 말씀을 드린다.  지난주 국민권익위에 ‘2020년 서해 공무원 피살 사건’과 ‘2019년 탈북 선원 강제 북송 사건’ 당시 문재인 정부의 대처가 국민의 권리보호 측면에서 타당한 것이었는지 여부에 대해 유권해석을 저는 요청했었다. 민주당 국회의원 출신 전현희 위원장이 이끄는 국민권익위의 답변은 “답변할 수 없다”는 것이었다. 국민권익위 관계자는 언론과의 통화해서 “이 사안은 저희 소관이라고 볼 수 있는지부터 검토가 필요하다”는 무책임한 말을 했다. 도대체 전현희 위원장이 이끄는 국민권익위가 맞는가. 혹시 ‘민주당권익위’나 ‘문재인 정권 권익위’인 것으로 착각을 하는 것 아닌가. 부패방지권익위법 제12조에 따르면 권익위의 업무 중 하나는 ‘국민의 권리보호와 권익구제’이다.  죄 없는 우리 공무원을 월북자로 몰아 유족의 눈에 피눈물 나게 만든 것은 명백히 우리 국민의 권리와 권익을 짓밟은 일이다. 권익위가 답변을 못 하면 국민 권익을 어느 부처에 물어야 한단 말인가. 헌법상 북한주민도 우리 국민이다. 탈북 선원을 강제 북송한 사건은 우리 국민이 된 소중한 생명을 정권의 이익을 위해 북한 정권의 사형대 위에 바친 끔찍한 사건이다. 자기 국민의 권익조차 상납해버린 정권 아닌가. 이에 대해 답변을 할 수 없다는 권익위원장에게 어찌 국민의 권익을 맡길 수가 있겠는가.  전현희 위원장의 권익위는 이미 문재인 정권 임기 동안 철저히 문재인 정권과 민주당 편에 서서 불공정한 유권해석을 연달아 내놓은 바가 있다. 추미애 전 장관 아들의 군 특혜 의혹과 관련해서 “직무 관련성이 없다”고 판단했으며, 이용구 전 법무부 차관이 ‘월성 원전 1호기 경제성 조작 사건’ 변호를 맡다가 법무부 고위직으로 직행하거나, 박범계 의원이 공동폭행 혐의로 기소된 피고인 신분으로 법무부 장관 업무를 수행하는 것도 모두 문제가 없다는 취지로 결론을 내린 바 있다.  전현희 위원장은 새 정부에서 임기를 유지하는 ‘알박기’ 논란과 관련해서 “법률이 정한 국민권익 보호의 역할을 성실히 수행하겠다”고 말했는데, 국민권익이 아니라 민주당의 권익을 끝까지 보호하기 위해 그 자리를 지키고 있는 것 아닌가. 국민이 선출한 윤석열 대통령의 국정철학에 역주행하면서 도대체 언제까지 그 자리에서 국민의 뜻을 거스를 생각이신가. 전현희 위원장의 국민권익위에 다시 묻습니다. 문재인 정권이 우리 해수부 공무원을 월북자로 몰았던 것과 헌법상 명백히 우리 국민인 탈북 선원들을 강제 북송한 것이 우리 국민의 권리보호 측면에서 타당했는지 다시 묻는다. 대답이 어려우면 직을 내려놓으시기 바란다.  <한기호 사무총장>  방금 정책위의장 성일종 의원께서 말씀하셨지만, 해수부 공무원의 사살, 소각에 대해서 당에서 진상규명 중에 있다. 하나씩 밝혀지는 내용을 볼 때마다 정책위의장께서 말씀하신 것처럼 국민의 인권은 완전히 무시됐다. 그리고 또 귀순 어부 2명에 대해서 판문점을 통해 강제 북송한 사건도 천인공노할 노릇이다.  오늘 아침 어느 일간지에 동해안 NLL에서 월남한 어선을 나포에서 심문했다는 이유로 박한기 합창의장을 청와대 행정관이 4시간 동안 조사했다는 기사가 있다. 도대체 북한에 얼마나 많은 것을 양보하기 위해서 이런 짓을 했는가. 제가 일부 제보받기로는 동해안 상으로 월남한 어선들을 강제 밀어내기식으로 쫓아낸 사례들이 다수 있다는 보고를 받았다. 이제는 이와 같은 국방태세를 와해시키고 국방태세를 약화한 데 대한 전반적인 조사를 다시 해야 한다. 이것은 정권 심판도 아니고 국가 안보에 유해했던 사안들을 정확하게 제자리로 돌려놓기 위한 필요한 사안이다. 반드시 이와 같은 사안들에 대해 전반적으로 점검하고 확인하고 진상을 규명해야 한다.    2022. 7. 4.  국민의힘 공보실'"
      ]
     },
     "execution_count": 84,
     "metadata": {},
     "output_type": "execute_result"
    }
   ],
   "source": [
    "df.iloc[2307,3]"
   ]
  },
  {
   "cell_type": "code",
   "execution_count": 86,
   "id": "b5a94c37",
   "metadata": {},
   "outputs": [],
   "source": [
    "test_df.to_csv(os.path.join(output_dir, 'final_NPP.csv'), index=False, encoding='utf-8')"
   ]
  },
  {
   "cell_type": "code",
   "execution_count": null,
   "id": "fddc30d1",
   "metadata": {},
   "outputs": [],
   "source": []
  }
 ],
 "metadata": {
  "kernelspec": {
   "display_name": "Python 3 (ipykernel)",
   "language": "python",
   "name": "python3"
  },
  "language_info": {
   "codemirror_mode": {
    "name": "ipython",
    "version": 3
   },
   "file_extension": ".py",
   "mimetype": "text/x-python",
   "name": "python",
   "nbconvert_exporter": "python",
   "pygments_lexer": "ipython3",
   "version": "3.10.9"
  }
 },
 "nbformat": 4,
 "nbformat_minor": 5
}
